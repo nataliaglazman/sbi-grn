{
 "cells": [
  {
   "cell_type": "code",
   "execution_count": 142,
   "metadata": {},
   "outputs": [],
   "source": [
    "import numpy as np\n",
    "import torch\n",
    "from sklearn.model_selection import KFold, cross_val_score\n",
    "from sklearn.neural_network import MLPClassifier\n",
    "from sklearn.metrics import confusion_matrix\n",
    "from sklearn.model_selection import GridSearchCV\n",
    "import sklearn\n",
    "import pandas as pd\n",
    "import glob\n",
    "import matplotlib.pyplot as plt\n",
    "from sklearn.metrics import accuracy_score\n",
    "from sklearn.metrics import f1_score"
   ]
  },
  {
   "cell_type": "code",
   "execution_count": 143,
   "metadata": {},
   "outputs": [],
   "source": [
    "def c2st(\n",
    "    X: torch.Tensor,\n",
    "    Y: torch.Tensor,\n",
    "    seed: int = 1,\n",
    "    n_folds: int = 5\n",
    ") -> torch.Tensor:\n",
    "    \"\"\"Classifier-based 2-sample test returning accuracy, modified from SBIBM\n",
    "    Args:\n",
    "        X: Sample 1\n",
    "        Y: Sample 2\n",
    "        seed: Seed for sklearn\n",
    "        n_folds: Number of folds. Initially set to 5\n",
    "    \"\"\"\n",
    "    ndim = X.shape[1]\n",
    "    data = np.concatenate((X, Y))\n",
    "    target = np.concatenate(\n",
    "        (\n",
    "            np.zeros((X.shape[0],)),\n",
    "            np.ones((Y.shape[0],)),\n",
    "        )\n",
    "    )\n",
    "    X_train, X_test, y_train, y_test=sklearn.model_selection.train_test_split(data, target, test_size=0.2, random_state=None, shuffle=True)\n",
    "    mlp = MLPClassifier(max_iter=10000)\n",
    "    parameter_space = {\n",
    "        'hidden_layer_sizes': [(ndim,ndim)],\n",
    "        'solver': ['adam'],\n",
    "        'alpha': [0.0001, 0.05],\n",
    "        'learning_rate': ['constant','adaptive'],\n",
    "    }\n",
    "    shuffle = KFold(n_splits=5, shuffle=True, random_state=seed)\n",
    "    clf = GridSearchCV(mlp, parameter_space, n_jobs=-1, cv=shuffle)\n",
    "    clf.fit(X_train, y_train)\n",
    "    #means = clf.cv_results_['mean_test_score']\n",
    "    #stds = clf.cv_results_['std_test_score']\n",
    "    #for mean, std, params in zip(means, stds, clf.cv_results_['params']):\n",
    "        #print(\"%0.3f (+/-%0.03f) for %r\" % (mean, std * 2, params))\n",
    "    #print('Best parameters found:\\n', clf.best_params_)\n",
    "    y_pred=clf.predict(X_test)\n",
    "    return accuracy_score(y_test, y_pred)\n"
   ]
  },
  {
   "cell_type": "code",
   "execution_count": 144,
   "metadata": {},
   "outputs": [],
   "source": [
    "def compare(method, param_set):\n",
    "    # Load data\n",
    "    folder_path = '/Users/E_V_/Documents/GitHub/Trial/sbi-grn/Final_noisy_data/' \n",
    "    #just set this to your github folder here\n",
    "    \n",
    "    pattern = folder_path + method + '/*set'+str(param_set)+'*.csv'\n",
    "    file = glob.glob(pattern)\n",
    "    file_path = file[0]  \n",
    "    df_neural = pd.read_csv(file_path,header=0,names=['k1','k2','k3','a1','a2','a3'])\n",
    "    pattern = folder_path + 'SMC/'+'*set*'+str(param_set)+'.out'\n",
    "    smc_file= glob.glob(pattern)\n",
    "    df_smc = pd.read_csv(smc_file[0],header=0, delimiter=' ',names=['k1','k2','k3','a1','a2','a3'])\n",
    "    X = torch.tensor(df_neural.values)\n",
    "    Y = torch.tensor(df_smc.values)\n",
    "    c2st_score=c2st(X,Y)\n",
    "    return(c2st_score)"
   ]
  },
  {
   "cell_type": "code",
   "execution_count": 145,
   "metadata": {},
   "outputs": [],
   "source": [
    "c2st_list=[]\n",
    "for method in ['SNRE','SNLE']:\n",
    "    for param_set in range(1,6):\n",
    "        compare(method,param_set)\n",
    "        c2st_list.append([method, str(param_set), compare(method,param_set)])\n"
   ]
  },
  {
   "cell_type": "code",
   "execution_count": 141,
   "metadata": {},
   "outputs": [
    {
     "data": {
      "text/plain": [
       "1.0"
      ]
     },
     "execution_count": 141,
     "metadata": {},
     "output_type": "execute_result"
    }
   ],
   "source": [
    "# a bit of trial for SNPE, SNRE, SNLE results inter-comparison\n",
    "df_snpe = pd.read_csv('/Users/E_V_/Documents/GitHub/Trial/sbi-grn/Final_noisy_data/SNPE/ss_6p_set1.csv',header=0,names=['k1','k2','k3','a1','a2','a3'])\n",
    "X = torch.tensor(df_snpe.values)\n",
    "df_snre=pd.read_csv('/Users/E_V_/Documents/GitHub/Trial/sbi-grn/Final_noisy_data/SNRE/6p-5*3000_unnorm_ss_noisy_set1.csv',header=0,names=['k1','k2','k3','a1','a2','a3'])\n",
    "Y=torch.tensor(df_snre.values)\n",
    "df_snle=pd.read_csv('/Users/E_V_/Documents/GitHub/Trial/sbi-grn/Final_noisy_data/SNLE/FINAL_SNLE_noise_SS-6p(k1, k2, k3, a1, a2, a3)-param_set1-5*3000.csv',header=0,names=['k1','k2','k3','a1','a2','a3'])\n",
    "Z=torch.tensor(df_snle.values)\n",
    "c2st(X,Y)"
   ]
  },
  {
   "cell_type": "code",
   "execution_count": 91,
   "metadata": {},
   "outputs": [],
   "source": [
    "SNRE_mean_C2ST=np.mean([c2st_list[i][2] for i in range(5)])\n",
    "SNLE_mean_C2ST=np.mean([c2st_list[i][2] for i in range(5,10)])\n",
    "SNRE_std_C2ST=np.std([c2st_list[i][2] for i in range(1,5)])\n",
    "SNLE_std_C2ST=np.std([c2st_list[i][2] for i in range(5,10)])"
   ]
  },
  {
   "cell_type": "code",
   "execution_count": 146,
   "metadata": {},
   "outputs": [],
   "source": [
    "c2st_scores=[SNLE_mean_C2ST,SNRE_mean_C2ST,0.6969]\n",
    "c2st_std=[SNLE_std_C2ST,SNRE_std_C2ST,0.069]\n",
    "algorithm=['SNLE','SNRE','SNPE (NOT REAL)']"
   ]
  },
  {
   "cell_type": "code",
   "execution_count": 147,
   "metadata": {},
   "outputs": [
    {
     "data": {
      "image/png": "[encoded data removed]",
      "text/plain": [
       "<Figure size 640x480 with 1 Axes>"
      ]
     },
     "metadata": {},
     "output_type": "display_data"
    }
   ],
   "source": [
    "colors = ['skyblue', 'orange','coral']\n",
    "plt.errorbar(algorithm, c2st_scores, yerr=c2st_std, fmt='o', color='None', ecolor='black', capsize=5)\n",
    "plt.bar(algorithm,c2st_scores,color=colors,alpha=0.7)\n",
    "plt.ylim(0.5,1)\n",
    "plt.ylabel('C2ST score')\n",
    "#increase font size of y axis labels\n",
    "plt.xticks(fontsize=12)\n",
    "plt.yticks(fontsize=12)\n",
    "plt.ylabel('C2ST Score', fontsize=14)\n",
    "\n",
    "\n",
    "\n",
    "plt.savefig('C2ST_score.png',dpi=400)"
   ]
  }
 ],
 "metadata": {
  "kernelspec": {
   "display_name": "Python 3",
   "language": "python",
   "name": "python3"
  },
  "language_info": {
   "codemirror_mode": {
    "name": "ipython",
    "version": 3
   },
   "file_extension": ".py",
   "mimetype": "text/x-python",
   "name": "python",
   "nbconvert_exporter": "python",
   "pygments_lexer": "ipython3",
   "version": "3.11.7"
  }
 },
 "nbformat": 4,
 "nbformat_minor": 2
}
