{
 "cells": [
  {
   "cell_type": "code",
   "execution_count": 1,
   "metadata": {},
   "outputs": [],
   "source": [
    "import random\n",
    "random.seed(42)\n",
    "import numpy as np\n",
    "import matplotlib.pyplot as plt\n",
    "from scipy.integrate import odeint"
   ]
  },
  {
   "cell_type": "code",
   "execution_count": 8,
   "metadata": {},
   "outputs": [],
   "source": [
    "import numpy as np\n",
    "\n",
    "class MyModel:\n",
    "    def __init__(self, k1=1, k2=1, k3=1, a1=1, a2=1, a3=1, g1=1, g2=1, g3=1, n1=1, n2=1, n3=1, b1=1, b2=1, b3=1,dm1 = 1.143402097500176,dm2= 1.143402097500176,dm3= 1.143402097500176,dp1= 0.7833664565550977,dp2=0.7833664565550977,dp3=0.7833664565550977):\n",
    "        self.k1 = k1\n",
    "        self.k2 = k2\n",
    "        self.k3 = k3\n",
    "        self.a1 = a1\n",
    "        self.a2 = a2\n",
    "        self.a3 = a3\n",
    "        self.g1 = g1\n",
    "        self.g2 = g2\n",
    "        self.g3 = g3\n",
    "        self.n1 = n1\n",
    "        self.n2 = n2\n",
    "        self.n3 = n3\n",
    "        self.b1 = b1\n",
    "        self.b2 = b2\n",
    "        self.b3 = b3\n",
    "        self.dm1= dm1\n",
    "        self.dm2 = dm2\n",
    "        self.dm3=dm3\n",
    "        self.dp1=dp1\n",
    "        self.dp2=dp2\n",
    "        self.dp3=dp3\n",
    "\n",
    "    def model(self, variables, t):\n",
    "        m1, p1, m2, p2, m3, p3 = variables\n",
    "        dm1dt = -dm1 * m1 + (self.a1 / (1 + ((1 / self.k1) * p2) ** self.n1)) + self.g1\n",
    "        dp1dt = (self.b1 * m1) - (self.dp1 * p1)\n",
    "        dm2dt = -dm2 * m2 + (self.a2 / (1 + ((1 / self.k2) * p3) ** self.n2)) + self.g2\n",
    "        dp2dt = (self.b2 * m2) - (self.dp2 * p2)\n",
    "        dm3dt = -dm3 * m3 + (self.a3 / (1 + ((1 / self.k3) * p1) ** self.n3)) + self.g3\n",
    "        dp3dt = (self.b3 * m3) - (self.dp3 * p3)\n",
    "        return np.array([dm1dt, dp1dt, dm2dt, dp2dt, dm3dt, dp3dt]).flatten()"
   ]
  },
  {
   "cell_type": "code",
   "execution_count": 2,
   "metadata": {},
   "outputs": [],
   "source": [
    "\n",
    "def model(variables, t, params):\n",
    "    m1, p1, m2, p2, m3, p3 = variables\n",
    "    k1,k2,k3,a1,a2,a3,g1,g2,g3,n1,n2,n3,b1,b2,b3,dm1,dm2,dm3,dp1,dp2,dp3=params\n",
    "    #for now we are setting a, g, n, b dm, dp to be constant\n",
    "    #dm1 = dm2 = dm3 =1.143402097500176\n",
    "    #dp1 = dp2 = dp3 = 0.7833664565550977\n",
    "    dm1dt = -dm1*m1 + (a1 / (1 + ((1/k1) * p2)**n1)) + g1\n",
    "    dp1dt = (b1*m1) - (dp1*p1)\n",
    "    dm2dt = -dm2*m2 + (a2 / (1 + ((1/k2) * p3)**n2)) + g2\n",
    "    dp2dt = (b2*m2) - (dp2*p2)\n",
    "    dm3dt = -dm3*m3 + (a3 / (1 + ((1/k3) * p1)**n3)) + g3\n",
    "    dp3dt = (b3*m3)-(dp3*p3)\n",
    "    return np.array([dm1dt, dp1dt, dm2dt, dp2dt, dm3dt, dp3dt]).flatten()"
   ]
  },
  {
   "cell_type": "code",
   "execution_count": 4,
   "metadata": {},
   "outputs": [],
   "source": [
    "def generate_params_val(num_params,num_samples,fixed_values):\n",
    "    fixed_arr=np.tile(fixed_values,(num_samples,1))\n",
    "    if num_params==3:\n",
    "        random_params=np.hstack((np.random.default_rng().uniform(0.01,250,size=(num_samples,3)),fixed_arr))\n",
    "    elif num_params==15:\n",
    "        random_params=np.hstack((np.random.default_rng().uniform(0.01,250,size=(num_samples,3)),np.random.default_rng().uniform(20.,40.,size=(num_samples,3)),np.random.default_rng().uniform(0.,5.,size=(num_samples,3)),np.random.default_rng().uniform(1.,5.,size=(num_samples,3)),np.random.default_rng().uniform(0.01,50.,size=(num_samples,3)),fixed_arr))\n",
    "    elif num_params==6:\n",
    "        random_params=np.hstack((np.random.default_rng().uniform(0.01,250,size=(num_samples,3)),np.random.default_rng().uniform(20.,40.,size=(num_samples,3)),fixed_arr))\n",
    "    return(random_params)"
   ]
  },
  {
   "cell_type": "code",
   "execution_count": 5,
   "metadata": {},
   "outputs": [],
   "source": [
    "def find_mean_std(random_params):\n",
    "    \"\"\"a function that returns the mean and standard deviation of the summary statistics of the simulated data, for the number of samples specified\"\"\"\n",
    "#generate an empty np array to store simulated data\n",
    "    num_samples=random_params.shape[0]\n",
    "    simulated_arr=np.zeros((num_samples, 13))\n",
    "    for i in range(num_samples):\n",
    "        simulated_data=solve_ode(random_params[i,:])\n",
    "        simulated_arr[i,:]=summarise(simulated_data)\n",
    "    s_std=np.std(simulated_arr, axis=0)\n",
    "    s_mean=np.mean(simulated_arr, axis=0)\n",
    "    return(s_mean, s_std)"
   ]
  },
  {
   "cell_type": "code",
   "execution_count": 16,
   "metadata": {},
   "outputs": [
    {
     "ename": "SyntaxError",
     "evalue": "invalid syntax. Perhaps you forgot a comma? (488527813.py, line 1)",
     "output_type": "error",
     "traceback": [
      "\u001b[0;36m  Cell \u001b[0;32mIn[16], line 1\u001b[0;36m\u001b[0m\n\u001b[0;31m    s=np.array([1. 1.])\u001b[0m\n\u001b[0m                ^\u001b[0m\n\u001b[0;31mSyntaxError\u001b[0m\u001b[0;31m:\u001b[0m invalid syntax. Perhaps you forgot a comma?\n"
     ]
    }
   ],
   "source": [
    "s=np.array([1. 1.])"
   ]
  },
  {
   "cell_type": "code",
   "execution_count": 6,
   "metadata": {},
   "outputs": [],
   "source": [
    "\n",
    "def solve_ode(params):\n",
    "    initial_conditions = np.array([0, 2, 0, 1, 0, 3])\n",
    "    solution = odeint(model, initial_conditions, t=np.linspace(0,100,100), args=(params,)) # The initial value point should be the first element of this sequence\n",
    "    return solution\n",
    "\n",
    "timepoints = int(100)\n",
    "third = int(timepoints / 3)\n",
    "#truncated_traj = true_data[third:timepoints,:]"
   ]
  },
  {
   "cell_type": "code",
   "execution_count": 7,
   "metadata": {},
   "outputs": [],
   "source": [
    "from scipy.signal import find_peaks\n",
    "def summarise(solution):\n",
    "    data=solution[:,0:6:2]\n",
    "    \"\"\"Calculate summary statistics\n",
    "        requires solution to be the result of calling solve_ode[parameters]\n",
    "        e.g. true_data\n",
    "        Returns\n",
    "        -------\n",
    "        a 1D array of summary statistics containing the mean of solution, the log variance of solution, the autocorrelation at lag 10, cross correlation of mRNA and protein species separately, number of peaks\n",
    "        \"\"\"\n",
    "    mean=np.mean(data, axis=0) #mean of mRNA species\n",
    "    var=np.var(data, axis=0) #var\n",
    "    auto_cor=np.corrcoef(data[10:,0],solution[:-10,0])[1,0] #autocorrelation at lag 10 for m1\n",
    "    cor=np.corrcoef(data,data, rowvar=False)[:3,1:4] #cross correlation\n",
    "    cor_coef=np.diag(cor)\n",
    "    #returning cross correlation coefficients of mRNA to mRNA species, protein to protein species\n",
    "    truncated_trajectory=data[33:,:] \n",
    "    peaks,_=zip(*(find_peaks(truncated_trajectory[:,i], height=0) for i in range(3))) \n",
    "    peak_count=np.array([len(p) for p in peaks]) #number of peaks \n",
    "    return(np.concatenate([mean, var, auto_cor.flatten(), cor_coef, peak_count.flatten()]))"
   ]
  },
  {
   "cell_type": "code",
   "execution_count": 17,
   "metadata": {},
   "outputs": [],
   "source": [
    "def generate_normalising_statistics(num_params, num_samples, fixed_values):\n",
    "    param_vals=generate_params_val(num_params,num_samples,fixed_values)\n",
    "    return(find_mean_std(param_vals))"
   ]
  },
  {
   "cell_type": "markdown",
   "metadata": {},
   "source": [
    "for params list, for each param, fixed value=.,. (6 params and 15 params respectively)"
   ]
  },
  {
   "cell_type": "code",
   "execution_count": 18,
   "metadata": {},
   "outputs": [],
   "source": [
    "defined_param=[1.1977430229572492,1.5302375124759988,1.5608364378206137,0.7747339528650133,0.7511393265314563,0.7528339378453786]"
   ]
  },
  {
   "cell_type": "code",
   "execution_count": 19,
   "metadata": {},
   "outputs": [],
   "source": [
    "m_15_1,s_15_1=generate_normalising_statistics(num_params=15,num_samples=10000,fixed_values=defined_param)"
   ]
  },
  {
   "cell_type": "code",
   "execution_count": 21,
   "metadata": {},
   "outputs": [
    {
     "data": {
      "text/plain": [
       "array([ 8.77137653,  7.15573613,  6.55463759, 15.18564563, 10.7006633 ,\n",
       "        9.3441815 ,  0.61750055,  0.43738495,  0.45012339,  0.44630964,\n",
       "        2.07412819,  2.07920136,  2.07907287])"
      ]
     },
     "execution_count": 21,
     "metadata": {},
     "output_type": "execute_result"
    }
   ],
   "source": [
    "s_15_1"
   ]
  }
 ],
 "metadata": {
  "kernelspec": {
   "display_name": "Python 3",
   "language": "python",
   "name": "python3"
  },
  "language_info": {
   "codemirror_mode": {
    "name": "ipython",
    "version": 3
   },
   "file_extension": ".py",
   "mimetype": "text/x-python",
   "name": "python",
   "nbconvert_exporter": "python",
   "pygments_lexer": "ipython3",
   "version": "3.11.7"
  }
 },
 "nbformat": 4,
 "nbformat_minor": 2
}
