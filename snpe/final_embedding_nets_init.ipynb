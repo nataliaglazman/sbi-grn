{
 "cells": [
  {
   "cell_type": "markdown",
   "metadata": {},
   "source": [
    "# Final tests CNN"
   ]
  },
  {
   "cell_type": "code",
   "execution_count": 1,
   "metadata": {},
   "outputs": [
    {
     "name": "stdout",
     "output_type": "stream",
     "text": [
      "Number of GPUs (torch.cuda.device_count()): 0\n",
      "Number of CPUs (multiprocessing.cpu_count()): 8\n",
      "Number of CPUs (os.cpu_count()): 8\n"
     ]
    }
   ],
   "source": [
    "### IMPORT PACKAGES AND ALSO REWRITE FUNCTIONS ###\n",
    "\n",
    "import torch\n",
    "import multiprocessing\n",
    "import os\n",
    "\n",
    "def get_gpu_count():\n",
    "    return torch.cuda.device_count()\n",
    "\n",
    "def get_cpu_count():\n",
    "    return multiprocessing.cpu_count()\n",
    "\n",
    "if __name__ == \"__main__\":\n",
    "    num_gpus = get_gpu_count()\n",
    "    num_cpus = get_cpu_count()\n",
    "    print(\"Number of GPUs (torch.cuda.device_count()):\", num_gpus)\n",
    "    print(\"Number of CPUs (multiprocessing.cpu_count()):\", num_cpus)\n",
    "\n",
    "print(\"Number of CPUs (os.cpu_count()):\", os.cpu_count())\n",
    "\n",
    "import pandas as pd\n",
    "import numpy as np\n",
    "import matplotlib.pyplot as plt\n",
    "from scipy.integrate import odeint\n",
    "import torch\n",
    "import torch.nn as nn\n",
    "from torch.autograd import Variable\n",
    "from sklearn.model_selection import train_test_split\n",
    "from torch.utils.data import DataLoader, TensorDataset\n",
    "from sbi.inference import SNPE, prepare_for_sbi, simulate_for_sbi\n",
    "from sbi import utils as utils\n",
    "from sbi import analysis as analysis\n",
    "from sbi.inference.base import infer\n",
    "import numpy as np\n",
    "\n",
    "import joblib\n",
    "import math\n",
    "from math import ceil\n",
    "import random\n",
    "import contextlib\n",
    "import torch\n",
    "import sys\n",
    "from numpy import fft, ndarray\n",
    "from scipy.stats import norm\n",
    "import os\n",
    "import seaborn as sns\n",
    "from pyro.infer.mcmc.api import MCMC\n",
    "from warnings import warn\n",
    "from torch import Tensor, split, randint, cat\n",
    "from typing import Any, Callable, Optional, Tuple, Union, Dict\n",
    "from joblib import Parallel, delayed\n",
    "from tqdm import tqdm\n",
    "from tqdm.auto import tqdm, trange\n",
    "from pyro.infer.mcmc import HMC, NUTS\n",
    "from sbi.inference import prepare_for_sbi, SNLE\n",
    "from sbi import utils as utils\n",
    "from sbi import analysis as analysis\n",
    "from sbi.types import Shape, TorchTransform\n",
    "from sbi.utils.get_nn_models import (likelihood_nn,)\n",
    "from sbi.samplers.mcmc import SliceSamplerVectorized\n",
    "from sbi.samplers.mcmc.slice_numpy import MCMCSampler\n",
    "from sbi.utils import tensor2numpy\n",
    "\n",
    "def seed_all_backends(seed: Optional[Union[int, Tensor]] = None) -> None:\n",
    "    if seed is None:\n",
    "        seed = int(torch.randint(10_000_000, size=(1,)))\n",
    "    else:\n",
    "        # Cast Tensor to int (required by math.random since Python 3.11)\n",
    "        seed = int(seed)\n",
    "    random.seed(seed)\n",
    "    np.random.seed(seed)\n",
    "    torch.manual_seed(seed)\n",
    "    torch.cuda.manual_seed(seed)\n",
    "    torch.backends.cudnn.deterministic = True # type: ignore\n",
    "    torch.backends.cudnn.benchmark = False # type: ignore\n",
    "\n",
    "@contextlib.contextmanager\n",
    "def tqdm_joblib(tqdm_object):\n",
    "    def tqdm_print_progress(self):\n",
    "        if self.n_completed_tasks > tqdm_object.n:\n",
    "            n_completed = self.n_completed_tasks - tqdm_object.n\n",
    "            tqdm_object.update(n=n_completed)\n",
    "    \n",
    "    original_print_progress = joblib.parallel.Parallel.print_progress\n",
    "    joblib.parallel.Parallel.print_progress = tqdm_print_progress\n",
    "    \n",
    "    try:\n",
    "        yield tqdm_object\n",
    "    finally:\n",
    "        joblib.parallel.Parallel.print_progress = original_print_progress\n",
    "        tqdm_object.close()\n",
    "\n",
    "class SliceSampler(MCMCSampler):\n",
    "    def __init__(self, x, lp_f, max_width=float(\"inf\"), init_width: Union[float, np.ndarray] = 0.05, thin=None, tuning: int = 50, verbose: bool = False,):\n",
    "        MCMCSampler.__init__(self, x, lp_f, thin, verbose=verbose)\n",
    "        self.max_width = max_width\n",
    "        self.init_width = init_width\n",
    "        self.width = None\n",
    "        self.tuning = tuning\n",
    "        \n",
    "    def _tune_bracket_width(self, rng):\n",
    "        order = list(range(self.n_dims))\n",
    "        x = self.x.copy()\n",
    "\n",
    "        self.width = np.full(self.n_dims, self.init_width)\n",
    "\n",
    "        tbar = trange(self.tuning, miniters=2, disable=not self.verbose)\n",
    "        tbar.set_description(\"Tuning bracket width...\")\n",
    "        for n in tbar:\n",
    "            # for n in range(int(self.tuning)):\n",
    "            rng.shuffle(order)\n",
    "            for i in range(self.n_dims):\n",
    "                x[i], wi = self._sample_from_conditional(i, x[i], rng)\n",
    "                self.width[i] += (wi - self.width[i]) / (n + 1)\n",
    "\n",
    "    def _sample_from_conditional(self, i: int, cxi, rng):\n",
    "        assert self.width is not None, \"Chain not initialized.\"\n",
    "\n",
    "        # conditional log prob\n",
    "        Li = lambda t: self.lp_f(np.concatenate([self.x[:i], [t], self.x[i + 1 :]]))\n",
    "        wi = self.width[i]\n",
    "\n",
    "        # sample a slice uniformly\n",
    "        logu = Li(cxi) + np.log(1.0 - rng.rand())\n",
    "\n",
    "        # position the bracket randomly around the current sample\n",
    "        lx = cxi - wi * rng.rand()\n",
    "        ux = lx + wi\n",
    "        \n",
    "        # find lower bracket end\n",
    "        while Li(lx) >= logu and cxi - lx < self.max_width:\n",
    "            lx -= wi\n",
    "\n",
    "        # find upper bracket end\n",
    "        while Li(ux) >= logu and ux - cxi < self.max_width:\n",
    "            ux += wi\n",
    "\n",
    "        # sample uniformly from bracket\n",
    "        xi = (ux - lx) * rng.rand() + lx\n",
    "\n",
    "        # if outside slice, reject sample and shrink bracket\n",
    "        while Li(xi) < logu:\n",
    "            if xi < cxi:\n",
    "                lx = xi\n",
    "            else:\n",
    "                ux = xi\n",
    "            xi = (ux - lx) * rng.rand() + lx\n",
    "       \n",
    "        return xi, ux - lx\n",
    "      \n",
    "def run_fun(SliceSamplerSerial, num_samples, inits, seed, log_prob_fn: Callable, thin: Optional[int] = None, tuning: int = 50, verbose: bool = True, init_width: Union[float, np.ndarray] = 0.01,\n",
    "            max_width: float = float(\"inf\"), num_workers: int = 1, rng=np.random, show_info: bool = False, logger=sys.stdout) -> np.ndarray:\n",
    "    np.random.seed(seed)\n",
    "    posterior_sampler = SliceSampler(inits, lp_f=log_prob_fn, max_width=max_width, init_width=init_width, thin=thin, tuning=tuning, verbose=num_workers == 1 and verbose,)\n",
    "    \n",
    "    assert num_samples >= 0, \"number of samples can't be negative\"\n",
    "\n",
    "    order = list(range(posterior_sampler.n_dims))\n",
    "    L_trace = []\n",
    "    samples = np.empty([int(num_samples), int(posterior_sampler.n_dims)])\n",
    "    logger = open(os.devnull, \"w\") if logger is None else logger\n",
    "\n",
    "    if posterior_sampler.width is None:\n",
    "        # logger.write('tuning bracket width...\\n')\n",
    "        posterior_sampler._tune_bracket_width(rng)\n",
    "\n",
    "    tbar = trange(int(num_samples), miniters=10, disable=not posterior_sampler.verbose)\n",
    "    tbar.set_description(\"Generating samples\")\n",
    "    for n in tbar:\n",
    "        # for n in range(int(n_samples)):\n",
    "        for _ in range(posterior_sampler.thin):\n",
    "            rng.shuffle(order)\n",
    "\n",
    "            for i in order:\n",
    "                posterior_sampler.x[i], _ = posterior_sampler._sample_from_conditional(i, posterior_sampler.x[i], rng)\n",
    "\n",
    "        samples[n] = posterior_sampler.x.copy()\n",
    "\n",
    "        posterior_sampler.L = posterior_sampler.lp_f(posterior_sampler.x)\n",
    "        # logger.write('sample = {0}, log prob = {1:.2}\\n'.format(n+1, self.L))\n",
    "\n",
    "        if show_info:\n",
    "            L_trace.append(posterior_sampler.L)\n",
    "\n",
    "    # show trace plot\n",
    "    if show_info:\n",
    "        fig, ax = plt.subplots(1, 1)\n",
    "        ax.plot(L_trace)\n",
    "        ax.set_ylabel(\"log probability\")\n",
    "        ax.set_xlabel(\"samples\")\n",
    "        plt.show(block=False)\n",
    "\n",
    "    return samples\n",
    "\n",
    "def run(SliceSamplerSerial, log_prob_fn: Callable, num_samples: int, init_params: np.ndarray, num_chains: int = 1, thin: Optional[int] = None, verbose: bool = True, num_workers: int = 1,) -> np.ndarray:\n",
    "    num_chains , dim_samples = init_params.shape\n",
    "    # Generate seeds for workers from current random state.\n",
    "    seeds = torch.randint(high=1_000_000, size=(num_chains,))\n",
    "    for seed in seeds:\n",
    "        seed_all_backends(seed)\n",
    "    with tqdm_joblib(tqdm(range(num_chains), disable=not verbose, desc=f\"\"\"Running {num_chains} MCMC chains with {num_workers} worker{\"s\" if num_workers>1 else \"\"}.\"\"\", total=num_chains,)):\n",
    "        all_samples = Parallel(n_jobs=num_workers)(delayed(run_fun)(SliceSamplerSerial, num_samples, initial_params_batch, seed, log_prob_fn)for initial_params_batch, seed in zip(init_params, seeds))\n",
    "    samples = np.stack(all_samples).astype(np.float32)\n",
    "    samples = samples.reshape(num_chains, -1, dim_samples)  # chains, samples, dim\n",
    "    samples = samples[:, :: thin, :]  # thin chains\n",
    "\n",
    "    # save samples\n",
    "    return samples\n",
    "\n",
    "class SliceSamplerSerial:\n",
    "    def __init__(self, log_prob_fn: Callable, init_params: np.ndarray, num_chains: int = 1, thin: Optional[int] = None, tuning: int = 50, verbose: bool = True, init_width: Union[float, np.ndarray] = 0.01, max_width: float = float(\"inf\"), num_workers: int = 1,):\n",
    "        self._log_prob_fn = log_prob_fn\n",
    "        self.x = init_params\n",
    "        self.num_chains = num_chains\n",
    "        self.thin = thin\n",
    "        self.tuning = tuning\n",
    "        self.verbose = verbose\n",
    "        self.init_width = init_width\n",
    "        self.max_width = max_width\n",
    "        self.n_dims = self.x.size\n",
    "        self.num_workers = num_workers\n",
    "        self._samples = None\n",
    "\n",
    "    def get_samples(self, num_samples: Optional[int] = None, group_by_chain: bool = True) -> np.ndarray:\n",
    "        if self._samples is None:\n",
    "            raise ValueError(\"No samples found from MCMC run.\")\n",
    "        # if not grouped by chain, flatten samples into (all_samples, dim_params)\n",
    "        if not group_by_chain:\n",
    "            samples = self._samples.reshape(-1, self._samples.shape[2])\n",
    "        else:\n",
    "            samples = self._samples\n",
    "\n",
    "        # if not specified return all samples\n",
    "        if num_samples is None:\n",
    "            return samples\n",
    "        # otherwise return last num_samples (for each chain when grouped).\n",
    "        elif group_by_chain:\n",
    "            return samples[:, -num_samples:, :]\n",
    "        else:\n",
    "            return samples[-num_samples:, :]\n",
    "\n",
    "##############################################################################################################################\n",
    "        \n",
    "def _maybe_use_dict_entry(default: Any, key: str, dict_to_check: Dict) -> Any:\n",
    "    attribute = default if key not in dict_to_check.keys() else dict_to_check[key]\n",
    "    return attribute\n",
    "\n",
    "def _get_initial_params(proposal, init_strategy: str, num_chains: int, num_workers: int, show_progress_bars: bool, **kwargs,) -> Tensor: \n",
    "    # Build init function\n",
    "    init_fn = proposal._build_mcmc_init_fn(proposal.proposal, proposal.potential_fn, transform=proposal.theta_transform, init_strategy=init_strategy, **kwargs,)\n",
    "\n",
    "    # Parallelize inits for resampling only.\n",
    "    if num_workers > 1 and (init_strategy == \"resample\" or init_strategy == \"sir\"):\n",
    "        def seeded_init_fn(seed):\n",
    "            torch.manual_seed(seed)\n",
    "            return init_fn()\n",
    "\n",
    "        seeds = torch.randint(high=10_000_000, size=(num_chains,))\n",
    "\n",
    "        # Generate initial params parallelized over num_workers.\n",
    "        with tqdm_joblib(tqdm(range(num_chains), disable=not show_progress_bars, desc=f\"\"\"Generating {num_chains} MCMC inits with {num_workers} workers.\"\"\", total=num_chains,)):\n",
    "            initial_params = torch.cat(Parallel(n_jobs=num_workers)(delayed(seeded_init_fn)(seed) for seed in seeds))\n",
    "    else:\n",
    "        initial_params = torch.cat([init_fn() for _ in range(num_chains)])\n",
    "    return initial_params\n",
    "    \n",
    "def _slice_np_mcmc(proposal, num_samples: int, potential_function: Callable, initial_params: Tensor, thin: int, warmup_steps: int, vectorized: bool = False, num_workers: int = 1, init_width: Union[float, ndarray] = 0.01, show_progress_bars: bool = True,) -> Tensor:\n",
    "    num_chains, dim_samples = initial_params.shape\n",
    "        \n",
    "    if not vectorized:\n",
    "        SliceSamplerMultiChain = SliceSamplerSerial\n",
    "    else:\n",
    "        SliceSamplerMultiChain = SliceSamplerVectorized\n",
    "\n",
    "    posterior_sampler = SliceSamplerMultiChain(init_params=tensor2numpy(initial_params), log_prob_fn=potential_function, num_chains=num_chains, thin=thin, verbose=show_progress_bars, num_workers=num_workers, init_width=init_width,)\n",
    "    warmup_ = warmup_steps * thin\n",
    "    num_samples_ = ceil((num_samples * thin) / num_chains)\n",
    "    # Run mcmc including warmup\n",
    "    samples = run(posterior_sampler, log_prob_fn=potential_function, num_samples = (warmup_ + num_samples_), init_params = tensor2numpy(initial_params))\n",
    "    samples = samples[:, warmup_steps:, :]  # discard warmup steps\n",
    "    samples = torch.from_numpy(samples)  # chains x samples x dim\n",
    "\n",
    "    # Save posterior sampler.\n",
    "    proposal._posterior_sampler = posterior_sampler\n",
    "\n",
    "    # Save sample as potential next init (if init_strategy == 'latest_sample').\n",
    "    proposal._mcmc_init_params = samples[:, -1, :].reshape(num_chains, dim_samples)\n",
    "\n",
    "    # Collect samples from all chains.\n",
    "    samples = samples.reshape(-1, dim_samples)[:num_samples, :]\n",
    "    assert samples.shape[0] == num_samples\n",
    "    return samples.type(torch.float32).to(proposal._device)\n",
    "\n",
    "def sample_my_fun(proposal, sample_shape: Shape = torch.Size(), x: Optional[Tensor] = None, method: Optional[str] = None, thin: Optional[int] = None, warmup_steps: Optional[int] = None, num_chains: Optional[int] = None, init_strategy: Optional[str] = None, init_strategy_parameters: Optional[Dict[str, Any]] = None,\n",
    "                   init_strategy_num_candidates: Optional[int] = None, mcmc_parameters: Dict = {}, mcmc_method: Optional[str] = None, sample_with: Optional[str] = None, num_workers: Optional[int] = None, show_progress_bars: bool = True,) -> Tensor:\n",
    "    \n",
    "    proposal.potential_fn.set_x(proposal._x_else_default_x(x))\n",
    "\n",
    "    # Replace arguments that were not passed with their default.\n",
    "    method = proposal.method if method is None else method\n",
    "    thin = proposal.thin if thin is None else thin\n",
    "    warmup_steps = proposal.warmup_steps if warmup_steps is None else warmup_steps\n",
    "    num_chains = proposal.num_chains if num_chains is None else num_chains\n",
    "    init_strategy = proposal.init_strategy if init_strategy is None else init_strategy\n",
    "    num_workers = proposal.num_workers if num_workers is None else num_workers\n",
    "    init_strategy_parameters = (proposal.init_strategy_parameters if init_strategy_parameters is None else init_strategy_parameters)\n",
    "\n",
    "    if init_strategy_num_candidates is not None:\n",
    "        warn(\"\"\"Passing `init_strategy_num_candidates` is deprecated as of sbi v0.19.0. Instead, use e.g.,`init_strategy_parameters={\"num_candidate_samples\": 1000}`\"\"\")\n",
    "        proposal.init_strategy_parameters[\"num_candidate_samples\"] = (init_strategy_num_candidates)\n",
    "    if sample_with is not None:\n",
    "        raise ValueError(f\"You set `sample_with={sample_with}`. As of sbi v0.18.0, setting `sample_with` is no longer supported. You have to rerun `.build_posterior(sample_with={sample_with}).`\")\n",
    "    if mcmc_method is not None:\n",
    "        warn(\"You passed `mcmc_method` to `.sample()`. As of sbi v0.18.0, this is deprecated and will be removed in a future release. Use `method` instead of `mcmc_method`.\")\n",
    "        method = mcmc_method\n",
    "    if mcmc_parameters:\n",
    "        warn(\"You passed `mcmc_parameters` to `.sample()`. As of sbi v0.18.0, this is deprecated and will be removed in a future release. Instead, pass the variable to `.sample()` directly, e.g. `posterior.sample((1,), num_chains=5)`.\")\n",
    "    # The following lines are only for backwards compatibility with sbi v0.17.2 or older.\n",
    "    m_p = mcmc_parameters  # define to shorten the variable name\n",
    "    method = _maybe_use_dict_entry(method, \"mcmc_method\", m_p)\n",
    "    thin = _maybe_use_dict_entry(thin, \"thin\", m_p)\n",
    "    warmup_steps = _maybe_use_dict_entry(warmup_steps, \"warmup_steps\", m_p)\n",
    "    num_chains = _maybe_use_dict_entry(num_chains, \"num_chains\", m_p)\n",
    "    init_strategy = _maybe_use_dict_entry(init_strategy, \"init_strategy\", m_p)\n",
    "    proposal.potential_ = proposal._prepare_potential(method)  # type: ignore\n",
    "\n",
    "    initial_params = _get_initial_params(proposal, init_strategy, num_chains, num_workers, show_progress_bars, **init_strategy_parameters,)\n",
    "    num_samples = torch.Size(sample_shape).numel()\n",
    "\n",
    "    track_gradients = method in (\"hmc\", \"nuts\")\n",
    "    with torch.set_grad_enabled(track_gradients):\n",
    "        if method in (\"slice_np\", \"slice_np_vectorized\"):\n",
    "            transformed_samples = _slice_np_mcmc(proposal, num_samples=num_samples, potential_function=proposal.potential_, initial_params=initial_params, thin=thin, warmup_steps=warmup_steps, vectorized=(method == \"slice_np_vectorized\"), num_workers=num_workers, show_progress_bars=show_progress_bars,)\n",
    "        elif method in (\"hmc\", \"nuts\", \"slice\"):\n",
    "            transformed_samples = _pyro_mcmc(proposal, num_samples=num_samples, potential_function=proposal.potential_, initial_params=initial_params, mcmc_method=method, thin=thin, warmup_steps=warmup_steps, num_chains=num_chains, show_progress_bars=show_progress_bars,)\n",
    "        else:\n",
    "            raise NameError\n",
    "\n",
    "    samples = proposal.theta_transform.inv(transformed_samples)\n",
    "\n",
    "    return samples.reshape((*sample_shape, -1))  # type: ignore\n",
    "\n",
    "#######################################################################################################################################\n",
    "\n",
    "def simulator_seeded(simulator: Callable, theta: Tensor, seed: int) -> Tensor:\n",
    "    import torch\n",
    "    torch.backends.cudnn.deterministic = True\n",
    "    torch.backends.cudnn.benchmark = False\n",
    "    with torch.random.fork_rng(devices=[]):\n",
    "        torch.manual_seed(seed)\n",
    "        return simulator(theta)\n",
    "\n",
    "def simulate_in_batches(simulator: Callable, theta: Tensor, sim_batch_size: int = 1, num_workers: int = 1 , seed: Optional[int] = None, show_progress_bars: bool = True, ) -> Tensor:\n",
    "    num_sims, *_ = theta.shape\n",
    "    seed_all_backends(seed)\n",
    "    if num_sims == 0:\n",
    "        x = torch.tensor([])\n",
    "    elif sim_batch_size is not None and sim_batch_size < num_sims:\n",
    "        batches = split(theta, sim_batch_size, dim=0)\n",
    "        \n",
    "        if num_workers != 1:\n",
    "            batch_seeds = randint(high=1_000_000, size=(len(batches),))\n",
    "            with tqdm_joblib(tqdm(batches, disable=not show_progress_bars, total = len(batches), desc=f\"Running {num_sims} simulations in {len(batches)} batches ({num_workers} cores)\",)) as _:\n",
    "                simulation_outputs = Parallel(n_jobs=num_workers)(delayed(simulator_seeded)(simulator, batch, batch_seed) for batch, batch_seed in zip(batches, batch_seeds))\n",
    "        else:\n",
    "            pbar = tqdm(total=num_sims, disable=not show_progress_bars, desc=f\"Running {num_sims} simulations.\", )\n",
    "            with pbar:\n",
    "                simulation_outputs = []\n",
    "                for batch in batches:\n",
    "                    simulation_outputs.append(simulator_seeded(simulator, batch, seed))\n",
    "                    pbar.update(sim_batch_size)\n",
    "        x = cat(simulation_outputs, dim=0)\n",
    "    else:\n",
    "        x = simulator(theta)\n",
    "    return x\n",
    "\n",
    "def simulate_for_sbi(round_idx: int, simulator: Callable, proposal: Any, num_simulations: int, num_workers: int = 1, simulation_batch_size: int = 1, seed: Optional[int] = None, show_progress_bar: bool = True)-> Tuple[Tensor, Tensor]:\n",
    "    if round_idx == 0:\n",
    "        theta = proposal.sample((num_simulations,))\n",
    "    else:\n",
    "        theta = sample_my_fun(proposal, (num_simulations,), num_workers = num_workers, num_chains = 4) # because only in first round proposal is boxuniform, then it is mcmcposterior object\n",
    "    \n",
    "    x = simulate_in_batches(simulator=simulator, theta=theta, sim_batch_size=simulation_batch_size, num_workers=num_workers, seed=seed, show_progress_bars=show_progress_bar)\n",
    "    \n",
    "    return theta, x\n",
    "\n",
    "### Parallelisation ###\n",
    "##### paralellise #####\n",
    "\n",
    "#Parallelise it\n",
    "# PART 1: Edited code from original sbi repos. Functions edited: simulate_for_sbi, and all the functions it contains.\n",
    "#Main changes: defined simulator_seeded globally rather than within simulate_in_batches function, and re-imported torch within simulator_seeded \n",
    "#NO changes need to be made in this file\n",
    "\n",
    "# PART 2: Essentially the unparallelised code with 2 extra arguments in the simulate_for_sbi line\n",
    "\n",
    "##################################### PART 1 #########################################\n",
    "import joblib\n",
    "import contextlib\n",
    "import random\n",
    "import torch\n",
    "import numpy as np\n",
    "\n",
    "from torch import Tensor, split, randint, cat\n",
    "from typing import Any, Callable, Optional, Tuple, Union\n",
    "from joblib import Parallel, delayed\n",
    "from tqdm import tqdm\n",
    "from tqdm.auto import tqdm\n",
    "\n",
    "import sbi\n",
    "from scipy.integrate import odeint\n",
    "import matplotlib.pyplot as plt\n",
    "import os\n",
    "\n",
    "from sbi.inference import SNLE, prepare_for_sbi\n",
    "# No longer importing simulate_for_sbi from the package, we use the one defined above\n",
    "from sbi import utils as utils\n",
    "from sbi import analysis as analysis\n",
    "\n",
    "def seed_all_backends(seed: Optional[Union[int, Tensor]] = None) -> None:\n",
    "    if seed is None:\n",
    "        seed = int(torch.randint(1_000_000, size=(1,)))\n",
    "    else:\n",
    "        # Cast Tensor to int (required by math.random since Python 3.11)\n",
    "        seed = int(seed)\n",
    "\n",
    "    random.seed(seed)\n",
    "    np.random.seed(seed)\n",
    "    torch.manual_seed(seed)\n",
    "    torch.cuda.manual_seed(seed)\n",
    "    torch.backends.cudnn.deterministic = True # type: ignore\n",
    "    torch.backends.cudnn.benchmark = False # type: ignore\n",
    "\n",
    "def simulator_seeded(simulator: Callable, theta: Tensor, seed: int) -> Tensor:\n",
    "    import torch\n",
    "    torch.backends.cudnn.deterministic = True\n",
    "    torch.backends.cudnn.benchmark = False\n",
    "    with torch.random.fork_rng(devices=[]):\n",
    "        torch.manual_seed(seed)\n",
    "        return simulator(theta)\n",
    "\n",
    "def simulate_in_batches(simulator: Callable, theta: Tensor, sim_batch_size: int = 1, num_workers: int = 1,\n",
    "                        seed: Optional[int] = None, show_progress_bars: bool = True, ) -> Tensor:\n",
    "\n",
    "    num_sims, *_ = theta.shape\n",
    "    seed_all_backends(seed)\n",
    "\n",
    "    if num_sims == 0:\n",
    "        x = torch.tensor([])\n",
    "    elif sim_batch_size is not None and sim_batch_size < num_sims:\n",
    "        batches = split(theta, sim_batch_size, dim=0)\n",
    "\n",
    "        if num_workers != 1:\n",
    "            batch_seeds = randint(high=1_000_000, size=(len(batches),))\n",
    "\n",
    "            with tqdm_joblib(\n",
    "                tqdm(batches, disable=not show_progress_bars,\n",
    "                     desc=f\"Running {num_sims} simulations in {len(batches)} batches.\", total=len(batches),)) as _:\n",
    "                simulation_outputs = Parallel(n_jobs=num_workers)(delayed(simulator_seeded)(simulator, batch, batch_seed)\n",
    "                    for batch, batch_seed in zip(batches, batch_seeds))\n",
    "        else:\n",
    "            pbar = tqdm(total=num_sims, disable=not show_progress_bars, desc=f\"Running {num_sims} simulations.\", )\n",
    "\n",
    "            with pbar:\n",
    "                simulation_outputs = []\n",
    "                for batch in batches:\n",
    "                    simulation_outputs.append(simulator_seeded(simulator, batch, seed))\n",
    "                    pbar.update(sim_batch_size)\n",
    "\n",
    "        x = cat(simulation_outputs, dim=0)\n",
    "    else:\n",
    "        x = simulator(theta)\n",
    "\n",
    "    return x\n",
    "\n",
    "\n",
    "@contextlib.contextmanager\n",
    "def tqdm_joblib(tqdm_object):\n",
    "    def tqdm_print_progress(self):\n",
    "        if self.n_completed_tasks > tqdm_object.n:\n",
    "            n_completed = self.n_completed_tasks - tqdm_object.n\n",
    "            tqdm_object.update(n=n_completed)\n",
    "\n",
    "    original_print_progress = joblib.parallel.Parallel.print_progress\n",
    "    joblib.parallel.Parallel.print_progress = tqdm_print_progress\n",
    "\n",
    "    try:\n",
    "        yield tqdm_object\n",
    "    finally:\n",
    "        joblib.parallel.Parallel.print_progress = original_print_progress\n",
    "        tqdm_object.close()\n",
    "\n",
    "def simulate_for_sbi(simulator: Callable, proposal: Any, num_simulations: int, num_workers: int = 1,\n",
    "                     simulation_batch_size: int = 1, seed: Optional[int] = None,\n",
    "                     show_progress_bar: bool = True, ) -> Tuple[Tensor, Tensor]:\n",
    "\n",
    "    theta = proposal.sample((num_simulations,))\n",
    "\n",
    "    x = simulate_in_batches(simulator=simulator, theta=theta, sim_batch_size=simulation_batch_size,\n",
    "                            num_workers=num_workers, seed=seed, show_progress_bars=show_progress_bar,)\n",
    "\n",
    "    return theta, x\n",
    "\n",
    "######################################################################################################\n",
    "\n",
    "# To parallelise, set number of CPUs to be used. Note: parallelise anything that has num_rounds>2 and/or num_simulations>50\n",
    "# to see total available CPUs: print(os.cpu_count())\n",
    "\n",
    "CPUs_to_use = 8\n",
    "\n",
    "total_CPUs = os.cpu_count()\n",
    "num_workers = CPUs_to_use - total_CPUs -1\n",
    "# num_workers = -1 uses all cpus\n",
    "# num_workers = -2 uses all cpus but one etc https://joblib.readthedocs.io/en/latest/generated/joblib.Parallel.html\n",
    "if CPUs_to_use > total_CPUs:\n",
    "    raise ValueError(f\"Cannot use more CPUs than are available. Available CPUs: {total_CPUs}\")\n"
   ]
  },
  {
   "cell_type": "code",
   "execution_count": 2,
   "metadata": {},
   "outputs": [],
   "source": [
    "#Simulator\n",
    "###### Simulate\n",
    "headers = [\"k1\" , \"k2\", \"k3\"]          # parameters to be inferred\n",
    "num_timesteps = 100\n",
    "\n",
    "# FOR SNLE\n",
    "prior_min = 0.01                        # same for all parameters\n",
    "prior_max = 250    \n",
    "\n",
    "t = np.linspace(0, 100, num_timesteps)\n",
    "\n",
    "param_dict = {'k1': 246.96291990024542, 'k2': 246.96291990024542, 'k3': 246.96291990024542, 'n1': 5, 'n2': 5, 'n3': 5, 'dm1': 1.143402097500176, 'dm2': 1.143402097500176, 'dm3': 1.143402097500176, 'dp1': 0.7833664565550977, 'dp2': 0.7833664565550977, 'dp3': 0.7833664565550977,\n",
    "              'a1': 24.78485282457379, 'a2': 24.78485282457379, 'a3': 24.78485282457379, 'g1': 0.024884149937163258, 'g2': 0.024884149937163258, 'g3': 0.024884149937163258, 'b1': 33.82307682700831, 'b2': 33.82307682700831, 'b3': 33.82307682700831}\n",
    "\n",
    "all_params = 'a1', 'a2', 'a3', 'g1', 'g2', 'g3', 'dm1', 'dm2', 'dm3', 'dp1', 'dp2', 'dp3', 'b1', 'b2', 'b3', 'n1', 'n2', 'n3', 'k1', 'k2', 'k3'\n",
    "new_param_dict ={}\n",
    "for param in all_params:\n",
    "    if param not in headers:\n",
    "        new_param_dict[param] = param_dict[param]\n",
    "    elif param in headers:\n",
    "        new_param_dict[param] = param\n",
    "\n",
    "def my_simulator(theta):\n",
    "    def model(variables, t, theta, new_param_dict = new_param_dict):\n",
    "        m1, p1, m2, p2, m3, p3 = variables\n",
    "        for i in range(len(headers)):\n",
    "            new_param_dict[headers[i]] = theta[i]\n",
    "        \n",
    "        dm1dt = -new_param_dict['dm1']*m1 + (new_param_dict['a1'] / (1 + ((1/new_param_dict['k1']) * p2)**new_param_dict['n1'])) + new_param_dict['g1']\n",
    "        dp1dt = (new_param_dict['b1']*m1) - (new_param_dict['dp1']*p1)\n",
    "        dm2dt = -new_param_dict['dm2']*m2 + (new_param_dict['a2'] / (1 + ((1/new_param_dict['k2']) * p3)**new_param_dict['n2'])) + new_param_dict['g2']\n",
    "        dp2dt = (new_param_dict['b2']*m2) - (new_param_dict['dp2']*p2)\n",
    "        dm3dt = -new_param_dict['dm3']*m3 + (new_param_dict['a3'] / (1 + ((1/new_param_dict['k3']) * p1)**new_param_dict['n3'])) + new_param_dict['g3']\n",
    "        dp3dt = (new_param_dict['b3']*m3) - (new_param_dict['dp3']*p3)\n",
    "\n",
    "        return [dm1dt, dp1dt, dm2dt, dp2dt, dm3dt, dp3dt]\n",
    "\n",
    "    def solve_ode(theta, t):\n",
    "        initial_conditions = np.array([0, 2, 0, 1, 0, 3], dtype=np.float32)\n",
    "        y = odeint(model, initial_conditions, t, args=(theta,))\n",
    "        yt = torch.tensor(y, dtype=torch.float32).T.flatten()\n",
    "        return yt.unsqueeze(-1)\n",
    "    return solve_ode(theta, t)\n",
    "prior = utils.BoxUniform(\n",
    "    low=torch.tensor([10**-2,10**-2,10**-2]),\n",
    "    high=torch.tensor([250.,250.,250.]))\n",
    "true_params = tuple(param_dict[parameter] for parameter in headers)\n",
    "true_data = my_simulator(true_params)\n",
    "num_dim = len(true_params)\n",
    "simulator_wrapper, prior = prepare_for_sbi(my_simulator, prior)\n"
   ]
  },
  {
   "cell_type": "markdown",
   "metadata": {},
   "source": [
    "test shape"
   ]
  },
  {
   "cell_type": "code",
   "execution_count": 3,
   "metadata": {},
   "outputs": [
    {
     "data": {
      "text/plain": [
       "torch.Size([3, 600, 1])"
      ]
     },
     "execution_count": 3,
     "metadata": {},
     "output_type": "execute_result"
    }
   ],
   "source": [
    "batch_size = 3\n",
    "fourdim = simulator_wrapper(prior.sample((batch_size,)))\n",
    "fourdim.shape"
   ]
  },
  {
   "cell_type": "code",
   "execution_count": 6,
   "metadata": {},
   "outputs": [
    {
     "data": {
      "text/plain": [
       "torch.Size([3, 8, 8, 102])"
      ]
     },
     "execution_count": 6,
     "metadata": {},
     "output_type": "execute_result"
    }
   ],
   "source": [
    "import torch\n",
    "import torch.nn as nn\n",
    "import torch.nn.functional as F\n",
    "fourdim_r = fourdim.view(-1, 1, 6, 100)\n",
    "pool = nn.MaxPool2d(kernel_size=3, stride=1)\n",
    "conv1 = nn.Conv2d(in_channels=1, out_channels=8, kernel_size=3, padding=2)\n",
    "try0 = F.relu(conv1(fourdim_r))\n",
    "try0.shape\n"
   ]
  },
  {
   "cell_type": "code",
   "execution_count": 7,
   "metadata": {},
   "outputs": [
    {
     "data": {
      "text/plain": [
       "torch.Size([3, 8, 6, 100])"
      ]
     },
     "execution_count": 7,
     "metadata": {},
     "output_type": "execute_result"
    }
   ],
   "source": [
    "try1 = pool(F.relu(conv1(fourdim_r)))\n",
    "try1.shape"
   ]
  },
  {
   "cell_type": "code",
   "execution_count": 9,
   "metadata": {},
   "outputs": [
    {
     "data": {
      "text/plain": [
       "torch.Size([3, 4800])"
      ]
     },
     "execution_count": 9,
     "metadata": {},
     "output_type": "execute_result"
    }
   ],
   "source": [
    "try2 = try1.view(-1, 8*6*100)\n",
    "try2.shape"
   ]
  },
  {
   "cell_type": "code",
   "execution_count": 11,
   "metadata": {},
   "outputs": [
    {
     "data": {
      "text/plain": [
       "torch.Size([3, 1024])"
      ]
     },
     "execution_count": 11,
     "metadata": {},
     "output_type": "execute_result"
    }
   ],
   "source": [
    "fc = nn.Linear(in_features=8*6*100, out_features=1024)\n",
    "fc2 = nn.Linear(in_features=1024, out_features=25)\n",
    "try3 = fc(try2)\n",
    "try3.shape"
   ]
  },
  {
   "cell_type": "code",
   "execution_count": 12,
   "metadata": {},
   "outputs": [
    {
     "data": {
      "text/plain": [
       "torch.Size([3, 25])"
      ]
     },
     "execution_count": 12,
     "metadata": {},
     "output_type": "execute_result"
    }
   ],
   "source": [
    "try4 = fc2(try3)\n",
    "try4.shape"
   ]
  },
  {
   "cell_type": "code",
   "execution_count": 25,
   "metadata": {},
   "outputs": [],
   "source": [
    "import torch\n",
    "import torch.nn as nn\n",
    "import torch.nn.functional as F\n",
    "class SummaryNet(nn.Module):\n",
    "    def __init__(self):\n",
    "        super().__init__()\n",
    "        # 2D convolutional layer\n",
    "        self.conv1 = nn.Conv2d(in_channels=1, out_channels=8, kernel_size=3, padding=2)\n",
    "        # Maxpool layer that reduces 32x32 image to 4x4\n",
    "        self.pool = nn.MaxPool2d(kernel_size=3, stride=1)\n",
    "        # Fully connected layer taking as input the 8 flattened output arrays from the maxpooling layer\n",
    "        self.fc = nn.Linear(in_features= 8*6*100, out_features=25)\n",
    "\n",
    "    def forward(self, x): #Shape needs to be (batch size, dim, w, h)\n",
    "        x = x.view(-1, 1, 6, 100)\n",
    "        x = self.pool(F.relu(self.conv1(x)))\n",
    "        x = x.view(-1, 8*6*100)\n",
    "        x = self.fc(x)\n",
    "        return x"
   ]
  },
  {
   "cell_type": "markdown",
   "metadata": {},
   "source": [
    "now snpe try"
   ]
  },
  {
   "cell_type": "code",
   "execution_count": 26,
   "metadata": {},
   "outputs": [
    {
     "data": {
      "application/vnd.jupyter.widget-view+json": {
       "model_id": "776c6299d130492390c66d5968d7b9b0",
       "version_major": 2,
       "version_minor": 0
      },
      "text/plain": [
       "Running 1000 simulations in 7 batches.:   0%|          | 0/7 [00:00<?, ?it/s]"
      ]
     },
     "metadata": {},
     "output_type": "display_data"
    },
    {
     "name": "stdout",
     "output_type": "stream",
     "text": [
      " Neural network successfully converged after 133 epochs."
     ]
    },
    {
     "data": {
      "application/vnd.jupyter.widget-view+json": {
       "model_id": "2c909ce02e904cf39de095a501a7ede6",
       "version_major": 2,
       "version_minor": 0
      },
      "text/plain": [
       "Drawing 1000 posterior samples:   0%|          | 0/1000 [00:00<?, ?it/s]"
      ]
     },
     "metadata": {},
     "output_type": "display_data"
    },
    {
     "data": {
      "application/vnd.jupyter.widget-view+json": {
       "model_id": "22c7448c5dd141a48b6f94e04ca29c7a",
       "version_major": 2,
       "version_minor": 0
      },
      "text/plain": [
       "Running 1000 simulations in 7 batches.:   0%|          | 0/7 [00:00<?, ?it/s]"
      ]
     },
     "metadata": {},
     "output_type": "display_data"
    },
    {
     "name": "stdout",
     "output_type": "stream",
     "text": [
      "Using SNPE-C with atomic loss\n",
      " Neural network successfully converged after 103 epochs."
     ]
    },
    {
     "data": {
      "application/vnd.jupyter.widget-view+json": {
       "model_id": "7046897b53d84e65a21adf768b9aeedd",
       "version_major": 2,
       "version_minor": 0
      },
      "text/plain": [
       "Drawing 5000 posterior samples:   0%|          | 0/5000 [00:00<?, ?it/s]"
      ]
     },
     "metadata": {},
     "output_type": "display_data"
    },
    {
     "data": {
      "image/png": "[encoded data removed]",
      "text/plain": [
       "<Figure size 600x600 with 9 Axes>"
      ]
     },
     "metadata": {},
     "output_type": "display_data"
    }
   ],
   "source": [
    "## Try to preserve the relationships of the data with the same kernel size of 3...\n",
    "\n",
    "num_rounds = 2\n",
    "#Reset embedding net?\n",
    "embedding_net_custom = SummaryNet()\n",
    "\n",
    "\n",
    "# We define the neural network (neural density estimator), specifying the embedding net. In this case we use a mixture density network.\n",
    "neural_posterior = utils.posterior_nn(\n",
    "    model=\"maf\", embedding_net=embedding_net_custom, hidden_features=30, num_transforms=3)\n",
    "\n",
    "# Setup the inference procedure with the SNPE-C (Greenberg et al, 2019)\n",
    "inference = SNPE(prior=prior, density_estimator=neural_posterior)\n",
    "\n",
    "posteriors = []\n",
    "proposal = prior\n",
    "\n",
    "num_simulations = 1000\n",
    "simulation_batch_size = 150\n",
    "\n",
    "for _ in range(num_rounds):\n",
    "    theta, x = simulate_for_sbi(simulator_wrapper, proposal, num_simulations=num_simulations, simulation_batch_size=simulation_batch_size, num_workers=num_workers)\n",
    "    density_estimator = inference.append_simulations(\n",
    "        theta, x, proposal=proposal\n",
    "    ).train()\n",
    "    posterior = inference.build_posterior(density_estimator)\n",
    "    posteriors.append(posterior)\n",
    "    proposal = posterior.set_default_x(true_data)\n",
    "\n",
    "posterior_samples = posterior.sample((5000,), x=true_data)\n",
    "_ = analysis.pairplot(\n",
    "    posterior_samples, limits=[[-100, 300], [-100, 300], [-100, 300]], figsize=(6, 6) #It should be close to 247, but since this is a toy example we are not expecting it to work (just checking it runs).\n",
    ")"
   ]
  },
  {
   "cell_type": "markdown",
   "metadata": {},
   "source": [
    "try padding 1"
   ]
  },
  {
   "cell_type": "code",
   "execution_count": 31,
   "metadata": {},
   "outputs": [],
   "source": [
    "import torch\n",
    "import torch.nn as nn\n",
    "import torch.nn.functional as F\n",
    "class SummaryNet(nn.Module):\n",
    "    def __init__(self):\n",
    "        super().__init__()\n",
    "        # 2D convolutional layer\n",
    "        self.conv1 = nn.Conv2d(in_channels=1, out_channels=8, kernel_size=3, padding=1)\n",
    "        # Maxpool layer that reduces 32x32 image to 4x4\n",
    "        self.pool = nn.MaxPool2d(kernel_size=3, stride=1)\n",
    "        # Fully connected layer taking as input the 8 flattened output arrays from the maxpooling layer\n",
    "        self.fc = nn.Linear(in_features= 8*4*98, out_features=25)\n",
    "\n",
    "    def forward(self, x): #Shape needs to be (batch size, dim, w, h)\n",
    "        x = x.view(-1, 1, 6, 100)\n",
    "        x = self.pool(F.relu(self.conv1(x)))\n",
    "        x = x.view(-1, 8*4*98)\n",
    "        x = self.fc(x)\n",
    "        return x"
   ]
  },
  {
   "cell_type": "markdown",
   "metadata": {},
   "source": [
    "now snpe try"
   ]
  },
  {
   "cell_type": "code",
   "execution_count": 32,
   "metadata": {},
   "outputs": [
    {
     "data": {
      "application/vnd.jupyter.widget-view+json": {
       "model_id": "f6727ae5abfb430b8940cf5abb969ab2",
       "version_major": 2,
       "version_minor": 0
      },
      "text/plain": [
       "Running 1000 simulations in 7 batches.:   0%|          | 0/7 [00:00<?, ?it/s]"
      ]
     },
     "metadata": {},
     "output_type": "display_data"
    },
    {
     "name": "stdout",
     "output_type": "stream",
     "text": [
      " Neural network successfully converged after 86 epochs."
     ]
    },
    {
     "data": {
      "application/vnd.jupyter.widget-view+json": {
       "model_id": "25c9aed7a4fb4c22bcaef19a02110606",
       "version_major": 2,
       "version_minor": 0
      },
      "text/plain": [
       "Drawing 1000 posterior samples:   0%|          | 0/1000 [00:00<?, ?it/s]"
      ]
     },
     "metadata": {},
     "output_type": "display_data"
    },
    {
     "data": {
      "application/vnd.jupyter.widget-view+json": {
       "model_id": "ac5f26610cfa4b5496abf781bd31df7b",
       "version_major": 2,
       "version_minor": 0
      },
      "text/plain": [
       "Running 1000 simulations in 7 batches.:   0%|          | 0/7 [00:00<?, ?it/s]"
      ]
     },
     "metadata": {},
     "output_type": "display_data"
    },
    {
     "name": "stdout",
     "output_type": "stream",
     "text": [
      "Using SNPE-C with atomic loss\n",
      " Neural network successfully converged after 100 epochs."
     ]
    },
    {
     "data": {
      "application/vnd.jupyter.widget-view+json": {
       "model_id": "5e8684d8f29642e3b9f00412edea5732",
       "version_major": 2,
       "version_minor": 0
      },
      "text/plain": [
       "Drawing 5000 posterior samples:   0%|          | 0/5000 [00:00<?, ?it/s]"
      ]
     },
     "metadata": {},
     "output_type": "display_data"
    },
    {
     "data": {
      "image/png": "[encoded data removed]",
      "text/plain": [
       "<Figure size 600x600 with 9 Axes>"
      ]
     },
     "metadata": {},
     "output_type": "display_data"
    }
   ],
   "source": [
    "## Try to preserve the relationships of the data with the same kernel size of 3...\n",
    "\n",
    "num_rounds = 2\n",
    "#Reset embedding net?\n",
    "embedding_net_custom = SummaryNet()\n",
    "\n",
    "\n",
    "# We define the neural network (neural density estimator), specifying the embedding net. In this case we use a mixture density network.\n",
    "neural_posterior = utils.posterior_nn(\n",
    "    model=\"maf\", embedding_net=embedding_net_custom, hidden_features=50, num_transforms=3)\n",
    "\n",
    "# Setup the inference procedure with the SNPE-C (Greenberg et al, 2019)\n",
    "inference = SNPE(prior=prior, density_estimator=neural_posterior)\n",
    "\n",
    "posteriors = []\n",
    "proposal = prior\n",
    "\n",
    "num_simulations = 3000\n",
    "simulation_batch_size = 400\n",
    "\n",
    "for _ in range(num_rounds):\n",
    "    theta, x = simulate_for_sbi(simulator_wrapper, proposal, num_simulations=num_simulations, simulation_batch_size=simulation_batch_size, num_workers=num_workers)\n",
    "    density_estimator = inference.append_simulations(\n",
    "        theta, x, proposal=proposal\n",
    "    ).train()\n",
    "    posterior = inference.build_posterior(density_estimator)\n",
    "    posteriors.append(posterior)\n",
    "    proposal = posterior.set_default_x(true_data)\n",
    "\n",
    "posterior_samples_pad1 = posterior.sample((5000,), x=true_data)\n",
    "_ = analysis.pairplot(\n",
    "    posterior_samples_pad1, limits=[[-100, 300], [-100, 300], [-100, 300]], figsize=(6, 6) #It should be close to 247, but since this is a toy example we are not expecting it to work (just checking it runs).\n",
    ")\n",
    "\n",
    "plt.savefig(f'3p-2r*3000s-CNN1_pad1.png')\n",
    "\n",
    "### Save csv...\n",
    "column_name = ['k1','k2','k3']\n",
    "cnn1_pad1_2r3k3p = pd.DataFrame(data=posterior_samples_pad1, columns=column_name)\n",
    "cnn1_pad1_2r3k3p.to_csv('cnn1_pad1_2r3k3p.csv')"
   ]
  },
  {
   "cell_type": "markdown",
   "metadata": {},
   "source": [
    "JUST USE PADDING OF 2!"
   ]
  },
  {
   "cell_type": "markdown",
   "metadata": {},
   "source": [
    "Now CNN1.5, extra linear layer..."
   ]
  },
  {
   "cell_type": "code",
   "execution_count": 41,
   "metadata": {},
   "outputs": [],
   "source": [
    "import torch\n",
    "import torch.nn as nn\n",
    "import torch.nn.functional as F\n",
    "class SummaryNet(nn.Module):\n",
    "    def __init__(self):\n",
    "        super().__init__()\n",
    "        # 2D convolutional layer\n",
    "        self.conv1 = nn.Conv2d(in_channels=1, out_channels=8, kernel_size=3, padding=2)\n",
    "        # Maxpool layer that reduces 32x32 image to 4x4\n",
    "        self.pool = nn.MaxPool2d(kernel_size=3, stride=1)\n",
    "        # Fully connected layer taking as input the 8 flattened output arrays from the maxpooling layer\n",
    "        self.fc1 = nn.Linear(in_features=8*6*100, out_features=1024)\n",
    "        self.fc2 = nn.Linear(in_features=1024, out_features=25)\n",
    "\n",
    "    def forward(self, x): #Shape needs to be (batch size, dim, w, h)\n",
    "        x = x.view(-1, 1, 6,100)\n",
    "        x = self.pool(F.relu(self.conv1(x)))\n",
    "        x = x.view(-1, 8*6*100)\n",
    "        x = F.relu(self.fc1(x))\n",
    "        x = self.fc2(x)\n",
    "        return x\n",
    "    \n",
    "embedding_net_x = SummaryNet()"
   ]
  },
  {
   "cell_type": "code",
   "execution_count": 34,
   "metadata": {},
   "outputs": [
    {
     "data": {
      "application/vnd.jupyter.widget-view+json": {
       "model_id": "6d6e7f7774bd4f18b8075ad51a0f12a1",
       "version_major": 2,
       "version_minor": 0
      },
      "text/plain": [
       "Running 1000 simulations in 7 batches.:   0%|          | 0/7 [00:00<?, ?it/s]"
      ]
     },
     "metadata": {},
     "output_type": "display_data"
    },
    {
     "name": "stdout",
     "output_type": "stream",
     "text": [
      " Neural network successfully converged after 175 epochs."
     ]
    },
    {
     "data": {
      "application/vnd.jupyter.widget-view+json": {
       "model_id": "0792df12d6354804972a10288861d911",
       "version_major": 2,
       "version_minor": 0
      },
      "text/plain": [
       "Drawing 1000 posterior samples:   0%|          | 0/1000 [00:00<?, ?it/s]"
      ]
     },
     "metadata": {},
     "output_type": "display_data"
    },
    {
     "data": {
      "application/vnd.jupyter.widget-view+json": {
       "model_id": "cbe48bed95be442baf96305439947567",
       "version_major": 2,
       "version_minor": 0
      },
      "text/plain": [
       "Running 1000 simulations in 7 batches.:   0%|          | 0/7 [00:00<?, ?it/s]"
      ]
     },
     "metadata": {},
     "output_type": "display_data"
    },
    {
     "name": "stdout",
     "output_type": "stream",
     "text": [
      "Using SNPE-C with atomic loss\n",
      " Neural network successfully converged after 161 epochs."
     ]
    },
    {
     "data": {
      "application/vnd.jupyter.widget-view+json": {
       "model_id": "30eeddd0f613454f84b0df6b918ab6a8",
       "version_major": 2,
       "version_minor": 0
      },
      "text/plain": [
       "Drawing 5000 posterior samples:   0%|          | 0/5000 [00:00<?, ?it/s]"
      ]
     },
     "metadata": {},
     "output_type": "display_data"
    },
    {
     "data": {
      "image/png": "[encoded data removed]",
      "text/plain": [
       "<Figure size 600x600 with 9 Axes>"
      ]
     },
     "metadata": {},
     "output_type": "display_data"
    }
   ],
   "source": [
    "## Try to preserve the relationships of the data with the same kernel size of 3...\n",
    "\n",
    "num_rounds = 2\n",
    "\n",
    "# We define the neural network (neural density estimator), specifying the embedding net. In this case we use a mixture density network.\n",
    "neural_posterior = utils.posterior_nn(\n",
    "    model=\"maf\", embedding_net=embedding_net_x, hidden_features=30, num_transforms=3)\n",
    "\n",
    "# Setup the inference procedure with the SNPE-C (Greenberg et al, 2019)\n",
    "inference = SNPE(prior=prior, density_estimator=neural_posterior)\n",
    "\n",
    "posteriors = []\n",
    "proposal = prior\n",
    "\n",
    "num_simulations = 1000\n",
    "simulation_batch_size = 150\n",
    "\n",
    "for _ in range(num_rounds):\n",
    "    theta, x = simulate_for_sbi(simulator_wrapper, proposal, num_simulations=num_simulations, simulation_batch_size=simulation_batch_size, num_workers=num_workers)\n",
    "    density_estimator = inference.append_simulations(\n",
    "        theta, x, proposal=proposal\n",
    "    ).train()\n",
    "    posterior = inference.build_posterior(density_estimator)\n",
    "    posteriors.append(posterior)\n",
    "    proposal = posterior.set_default_x(true_data)\n",
    "\n",
    "posterior_samples = posterior.sample((5000,), x=true_data)\n",
    "_ = analysis.pairplot(\n",
    "    posterior_samples, limits=[[-100, 300], [-100, 300], [-100, 300]], figsize=(6, 6) #It should be close to 247, but since this is a toy example we are not expecting it to work (just checking it runs).\n",
    ")"
   ]
  },
  {
   "cell_type": "markdown",
   "metadata": {},
   "source": [
    "now CNN2, higher receptive field size..."
   ]
  },
  {
   "cell_type": "code",
   "execution_count": 39,
   "metadata": {},
   "outputs": [],
   "source": [
    "import torch\n",
    "import torch.nn as nn\n",
    "import torch.nn.functional as F\n",
    "class SummaryNet(nn.Module):\n",
    "    def __init__(self):\n",
    "        super().__init__()\n",
    "        # 2D convolutional layer\n",
    "        self.conv1 = nn.Conv2d(in_channels=1, out_channels=8, kernel_size=3, padding=2)\n",
    "        self.conv2 = nn.Conv2d(in_channels=8, out_channels=16, kernel_size=3, padding=2)\n",
    "        # Maxpool layer that reduces 32x32 image to 4x4\n",
    "        self.pool = nn.MaxPool2d(kernel_size=3, stride=1)\n",
    "        # Fully connected layer taking as input the 8 flattened output arrays from the maxpooling layer\n",
    "        self.fc1 = nn.Linear(in_features=16*6*100, out_features=4096)\n",
    "        self.fc2 = nn.Linear(in_features=4096, out_features=1024)\n",
    "        self.fc3 = nn.Linear(in_features=1024, out_features=25)\n",
    "\n",
    "    def forward(self, x): #Shape needs to be (batch size, dim, w, h)\n",
    "        x = x.view(-1, 1, 6, 100)\n",
    "        x = self.pool(F.relu(self.conv1(x)))\n",
    "        x = self.pool(F.relu(self.conv2(x)))\n",
    "        x = x.view(-1, 16*6*100)\n",
    "        x = F.relu(self.fc1(x))\n",
    "        x = F.relu(self.fc2(x))\n",
    "        x = self.fc3(x)\n",
    "        return x\n",
    "    \n",
    "embedding_net2 = SummaryNet()"
   ]
  },
  {
   "cell_type": "code",
   "execution_count": 13,
   "metadata": {},
   "outputs": [],
   "source": [
    "import peakutils\n"
   ]
  },
  {
   "cell_type": "code",
   "execution_count": 40,
   "metadata": {},
   "outputs": [
    {
     "data": {
      "application/vnd.jupyter.widget-view+json": {
       "model_id": "82e927c35ec442b4833c5d5630f3d5d5",
       "version_major": 2,
       "version_minor": 0
      },
      "text/plain": [
       "Running 1000 simulations in 7 batches.:   0%|          | 0/7 [00:00<?, ?it/s]"
      ]
     },
     "metadata": {},
     "output_type": "display_data"
    },
    {
     "name": "stdout",
     "output_type": "stream",
     "text": [
      " Neural network successfully converged after 39 epochs."
     ]
    },
    {
     "data": {
      "application/vnd.jupyter.widget-view+json": {
       "model_id": "fc22848bfcbe4621b25a16dbc776d4a6",
       "version_major": 2,
       "version_minor": 0
      },
      "text/plain": [
       "Drawing 1000 posterior samples:   0%|          | 0/1000 [00:00<?, ?it/s]"
      ]
     },
     "metadata": {},
     "output_type": "display_data"
    },
    {
     "data": {
      "application/vnd.jupyter.widget-view+json": {
       "model_id": "2ebc488aa268401f8f665028530de948",
       "version_major": 2,
       "version_minor": 0
      },
      "text/plain": [
       "Running 1000 simulations in 7 batches.:   0%|          | 0/7 [00:00<?, ?it/s]"
      ]
     },
     "metadata": {},
     "output_type": "display_data"
    },
    {
     "name": "stdout",
     "output_type": "stream",
     "text": [
      "Using SNPE-C with atomic loss\n",
      " Neural network successfully converged after 29 epochs."
     ]
    },
    {
     "data": {
      "application/vnd.jupyter.widget-view+json": {
       "model_id": "7448e8bebd074a10a5994a5f1ead206a",
       "version_major": 2,
       "version_minor": 0
      },
      "text/plain": [
       "Drawing 5000 posterior samples:   0%|          | 0/5000 [00:00<?, ?it/s]"
      ]
     },
     "metadata": {},
     "output_type": "display_data"
    },
    {
     "data": {
      "image/png": "[encoded data removed]",
      "text/plain": [
       "<Figure size 600x600 with 9 Axes>"
      ]
     },
     "metadata": {},
     "output_type": "display_data"
    }
   ],
   "source": [
    "## Try to preserve the relationships of the data with the same kernel size of 3...\n",
    "\n",
    "num_rounds = 2\n",
    "\n",
    "# We define the neural network (neural density estimator), specifying the embedding net. In this case we use a mixture density network.\n",
    "neural_posterior = utils.posterior_nn(\n",
    "    model=\"maf\", embedding_net=embedding_net2, hidden_features=30, num_transforms=3)\n",
    "\n",
    "# Setup the inference procedure with the SNPE-C (Greenberg et al, 2019)\n",
    "inference = SNPE(prior=prior, density_estimator=neural_posterior)\n",
    "\n",
    "posteriors = []\n",
    "proposal = prior\n",
    "\n",
    "num_simulations = 1000\n",
    "simulation_batch_size = 150\n",
    "\n",
    "for _ in range(num_rounds):\n",
    "    theta, x = simulate_for_sbi(simulator_wrapper, proposal, num_simulations=num_simulations, simulation_batch_size=simulation_batch_size, num_workers=num_workers)\n",
    "    density_estimator = inference.append_simulations(\n",
    "        theta, x, proposal=proposal\n",
    "    ).train()\n",
    "    posterior = inference.build_posterior(density_estimator)\n",
    "    posteriors.append(posterior)\n",
    "    proposal = posterior.set_default_x(true_data)\n",
    "\n",
    "posterior_samples = posterior.sample((5000,), x=true_data)\n",
    "_ = analysis.pairplot(\n",
    "    posterior_samples, limits=[[-100, 300], [-100, 300], [-100, 300]], figsize=(6, 6) #It should be close to 247, but since this is a toy example we are not expecting it to work (just checking it runs).\n",
    ")"
   ]
  },
  {
   "cell_type": "code",
   "execution_count": null,
   "metadata": {},
   "outputs": [],
   "source": []
  },
  {
   "cell_type": "code",
   "execution_count": 14,
   "metadata": {},
   "outputs": [
    {
     "data": {
      "text/plain": [
       "torch.Size([3, 8, 8, 102])"
      ]
     },
     "execution_count": 14,
     "metadata": {},
     "output_type": "execute_result"
    }
   ],
   "source": [
    "import torch\n",
    "import torch.nn as nn\n",
    "import torch.nn.functional as F\n",
    "fourdim_r = fourdim.view(-1, 1, 6, 100)\n",
    "pool = nn.MaxPool2d(kernel_size=3, stride=1)\n",
    "conv1 = nn.Conv2d(in_channels=1, out_channels=8, kernel_size=3, padding=2)\n",
    "conv2 = nn.Conv2d(in_channels=8, out_channels=16, kernel_size=3, padding=2)\n",
    "try0 = F.relu(conv1(fourdim_r))\n",
    "try0.shape\n"
   ]
  },
  {
   "cell_type": "code",
   "execution_count": 15,
   "metadata": {},
   "outputs": [
    {
     "data": {
      "text/plain": [
       "torch.Size([3, 8, 6, 100])"
      ]
     },
     "execution_count": 15,
     "metadata": {},
     "output_type": "execute_result"
    }
   ],
   "source": [
    "try1 = pool(F.relu(conv1(fourdim_r)))\n",
    "try1.shape"
   ]
  },
  {
   "cell_type": "code",
   "execution_count": 18,
   "metadata": {},
   "outputs": [
    {
     "data": {
      "text/plain": [
       "torch.Size([3, 16, 8, 102])"
      ]
     },
     "execution_count": 18,
     "metadata": {},
     "output_type": "execute_result"
    }
   ],
   "source": [
    "F.relu(conv2(try1)).shape"
   ]
  },
  {
   "cell_type": "code",
   "execution_count": 16,
   "metadata": {},
   "outputs": [
    {
     "data": {
      "text/plain": [
       "torch.Size([3, 16, 6, 100])"
      ]
     },
     "execution_count": 16,
     "metadata": {},
     "output_type": "execute_result"
    }
   ],
   "source": [
    "try2 = pool(F.relu(conv2(try1)))\n",
    "try2.shape"
   ]
  },
  {
   "cell_type": "code",
   "execution_count": null,
   "metadata": {},
   "outputs": [
    {
     "data": {
      "text/plain": [
       "torch.Size([3, 4800])"
      ]
     },
     "metadata": {},
     "output_type": "display_data"
    }
   ],
   "source": [
    "try2 = try2.view(-1, 8*6*100)\n",
    "try2.shape"
   ]
  },
  {
   "cell_type": "code",
   "execution_count": null,
   "metadata": {},
   "outputs": [
    {
     "data": {
      "text/plain": [
       "torch.Size([3, 1024])"
      ]
     },
     "metadata": {},
     "output_type": "display_data"
    }
   ],
   "source": [
    "fc = nn.Linear(in_features=8*6*100, out_features=1024)\n",
    "fc2 = nn.Linear(in_features=1024, out_features=25)\n",
    "try3 = fc(try2)\n",
    "try3.shape"
   ]
  },
  {
   "cell_type": "code",
   "execution_count": null,
   "metadata": {},
   "outputs": [
    {
     "data": {
      "text/plain": [
       "torch.Size([3, 25])"
      ]
     },
     "metadata": {},
     "output_type": "display_data"
    }
   ],
   "source": [
    "try4 = fc2(try3)\n",
    "try4.shape"
   ]
  },
  {
   "cell_type": "markdown",
   "metadata": {},
   "source": []
  }
 ],
 "metadata": {
  "kernelspec": {
   "display_name": "Python 3",
   "language": "python",
   "name": "python3"
  },
  "language_info": {
   "codemirror_mode": {
    "name": "ipython",
    "version": 3
   },
   "file_extension": ".py",
   "mimetype": "text/x-python",
   "name": "python",
   "nbconvert_exporter": "python",
   "pygments_lexer": "ipython3",
   "version": "3.11.7"
  }
 },
 "nbformat": 4,
 "nbformat_minor": 2
}
