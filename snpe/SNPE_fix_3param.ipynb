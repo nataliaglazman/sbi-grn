{
 "cells": [
  {
   "cell_type": "markdown",
   "metadata": {},
   "source": [
    "Try to tune results obtained to make sure they handle 6 trajectories"
   ]
  },
  {
   "cell_type": "code",
   "execution_count": 1,
   "metadata": {},
   "outputs": [],
   "source": [
    "import numpy as np\n",
    "from tabulate import tabulate\n",
    "import matplotlib.pyplot as plt\n",
    "from scipy.integrate import odeint\n",
    "\n",
    "# Define the model\n",
    "def model(variables, t, params):\n",
    "    m1, p1, m2, p2, m3, p3 = variables\n",
    "    k1, k2, k3 = params\n",
    "\n",
    "    dm1dt = -m1 + (10 ** 3 / (1 + (10 ** k1 * p2) ** 2)) + 1\n",
    "    dp1dt = -10 ** 0 * (p1 - m1)\n",
    "\n",
    "    dm2dt = -m2 + (10 ** 3 / (1 + (10 ** k2 * p3) ** 2)) + 1\n",
    "    dp2dt = -10 ** 0 * (p2 - m2)\n",
    "\n",
    "    dm3dt = -m3 + (10 ** 3 / (1 + (10 ** k3 * p1) ** 2)) + 1\n",
    "    dp3dt = -10 ** 0 * (p3 - m3)\n",
    "\n",
    "    return [dm1dt, dp1dt, dm2dt, dp2dt, dm3dt, dp3dt]\n",
    "\n",
    "#Define true parameters\n",
    "true_params = np.array([\n",
    "    0, 0, 0  # first set of odes\n",
    "])\n",
    "\n",
    "#Define the simulator!\n",
    "def solve_ode(params, t):\n",
    "    initial_conditions = np.array([0, 1, 0, 3, 0, 2])\n",
    "    solution = odeint(model, initial_conditions, t, args=(params,))\n",
    "    return solution\n",
    "\n",
    "num_timesteps = 1000  # Number of time steps for simulation\n",
    "t = np.linspace(0, 100, num_timesteps) #Range of time of simulation\n",
    "true_data = solve_ode(true_params, t) #True trajectories\n",
    "\n",
    "# epsilon = 150 NOT NEEDED Error threshold used in kernel, higher than 2 params\n",
    "# num_samples = 10000 NOT NEEDED # Number of samples to draw"
   ]
  },
  {
   "cell_type": "code",
   "execution_count": 5,
   "metadata": {},
   "outputs": [],
   "source": [
    "import torch\n",
    "\n",
    "from sbi.inference import SNPE, prepare_for_sbi, simulate_for_sbi\n",
    "from sbi import utils as utils\n",
    "from sbi import analysis as analysis\n",
    "from sbi.inference.base import infer\n",
    "\n"
   ]
  },
  {
   "cell_type": "code",
   "execution_count": 3,
   "metadata": {},
   "outputs": [],
   "source": [
    "#better way\n",
    "num_dim = 3\n",
    "num_timesteps = 1000\n",
    "prior = utils.BoxUniform(low=-3 * torch.ones(num_dim), high=3 * torch.ones(num_dim))\n",
    "batch_size = 1\n",
    "num_trajectories = 6\n",
    "\n",
    "def simulator(parameter_set):\n",
    "    initial_conditions = np.array([0, 1, 0, 3, 0, 2])\n",
    "    t = np.linspace(0, 100, num_timesteps)\n",
    "    solution = odeint(model, initial_conditions, t, args=(parameter_set,))\n",
    "    batch_size = 1\n",
    "    solution_tensor = torch.tensor(solution)\n",
    "    solution_tensor_reshaped = solution_tensor.unsqueeze(0).expand(batch_size, -1, -1)\n",
    "    return solution_tensor_reshaped\n"
   ]
  },
  {
   "cell_type": "code",
   "execution_count": null,
   "metadata": {},
   "outputs": [],
   "source": [
    "# An alternative simulator that handles different trajectories\n",
    "import torch\n",
    "\n",
    "# Define the model\n",
    "def model(variables, t, params):\n",
    "    m1, p1, m2, p2, m3, p3 = variables\n",
    "    k1, k2, k3 = params\n",
    "\n",
    "    dm1dt = -m1 + (10 ** 3 / (1 + (10 ** k1 * p2) ** 2)) + 1\n",
    "    dp1dt = -10 ** 0 * (p1 - m1)\n",
    "\n",
    "    dm2dt = -m2 + (10 ** 3 / (1 + (10 ** k2 * p3) ** 2)) + 1\n",
    "    dp2dt = -10 ** 0 * (p2 - m2)\n",
    "\n",
    "    dm3dt = -m3 + (10 ** 3 / (1 + (10 ** k3 * p1) ** 2)) + 1\n",
    "    dp3dt = -10 ** 0 * (p3 - m3)\n",
    "\n",
    "    return [dm1dt, dp1dt, dm2dt, dp2dt, dm3dt, dp3dt]\n",
    "\n",
    "#Define true parameters\n",
    "true_params = np.array([\n",
    "    0, 0, 0  # first set of odes\n",
    "])\n",
    "\n",
    "#Define the simulator!\n",
    "def solve_ode(params, t):\n",
    "    initial_conditions = np.array([0, 1, 0, 3, 0, 2])\n",
    "    solution = odeint(model, initial_conditions, t, args=(params,))\n",
    "    return solution\n",
    "\n",
    "# Define Simulator\n",
    "class MySimulator:\n",
    "    def __init__(self, num_dimensions, trajectory_length):\n",
    "        self.num_dimensions = num_dimensions\n",
    "        self.trajectory_length = trajectory_length\n",
    "\n",
    "    def simulate(self, parameters):\n",
    "        num_samples = parameters.shape[0]\n",
    "        trajectories = torch.zeros((num_samples, self.trajectory_length, self.num_dimensions))\n",
    "\n",
    "        for i in range(num_samples):\n",
    "            # Example: Simulate trajectories based on parameters\n",
    "            for t in range(self.trajectory_length):\n",
    "                # Example: Generating data for each time step\n",
    "                # Replace this with your simulation logic\n",
    "                data_point = torch.randn(self.num_dimensions)  # Example: Random data\n",
    "                trajectories[i, t] = data_point\n",
    "\n",
    "        return trajectories\n",
    "\n",
    "# Example Usage\n",
    "# Number of dimensions in the trajectories\n",
    "num_dimensions = 2\n",
    "# Length of each trajectory\n",
    "trajectory_length = 10\n",
    "\n",
    "# Create an instance of the simulator\n",
    "simulator = MySimulator(num_dimensions, trajectory_length)\n",
    "\n",
    "# Example: Generate trajectories for a batch of parameters\n",
    "num_samples = 100\n",
    "parameters = torch.randn(num_samples, num_dimensions)  # Example: Random parameters\n",
    "trajectories = simulator.simulate(parameters)\n",
    "\n",
    "# Now you have a batch of simulated multidimensional trajectories ready to be used with SNPE.\n"
   ]
  },
  {
   "cell_type": "code",
   "execution_count": 8,
   "metadata": {},
   "outputs": [],
   "source": [
    "num_simulations = 100\n",
    "\n",
    "# Sample parameters from the prior distribution\n",
    "parameters = prior.sample((num_simulations,))\n",
    "\n",
    "# Generate simulated data for each set of parameters\n",
    "simulated_data = [simulator(param) for param in parameters]"
   ]
  },
  {
   "cell_type": "code",
   "execution_count": 7,
   "metadata": {},
   "outputs": [],
   "source": [
    "simulator, prior = prepare_for_sbi(simulator, prior)"
   ]
  },
  {
   "cell_type": "code",
   "execution_count": 8,
   "metadata": {},
   "outputs": [],
   "source": [
    "inference = SNPE(prior=prior)"
   ]
  },
  {
   "cell_type": "code",
   "execution_count": 10,
   "metadata": {},
   "outputs": [
    {
     "data": {
      "application/vnd.jupyter.widget-view+json": {
       "model_id": "b37d5a408cfe47b8b4c3ed1b92477eeb",
       "version_major": 2,
       "version_minor": 0
      },
      "text/plain": [
       "Running 50 simulations.:   0%|          | 0/50 [00:00<?, ?it/s]"
      ]
     },
     "metadata": {},
     "output_type": "display_data"
    }
   ],
   "source": [
    "theta, x = simulate_for_sbi(simulator, proposal=prior, num_simulations=50)"
   ]
  },
  {
   "cell_type": "code",
   "execution_count": 14,
   "metadata": {},
   "outputs": [
    {
     "data": {
      "text/plain": [
       "tensor([ 1.5204,  1.5692, -2.0069])"
      ]
     },
     "execution_count": 14,
     "metadata": {},
     "output_type": "execute_result"
    }
   ],
   "source": [
    "theta[0]"
   ]
  },
  {
   "cell_type": "code",
   "execution_count": 21,
   "metadata": {},
   "outputs": [
    {
     "data": {
      "text/plain": [
       "tensor([0.0000e+00, 1.0000e+00, 0.0000e+00,  ..., 1.0000e+00, 1.0006e+03,\n",
       "        1.0006e+03])"
      ]
     },
     "execution_count": 21,
     "metadata": {},
     "output_type": "execute_result"
    }
   ],
   "source": [
    "x[0]"
   ]
  },
  {
   "cell_type": "code",
   "execution_count": 16,
   "metadata": {},
   "outputs": [],
   "source": [
    "inference = inference.append_simulations(theta, x)"
   ]
  },
  {
   "cell_type": "code",
   "execution_count": 17,
   "metadata": {},
   "outputs": [
    {
     "name": "stdout",
     "output_type": "stream",
     "text": [
      "Neural network successfully converged after 152 epochs.\n"
     ]
    }
   ],
   "source": [
    "density_estimator = inference.train()"
   ]
  },
  {
   "cell_type": "code",
   "execution_count": 18,
   "metadata": {},
   "outputs": [],
   "source": [
    "posterior = inference.build_posterior(density_estimator)"
   ]
  },
  {
   "cell_type": "code",
   "execution_count": 19,
   "metadata": {},
   "outputs": [
    {
     "data": {
      "text/plain": [
       "tensor([ 0.0000,  1.0000,  0.0000,  ..., 32.8362,  1.2295,  2.4615],\n",
       "       dtype=torch.float64)"
      ]
     },
     "execution_count": 19,
     "metadata": {},
     "output_type": "execute_result"
    }
   ],
   "source": [
    "true_merged = []\n",
    "for i in range(len(true_data)):\n",
    "    for j in range(6):\n",
    "        true_merged.append(true_data[i][j])\n",
    "true_merged\n",
    "true_merged_tensor = torch.tensor(true_merged)\n",
    "true_merged_tensor"
   ]
  },
  {
   "cell_type": "code",
   "execution_count": 20,
   "metadata": {},
   "outputs": [
    {
     "data": {
      "application/vnd.jupyter.widget-view+json": {
       "model_id": "35f541722a714d4a9034c7272c0a3275",
       "version_major": 2,
       "version_minor": 0
      },
      "text/plain": [
       "Drawing 10000 posterior samples:   0%|          | 0/10000 [00:00<?, ?it/s]"
      ]
     },
     "metadata": {},
     "output_type": "display_data"
    },
    {
     "data": {
      "image/png": "[encoded data removed]",
      "text/plain": [
       "<Figure size 500x500 with 9 Axes>"
      ]
     },
     "metadata": {},
     "output_type": "display_data"
    }
   ],
   "source": [
    "posterior_samples = posterior.sample((10000,), x=true_merged_tensor)\n",
    "\n",
    "# plot posterior samples\n",
    "_ = analysis.pairplot(\n",
    "    posterior_samples, limits=[[-2, 2], [-2, 2], [-2, 2]], figsize=(5, 5)\n",
    ")"
   ]
  }
 ],
 "metadata": {
  "kernelspec": {
   "display_name": "Python 3",
   "language": "python",
   "name": "python3"
  },
  "language_info": {
   "codemirror_mode": {
    "name": "ipython",
    "version": 3
   },
   "file_extension": ".py",
   "mimetype": "text/x-python",
   "name": "python",
   "nbconvert_exporter": "python",
   "pygments_lexer": "ipython3",
   "version": "3.11.7"
  }
 },
 "nbformat": 4,
 "nbformat_minor": 2
}
