{
 "cells": [
  {
   "cell_type": "markdown",
   "metadata": {},
   "source": [
    "Try to tune results obtained to make sure they handle 6 trajectories"
   ]
  },
  {
   "cell_type": "code",
   "execution_count": 1,
   "metadata": {},
   "outputs": [],
   "source": [
    "import numpy as np\n",
    "from tabulate import tabulate\n",
    "import matplotlib.pyplot as plt\n",
    "from scipy.integrate import odeint\n",
    "\n",
    "# Define the model\n",
    "def model(variables, t, params):\n",
    "    m1, p1, m2, p2, m3, p3 = variables\n",
    "    k1, k2, k3 = params\n",
    "\n",
    "    dm1dt = -m1 + (10 ** 3 / (1 + (10 ** k1 * p2) ** 2)) + 1\n",
    "    dp1dt = -10 ** 0 * (p1 - m1)\n",
    "\n",
    "    dm2dt = -m2 + (10 ** 3 / (1 + (10 ** k2 * p3) ** 2)) + 1\n",
    "    dp2dt = -10 ** 0 * (p2 - m2)\n",
    "\n",
    "    dm3dt = -m3 + (10 ** 3 / (1 + (10 ** k3 * p1) ** 2)) + 1\n",
    "    dp3dt = -10 ** 0 * (p3 - m3)\n",
    "\n",
    "    return [dm1dt, dp1dt, dm2dt, dp2dt, dm3dt, dp3dt]\n",
    "\n",
    "#Define true parameters\n",
    "true_params = np.array([\n",
    "    0, 0, 0  # first set of odes\n",
    "])\n",
    "\n",
    "#Define the simulator!\n",
    "def solve_ode(params, t):\n",
    "    initial_conditions = np.array([0, 1, 0, 3, 0, 2])\n",
    "    solution = odeint(model, initial_conditions, t, args=(params,))\n",
    "    return solution\n",
    "\n",
    "num_timesteps = 1000  # Number of time steps for simulation\n",
    "t = np.linspace(0, 100, num_timesteps) #Range of time of simulation\n",
    "true_data = solve_ode(true_params, t) #True trajectories\n",
    "\n",
    "# epsilon = 150 NOT NEEDED Error threshold used in kernel, higher than 2 params\n",
    "# num_samples = 10000 NOT NEEDED # Number of samples to draw"
   ]
  },
  {
   "cell_type": "code",
   "execution_count": 2,
   "metadata": {},
   "outputs": [],
   "source": [
    "import torch\n",
    "from sbi import utils as utils\n",
    "from sbi import analysis as analysis\n",
    "from sbi.inference.base import infer\n"
   ]
  },
  {
   "cell_type": "code",
   "execution_count": 3,
   "metadata": {},
   "outputs": [],
   "source": [
    "#better way\n",
    "num_dim = 3\n",
    "num_timesteps = 1000\n",
    "prior = utils.BoxUniform(low=-3 * torch.ones(num_dim), high=3 * torch.ones(num_dim))\n",
    "batch_size = 1\n",
    "num_trajectories = 6\n",
    "\n",
    "def simulator(parameter_set):\n",
    "    initial_conditions = np.array([0, 1, 0, 3, 0, 2])\n",
    "    t = np.linspace(0, 100, num_timesteps)\n",
    "    solution = odeint(model, initial_conditions, t, args=(parameter_set,))\n",
    "    batch_size = 1\n",
    "    solution_tensor = torch.tensor(solution)\n",
    "    solution_tensor_reshaped = solution_tensor.unsqueeze(0).expand(batch_size, -1, -1)\n",
    "    return solution_tensor_reshaped\n"
   ]
  },
  {
   "cell_type": "code",
   "execution_count": 5,
   "metadata": {},
   "outputs": [
    {
     "name": "stderr",
     "output_type": "stream",
     "text": [
      "/project/home23/sg2023/Desktop/SBI/.conda/lib/python3.11/site-packages/scipy/integrate/_odepack_py.py:242: FutureWarning: The input object of type 'Tensor' is an array-like implementing one of the corresponding protocols (`__array__`, `__array_interface__` or `__array_struct__`); but not a sequence (or 0-D). In the future, this object will be coerced as if it was first converted using `np.array(obj)`. To retain the old behaviour, you have to either modify the type 'Tensor', or assign to an empty array created with `np.empty(correct_shape, dtype=object)`.\n",
      "  output = _odepack.odeint(func, y0, t, args, Dfun, col_deriv, ml, mu,\n"
     ]
    },
    {
     "data": {
      "application/vnd.jupyter.widget-view+json": {
       "model_id": "738409ad2fc04736b794b44dfefa8fc5",
       "version_major": 2,
       "version_minor": 0
      },
      "text/plain": [
       "Running 2000 simulations.:   0%|          | 0/2000 [00:00<?, ?it/s]"
      ]
     },
     "metadata": {},
     "output_type": "display_data"
    },
    {
     "name": "stdout",
     "output_type": "stream",
     "text": [
      "Neural network successfully converged after 193 epochs.\n"
     ]
    }
   ],
   "source": [
    "posterior = infer(simulator, prior, method=\"SNPE\", num_simulations=2000)"
   ]
  },
  {
   "cell_type": "code",
   "execution_count": null,
   "metadata": {},
   "outputs": [],
   "source": [
    "\n",
    "# Add a batch dimension to the observation - NOT NEEDED BECAUSE SIMULATIONS ACTUALLY ARE 1x6000 DIMENSIONS\n",
    "#batch_size = 1\n",
    "#observation = torch.tensor(true_data)\n",
    "#true_tensor = observation.unsqueeze(0).expand(batch_size, -1, -1)\n",
    "#true_tensor"
   ]
  },
  {
   "cell_type": "code",
   "execution_count": 8,
   "metadata": {},
   "outputs": [
    {
     "data": {
      "text/plain": [
       "tensor([ 0.0000,  1.0000,  0.0000,  ..., 32.8362,  1.2295,  2.4615],\n",
       "       dtype=torch.float64)"
      ]
     },
     "execution_count": 8,
     "metadata": {},
     "output_type": "execute_result"
    }
   ],
   "source": [
    "true_merged = []\n",
    "for i in range(len(true_data)):\n",
    "    for j in range(6):\n",
    "        true_merged.append(true_data[i][j])\n",
    "true_merged\n",
    "true_merged_tensor = torch.tensor(true_merged)\n",
    "true_merged_tensor"
   ]
  },
  {
   "cell_type": "code",
   "execution_count": 7,
   "metadata": {},
   "outputs": [
    {
     "data": {
      "application/vnd.jupyter.widget-view+json": {
       "model_id": "3b29e929203c49cfbb118adef9301e52",
       "version_major": 2,
       "version_minor": 0
      },
      "text/plain": [
       "Drawing 10000 posterior samples:   0%|          | 0/10000 [00:00<?, ?it/s]"
      ]
     },
     "metadata": {},
     "output_type": "display_data"
    },
    {
     "data": {
      "image/png": "[encoded data removed]",
      "text/plain": [
       "<Figure size 500x500 with 4 Axes>"
      ]
     },
     "metadata": {},
     "output_type": "display_data"
    }
   ],
   "source": [
    "posterior_samples = posterior.sample((10000,), x=true_merged_tensor)\n",
    "# plot posterior samples\n",
    "_ = analysis.pairplot(\n",
    "    posterior_samples, limits=[[-3, 3], [-3, 3]], figsize=(5, 5)\n",
    ")"
   ]
  }
 ],
 "metadata": {
  "kernelspec": {
   "display_name": "Python 3",
   "language": "python",
   "name": "python3"
  },
  "language_info": {
   "codemirror_mode": {
    "name": "ipython",
    "version": 3
   },
   "file_extension": ".py",
   "mimetype": "text/x-python",
   "name": "python",
   "nbconvert_exporter": "python",
   "pygments_lexer": "ipython3",
   "version": "3.11.7"
  }
 },
 "nbformat": 4,
 "nbformat_minor": 2
}
