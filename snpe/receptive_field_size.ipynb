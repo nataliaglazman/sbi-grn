{
 "cells": [
  {
   "cell_type": "markdown",
   "metadata": {},
   "source": [
    "# Receptive field size of CNN"
   ]
  },
  {
   "cell_type": "code",
   "execution_count": 25,
   "metadata": {},
   "outputs": [],
   "source": [
    "#[kernel, stride, padding]\n",
    "\n",
    "CNN2 = {\n",
    "    'conv1': [3,1,1],\n",
    "    'pool1': [3,2,1],\n",
    "    'conv2': [3,1,1],\n",
    "    'pool2': [3,2,1],\n",
    "    'fc': [1,1,0],\n",
    "}\n",
    "\n",
    "import math;\n",
    "\n",
    "class ReceptiveFieldCalculator():\n",
    "    def calculate(self, architecture, input_image_size):\n",
    "        input_layer = ('input_layer', input_image_size, 1, 1, 0.5)\n",
    "        self._print_layer_info(input_layer)\n",
    "        \n",
    "        for key in architecture:\n",
    "            current_layer = self._calculate_layer_info(architecture[key], input_layer, key)\n",
    "            self._print_layer_info(current_layer)\n",
    "            input_layer = current_layer\n",
    "            \n",
    "    def _print_layer_info(self, layer):\n",
    "        print(f'------')\n",
    "        print(f'{layer[0]}: n = {layer[1]}; r = {layer[2]}; j = {layer[3]}; start = {layer[4]}')     \n",
    "        print(f'------')\n",
    "            \n",
    "    def _calculate_layer_info(self, current_layer, input_layer, layer_name):\n",
    "        n_in = input_layer[1]\n",
    "        j_in = input_layer[2]\n",
    "        r_in = input_layer[3]\n",
    "        start_in = input_layer[4]\n",
    "        \n",
    "        k = current_layer[0]\n",
    "        s = current_layer[1]\n",
    "        p = current_layer[2]\n",
    "\n",
    "        n_out = math.floor((n_in - k + 2*p)/s) + 1\n",
    "        padding = (n_out-1)*s - n_in + k \n",
    "        p_right = math.ceil(padding/2)\n",
    "        p_left = math.floor(padding/2)\n",
    "\n",
    "        j_out = j_in * s\n",
    "        r_out = r_in + (k - 1)*j_in\n",
    "        start_out = start_in + ((k-1)/2 - p_left)*j_in\n",
    "        return layer_name, n_out, j_out, r_out, start_out"
   ]
  },
  {
   "cell_type": "code",
   "execution_count": 27,
   "metadata": {},
   "outputs": [
    {
     "name": "stdout",
     "output_type": "stream",
     "text": [
      "------\n",
      "input_layer: n = 1000; r = 1; j = 1; start = 0.5\n",
      "------\n",
      "------\n",
      "conv1: n = 1000; r = 1; j = 3; start = 0.5\n",
      "------\n",
      "------\n",
      "pool1: n = 500; r = 2; j = 5; start = 1.5\n",
      "------\n",
      "------\n",
      "conv2: n = 500; r = 2; j = 9; start = 1.5\n",
      "------\n",
      "------\n",
      "pool2: n = 250; r = 4; j = 13; start = 3.5\n",
      "------\n",
      "------\n",
      "fc: n = 250; r = 4; j = 13; start = 3.5\n",
      "------\n"
     ]
    }
   ],
   "source": [
    "calculator = ReceptiveFieldCalculator()\n",
    "calculator.calculate(CNN2, 1000)"
   ]
  },
  {
   "cell_type": "code",
   "execution_count": 28,
   "metadata": {},
   "outputs": [
    {
     "name": "stdout",
     "output_type": "stream",
     "text": [
      "------\n",
      "input_layer: n = 6; r = 1; j = 1; start = 0.5\n",
      "------\n",
      "------\n",
      "conv1: n = 6; r = 1; j = 3; start = 0.5\n",
      "------\n",
      "------\n",
      "pool1: n = 3; r = 2; j = 5; start = 1.5\n",
      "------\n",
      "------\n",
      "conv2: n = 3; r = 2; j = 9; start = 1.5\n",
      "------\n",
      "------\n",
      "pool2: n = 2; r = 4; j = 13; start = 1.5\n",
      "------\n",
      "------\n",
      "fc: n = 2; r = 4; j = 13; start = 1.5\n",
      "------\n"
     ]
    }
   ],
   "source": [
    "calculator.calculate(CNN2, 6)"
   ]
  },
  {
   "cell_type": "markdown",
   "metadata": {},
   "source": [
    "### for CNN3 (cpcplll), receptive field size of 4, 4\n",
    "### for CNN2 (cplll), receptive field size of 2, 2"
   ]
  },
  {
   "cell_type": "markdown",
   "metadata": {},
   "source": [
    "## Another way to calculate receptive field size"
   ]
  },
  {
   "cell_type": "code",
   "execution_count": 7,
   "metadata": {},
   "outputs": [
    {
     "name": "stdout",
     "output_type": "stream",
     "text": [
      "-------Net summary------\n",
      "input image:\n",
      "\t n features: 100 \n",
      " \t jump: 1 \n",
      " \t receptive size: 1 \t start: 0.5 \n",
      "conv1:\n",
      "\t n features: 50 \n",
      " \t jump: 2 \n",
      " \t receptive size: 3 \t start: 1.5 \n",
      "pool1:\n",
      "\t n features: 52 \n",
      " \t jump: 2 \n",
      " \t receptive size: 7 \t start: -0.5 \n",
      "fc:\n",
      "\t n features: 52 \n",
      " \t jump: 2 \n",
      " \t receptive size: 7 \t start: -0.5 \n",
      "------------------------\n",
      "receptive field: (3, 3)\n",
      "center: (3.5, 1.5)\n"
     ]
    }
   ],
   "source": [
    "# [filter size, stride, padding]\n",
    "#Assume the two dimensions are the same\n",
    "#Each kernel requires the following parameters:\n",
    "# - k_i: kernel size\n",
    "# - s_i: stride\n",
    "# - p_i: padding (if padding is uneven, right padding will higher than left padding; \"SAME\" option in tensorflow)\n",
    "# \n",
    "#Each layer i requires the following parameters to be fully represented: \n",
    "# - n_i: number of feature (data layer has n_1 = imagesize )\n",
    "# - j_i: distance (projected to image pixel distance) between center of two adjacent features\n",
    "# - r_i: receptive field of a feature in layer i\n",
    "# - start_i: position of the first feature's receptive field in layer i (idx start from 0, negative means the center fall into padding)\n",
    "\n",
    "import math\n",
    "convnet =   [[3,2,1],[3,1,2],[1, 1, 0]]\n",
    "layer_names = ['conv1','pool1', 'fc']\n",
    "imsize = 100\n",
    "\n",
    "def outFromIn(conv, layerIn):\n",
    "  n_in = layerIn[0]\n",
    "  j_in = layerIn[1]\n",
    "  r_in = layerIn[2]\n",
    "  start_in = layerIn[3]\n",
    "  k = conv[0]\n",
    "  s = conv[1]\n",
    "  p = conv[2]\n",
    "  \n",
    "  n_out = math.floor((n_in - k + 2*p)/s) + 1\n",
    "  actualP = (n_out-1)*s - n_in + k \n",
    "  pR = math.ceil(actualP/2)\n",
    "  pL = math.floor(actualP/2)\n",
    "  \n",
    "  j_out = j_in * s\n",
    "  r_out = r_in + (k - 1)*j_in\n",
    "  start_out = start_in + ((k-1)/2 - pL)*j_in\n",
    "  return n_out, j_out, r_out, start_out\n",
    "  \n",
    "def printLayer(layer, layer_name):\n",
    "  print(layer_name + \":\")\n",
    "  print(\"\\t n features: %s \\n \\t jump: %s \\n \\t receptive size: %s \\t start: %s \" % (layer[0], layer[1], layer[2], layer[3]))\n",
    " \n",
    "layerInfos = []\n",
    "if __name__ == '__main__':\n",
    "#first layer is the data layer (image) with n_0 = image size; j_0 = 1; r_0 = 1; and start_0 = 0.5\n",
    "  print (\"-------Net summary------\")\n",
    "  currentLayer = [imsize, 1, 1, 0.5]\n",
    "  printLayer(currentLayer, \"input image\")\n",
    "  for i in range(len(convnet)):\n",
    "    currentLayer = outFromIn(convnet[i], currentLayer)\n",
    "    layerInfos.append(currentLayer)\n",
    "    printLayer(currentLayer, layer_names[i])\n",
    "  print (\"------------------------\")\n",
    "  layer_name = input (\"Layer name where the feature in: \")\n",
    "  layer_idx = layer_names.index(layer_name)\n",
    "  idx_x = int(input (\"index of the feature in x dimension (from 0)\"))\n",
    "  idx_y = int(input (\"index of the feature in y dimension (from 0)\"))\n",
    "  \n",
    "  n = layerInfos[layer_idx][0]\n",
    "  j = layerInfos[layer_idx][1]\n",
    "  r = layerInfos[layer_idx][2]\n",
    "  start = layerInfos[layer_idx][3]\n",
    "  assert(idx_x < n)\n",
    "  assert(idx_y < n)\n",
    "  \n",
    "  print (\"receptive field: (%s, %s)\" % (r, r))\n",
    "  print (\"center: (%s, %s)\" % (start+idx_x*j, start+idx_y*j))\n",
    "  "
   ]
  }
 ],
 "metadata": {
  "kernelspec": {
   "display_name": "Python 3",
   "language": "python",
   "name": "python3"
  },
  "language_info": {
   "codemirror_mode": {
    "name": "ipython",
    "version": 3
   },
   "file_extension": ".py",
   "mimetype": "text/x-python",
   "name": "python",
   "nbconvert_exporter": "python",
   "pygments_lexer": "ipython3",
   "version": "3.11.7"
  }
 },
 "nbformat": 4,
 "nbformat_minor": 2
}
