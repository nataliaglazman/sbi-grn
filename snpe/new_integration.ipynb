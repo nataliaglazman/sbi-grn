{
 "cells": [
  {
   "cell_type": "markdown",
   "metadata": {},
   "source": [
    "# New integration method..."
   ]
  },
  {
   "cell_type": "code",
   "execution_count": null,
   "metadata": {},
   "outputs": [],
   "source": [
    "import numpy as np\n",
    "\n",
    "def euler_method(func, y0, t, params):\n",
    "    \"\"\"\n",
    "    Integrate a system of ODEs using Euler's method.\n",
    "\n",
    "    Parameters:\n",
    "        func : function\n",
    "            A function representing the right-hand side of the system of ODEs.\n",
    "            It must take three arguments: t (time), y (state), and params (parameters),\n",
    "            and return the derivative of y as an array.\n",
    "        y0 : array_like\n",
    "            The initial condition on the state y at the initial time t0.\n",
    "        t : array_like\n",
    "            A sequence of time points for which to solve for y. The initial\n",
    "            value point should be the first element of this sequence.\n",
    "        params : array_like\n",
    "            Parameters required by the ODE function.\n",
    "\n",
    "    Returns:\n",
    "        y : ndarray, shape (len(t), len(y0))\n",
    "            Array containing the value of y for each desired time in t,\n",
    "            with the initial value y0 in the first row.\n",
    "    \"\"\"\n",
    "    num_eqns = len(y0)\n",
    "    y = np.zeros((len(t), num_eqns))\n",
    "    y[0] = y0\n",
    "    dt = t[1] - t[0]\n",
    "    for i in range(1, len(t)):\n",
    "        y[i] = y[i - 1] + dt * func(t[i - 1], y[i - 1], params)\n",
    "    return y\n",
    "\n",
    "def system_of_odes(t, y, params):\n",
    "    \"\"\"\n",
    "    Defines the system of ODEs to be integrated.\n",
    "\n",
    "    Parameters:\n",
    "        t : float\n",
    "            The current time.\n",
    "        y : array_like\n",
    "            The current state of the system.\n",
    "        params : array_like\n",
    "            Parameters required by the ODE function.\n",
    "\n",
    "    Returns:\n",
    "        dydt : array_like\n",
    "            The derivative of the state y at time t.\n",
    "    \"\"\"\n",
    "    dydt = np.zeros_like(y)\n",
    "    m1, p1, m2, p2, m3, p3 = y\n",
    "    k1, k2 = params #only 2 ks are parameters to infer\n",
    "    k3 = 246.96291990024542\n",
    "    a1 = a2 = a3 = 24.78485282457379\n",
    "    g1 = g2 = g3 = 0.024884149937163258\n",
    "    n1 = n2 = n3 = 5\n",
    "    b1 = b2 = b3 = 33.82307682700831\n",
    "    dm1 = dm2 = dm3 = 1.143402097500176\n",
    "    dp1 = dp2 = dp3 = 0.7833664565550977\n",
    "\n",
    "    dydt[0] = -dm1 * m1 + (a1 / (1 + ((1/k1) * p2) ** n1)) + g1\n",
    "    dydt[1] = (b1 * m1) - (dp1 * p1)\n",
    "    dydt[2] = -dm2 * m2 + (a2 / (1 + ((1/k2) * p3) ** n2)) + g2\n",
    "    dydt[3] = (b2 * m2) - (dp2 * p2)\n",
    "    dydt[4] = -dm3 * m3 + (a3 / (1 + ((1/k3) * p1) ** n3)) + g3\n",
    "    dydt[5] = (b3 * m3)-(dp3 * p3)\n",
    "    \n",
    "    return dydt\n",
    "\n",
    "# Initial conditions\n",
    "true_params = np.array([\n",
    "    246.96291990024542, 246.96291990024542])\n",
    "num_timesteps = 1000\n",
    "num_trajectories = 6\n",
    "y0 = np.array([0, 1, 0, 3, 0, 2])\n",
    "t = np.linspace(0, 100, num_timesteps)\n",
    "\n",
    "# Integrate the system of ODEs using Euler's method\n",
    "y = euler_method(system_of_odes, y0, t, true_params) #6x1000\n",
    "y"
   ]
  },
  {
   "cell_type": "code",
   "execution_count": null,
   "metadata": {},
   "outputs": [],
   "source": [
    "#Now if we want to flatten it...\n",
    "import torch\n",
    "y_transposed = y.T\n",
    "concatenated_trajectories = y_transposed.flatten()\n",
    "yt = torch.tensor(concatenated_trajectories)\n",
    "yt.shape"
   ]
  },
  {
   "cell_type": "markdown",
   "metadata": {},
   "source": [
    "## Beware that there are a couple of other things to be done before \"prepare_for_sbi\" for SNPE (i.e., enable it to handle multiple parameter sets)"
   ]
  }
 ],
 "metadata": {
  "language_info": {
   "name": "python"
  }
 },
 "nbformat": 4,
 "nbformat_minor": 2
}
