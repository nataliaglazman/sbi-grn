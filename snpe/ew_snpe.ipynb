{
 "cells": [
  {
   "cell_type": "markdown",
   "metadata": {},
   "source": [
    "# SNPE with summary stats"
   ]
  },
  {
   "cell_type": "code",
   "execution_count": 9,
   "metadata": {},
   "outputs": [],
   "source": [
    "import numpy as np\n",
    "from scipy.integrate import odeint\n",
    "\n",
    "def model(variables, t, params):\n",
    "    m1, p1, m2, p2, m3, p3 = variables\n",
    "    k1,k2,k3,a1,a2,a3=params\n",
    "    #for now we are setting a, g, n, b dm, dp to be constant\n",
    "    g1 = g2 = g3 = 0.024884149937163258\n",
    "    n1 = n2 = n3 = 5.\n",
    "    b1 = b2 = b3 = 33.82307682700831\n",
    "    dm1 = dm2 = dm3 =1.143402097500176\n",
    "    dp1 = dp2 = dp3 = 0.7833664565550977\n",
    "    dm1dt = -dm1*m1 + (a1 / (1 + ((1/k1) * p2)**n1)) + g1\n",
    "    dp1dt = (b1*m1) - (dp1*p1)\n",
    "    dm2dt = -dm2*m2 + (a2 / (1 + ((1/k2) * p3)**n2)) + g2\n",
    "    dp2dt = (b2*m2) - (dp2*p2)\n",
    "    dm3dt = -dm3*m3 + (a3 / (1 + ((1/k3) * p1)**n3)) + g3\n",
    "    dp3dt = (b3*m3)-(dp3*p3)\n",
    "    return np.array([dm1dt, dp1dt, dm2dt, dp2dt, dm3dt, dp3dt])\n",
    "\n",
    "def solve_ode(params):\n",
    "    initial_conditions = np.array([0, 2, 0, 1, 0, 3])\n",
    "    solution = odeint(model, initial_conditions, t=np.linspace(0,100,100), args=(params,)) # The initial value point should be the first element of this sequence\n",
    "    return solution\n",
    "\n",
    "timepoints = int(100)\n",
    "third = int(timepoints / 3)\n",
    "#truncated_traj = true_data[third:timepoints,:]\n",
    "\n",
    "from scipy.signal import find_peaks\n",
    "\n",
    "def summarise(solution):\n",
    "    \"\"\"Calculate summary statistics\n",
    "        requires solution to be the result of calling solve_ode[parameters]\n",
    "        e.g. true_data\n",
    "        Returns\n",
    "        -------\n",
    "        a 1D array of summary statistics containing the mean of solution, the log variance of solution, the autocorrelation at lag 10, cross correlation of mRNA and protein species separately, number of peaks\n",
    "        \"\"\"\n",
    "    mean=np.mean(solution, axis=0)\n",
    "    var=np.var(solution, axis=0)\n",
    "    #The autocorrelation coefficient of each time series at lag 10 and lag 5\n",
    "    #can be altered\n",
    "    auto_cor=np.corrcoef(solution[10:,:], solution[:-10,:], rowvar=False)[6:,:]\n",
    "    auto_cor_coef=np.diag(auto_cor)\n",
    "    cor=np.corrcoef(solution, solution, rowvar=False)[:6,2:8]\n",
    "    cor_coef=np.diag(cor)\n",
    "    #returning cross correlation coefficients of mRNA to mRNA species, protein to protein species\n",
    "    truncated_trajectory=solution[third:timepoints,:]\n",
    "    peaks,_=zip(*(find_peaks(truncated_trajectory[:,i], height=0) for i in range(6)))\n",
    "    peak_count=np.array([len(p) for p in peaks])\n",
    "    return(np.concatenate([mean, var, auto_cor_coef, cor_coef, peak_count.flatten()]))\n"
   ]
  },
  {
   "cell_type": "code",
   "execution_count": 10,
   "metadata": {},
   "outputs": [],
   "source": [
    "def find_mean_std(num_samples):\n",
    "    \"\"\"a function that returns the mean and standard deviation of the summary statistics of the simulated data, for the number of samples specified\"\"\"\n",
    "#generate an empty np array to store simulated data\n",
    "    simulated_arr=np.zeros((num_samples, 30))\n",
    "    for i in range(num_samples):\n",
    "        params_val=np.concatenate((np.random.default_rng().uniform(0.01,250,3),np.random.default_rng().uniform(20.,40.,3))).flatten()\n",
    "        simulated_data=solve_ode(params_val)\n",
    "        simulated_arr[i,:]=summarise(simulated_data)\n",
    "    s_std=np.std(simulated_arr, axis=0)\n",
    "    s_mean=np.mean(simulated_arr, axis=0)\n",
    "    return(s_mean, s_std)\n",
    "\n",
    "m1,s1=find_mean_std(10000)\n",
    "\n",
    "def normalise(sum_stats, mean, std):\n",
    "    \"\"\"takes in sum stats of 1 by 30 array, mean and std are both 1 by 30 arrays, normalise data by the empirically calculated mean and std\"\"\"\n",
    "    normalised=(sum_stats-mean)/std\n",
    "    return(normalised)"
   ]
  },
  {
   "cell_type": "code",
   "execution_count": 24,
   "metadata": {},
   "outputs": [],
   "source": [
    "import torch\n",
    "import sbi\n",
    "import numpy as np\n",
    "from scipy.integrate import odeint\n",
    "from sbi.inference import SNRE, prepare_for_sbi, simulate_for_sbi\n",
    "from sbi import utils as utils\n",
    "from sbi import analysis as analysis\n",
    "from sbi.inference.base import infer\n",
    "import random\n",
    "import time\n",
    "\n",
    "num_timesteps = 1000\n",
    "num_rounds = 2       # how many rounds of SNRE (5-10 is good)\n",
    "t = np.linspace(0, 100, num_timesteps)\n",
    "\n",
    "def model(variables, t, params):\n",
    "    m1, p1, m2, p2, m3, p3 = variables\n",
    "    k1,k2,k3,a1,a2,a3=params\n",
    "    #for now we are setting a, g, n, b dm, dp to be constant\n",
    "    g1 = g2 = g3 = 0.024884149937163258\n",
    "    n1 = n2 = n3 = 5.\n",
    "    b1 = b2 = b3 = 33.82307682700831\n",
    "    dm1 = dm2 = dm3 =1.143402097500176\n",
    "    dp1 = dp2 = dp3 = 0.7833664565550977\n",
    "    dm1dt = -dm1*m1 + (a1 / (1 + ((1/k1) * p2)**n1)) + g1\n",
    "    dp1dt = (b1*m1) - (dp1*p1)\n",
    "    dm2dt = -dm2*m2 + (a2 / (1 + ((1/k2) * p3)**n2)) + g2\n",
    "    dp2dt = (b2*m2) - (dp2*p2)\n",
    "    dm3dt = -dm3*m3 + (a3 / (1 + ((1/k3) * p1)**n3)) + g3\n",
    "    dp3dt = (b3*m3)-(dp3*p3)\n",
    "    return np.array([dm1dt, dp1dt, dm2dt, dp2dt, dm3dt, dp3dt])\n",
    "\n",
    "true_params=[200.,200.,200.,24.78485282457379,24.78485282457379,24.78485282457379]\n",
    "\n",
    "def my_simulator(theta):\n",
    "    initial_conditions = np.array([0, 2, 0, 1, 0, 3], dtype=np.float32)\n",
    "    solution = odeint(model, initial_conditions, t, args=(theta,))\n",
    "    summarised_data = summarise(solution)\n",
    "    normalised_ss=normalise(summarised_data, m1, s1)\n",
    "    return torch.tensor(normalised_ss, dtype=torch.float32) \n",
    "\n",
    "x_o = my_simulator(true_params) # Generate observations,with data from 100 timepoints for each of 6 variables\n",
    "prior = utils.BoxUniform(\n",
    "    low=torch.tensor([10**-2,10**-2,10**-2,20.,20.,20.]),\n",
    "    high=torch.tensor([250.,250.,250.,40.,40.,40.])\n",
    ")\n",
    "simulator, prior = prepare_for_sbi(my_simulator, prior)  "
   ]
  },
  {
   "cell_type": "code",
   "execution_count": null,
   "metadata": {},
   "outputs": [],
   "source": [
    "#New integration method\n",
    "\n",
    "import pandas as pd\n",
    "import numpy as np\n",
    "import matplotlib.pyplot as plt\n",
    "from scipy.integrate import odeint\n",
    "import torch\n",
    "import torch.nn as nn\n",
    "from torch.autograd import Variable\n",
    "from sklearn.model_selection import train_test_split\n",
    "from torch.utils.data import DataLoader, TensorDataset\n",
    "from sbi.inference import SNPE, prepare_for_sbi, simulate_for_sbi\n",
    "from sbi import utils as utils\n",
    "from sbi import analysis as analysis\n",
    "from sbi.inference.base import infer\n",
    "import numpy as np\n",
    "\n",
    "def euler_method(func, y0, t, params):\n",
    "    num_eqns = len(y0)\n",
    "    y = np.zeros((len(t), num_eqns))\n",
    "    y[0] = y0\n",
    "    dt = t[1] - t[0]\n",
    "    for i in range(1, len(t)):\n",
    "        y[i] = y[i - 1] + dt * func(t[i - 1], y[i - 1], params)\n",
    "    return y\n",
    "\n",
    "# Example function representing a system of ODEs with parameters\n",
    "def system_of_odes(t, y, params):\n",
    "    dydt = np.zeros_like(y)\n",
    "\n",
    "    m1, p1, m2, p2, m3, p3 = y\n",
    "    k1, k2, k3 = params #only 3 ks are parameters to infer\n",
    "    a1 = a2 = a3 = 24.78485282457379\n",
    "    g1 = g2 = g3 = 0.024884149937163258\n",
    "    n1 = n2 = n3 = 5\n",
    "    b1 = b2 = b3 = 33.82307682700831\n",
    "    dm1 = dm2 = dm3 = 1.143402097500176\n",
    "    dp1 = dp2 = dp3 = 0.7833664565550977\n",
    "\n",
    "    dydt[0] = -dm1 * m1 + (a1 / (1 + ((1/k1) * p2) ** n1)) + g1\n",
    "    dydt[1] = (b1 * m1) - (dp1 * p1)\n",
    "    dydt[2] = -dm2 * m2 + (a2 / (1 + ((1/k2) * p3) ** n2)) + g2\n",
    "    dydt[3] = (b2 * m2) - (dp2 * p2)\n",
    "    dydt[4] = -dm3 * m3 + (a3 / (1 + ((1/k3) * p1) ** n3)) + g3\n",
    "    dydt[5] = (b3 * m3)-(dp3 * p3)\n",
    "    \n",
    "    return dydt\n",
    "\n",
    "# Initial conditions\n",
    "true_params = torch.tensor([\n",
    "    206.96291990024542, 246.96291990024542, 246.96291990024542]).unsqueeze(0)\n",
    "num_timesteps = 1000\n",
    "num_trajectories = 6\n",
    "y0 = np.array([0, 1, 0, 3, 0, 2])\n",
    "t = np.linspace(0, 100, num_timesteps)\n",
    "\n",
    "def simulator(parameter_set):\n",
    "    full_tensor = torch.zeros((num_trajectories * num_timesteps)).unsqueeze(0)\n",
    "    if len(parameter_set) == 1:\n",
    "        for params in parameter_set:\n",
    "            y = euler_method(system_of_odes, y0, t, params)\n",
    "            y_transposed = y.T\n",
    "            concatenated_trajectories = y_transposed.flatten()\n",
    "            yt = torch.tensor(concatenated_trajectories)\n",
    "            final_tensor = yt.unsqueeze(0).unsqueeze(-1)\n",
    "            return final_tensor\n",
    "    else:\n",
    "        for params in parameter_set:\n",
    "            y = euler_method(system_of_odes, y0, t, params)\n",
    "            y_transposed = y.T\n",
    "            concatenated_trajectories = y_transposed.flatten()\n",
    "            yt = torch.tensor(concatenated_trajectories)\n",
    "            true_tensor = yt.unsqueeze(0)\n",
    "            full_tensor = torch.cat((full_tensor, true_tensor), dim=0)\n",
    "        n_sims = full_tensor.size(0)\n",
    "        output_tensor = full_tensor[1:n_sims]\n",
    "        out = output_tensor.unsqueeze(-1)\n",
    "        return out\n",
    "    \n",
    "num_dim = 3\n",
    "prior = utils.BoxUniform(low=10**-2 * torch.ones(num_dim), high=250 * torch.ones(num_dim))\n",
    "   "
   ]
  },
  {
   "cell_type": "code",
   "execution_count": 26,
   "metadata": {},
   "outputs": [],
   "source": [
    "#Parallelise it\n",
    "# PART 1: Edited code from original sbi repos. Functions edited: simulate_for_sbi, and all the functions it contains.\n",
    "#Main changes: defined simulator_seeded globally rather than within simulate_in_batches function, and re-imported torch within simulator_seeded \n",
    "#NO changes need to be made in this file\n",
    "\n",
    "# PART 2: Essentially the unparallelised code with 2 extra arguments in the simulate_for_sbi line\n",
    "\n",
    "##################################### PART 1 #########################################\n",
    "import joblib\n",
    "import contextlib\n",
    "import random\n",
    "import torch\n",
    "import numpy as np\n",
    "\n",
    "from torch import Tensor, split, randint, cat\n",
    "from typing import Any, Callable, Optional, Tuple, Union\n",
    "from joblib import Parallel, delayed\n",
    "from tqdm import tqdm\n",
    "from tqdm.auto import tqdm\n",
    "\n",
    "import sbi\n",
    "from scipy.integrate import odeint\n",
    "import matplotlib.pyplot as plt\n",
    "import os\n",
    "\n",
    "from sbi.inference import SNLE, prepare_for_sbi\n",
    "# No longer importing simulate_for_sbi from the package, we use the one defined above\n",
    "from sbi import utils as utils\n",
    "from sbi import analysis as analysis\n",
    "\n",
    "def seed_all_backends(seed: Optional[Union[int, Tensor]] = None) -> None:\n",
    "    if seed is None:\n",
    "        seed = int(torch.randint(1_000_000, size=(1,)))\n",
    "    else:\n",
    "        # Cast Tensor to int (required by math.random since Python 3.11)\n",
    "        seed = int(seed)\n",
    "\n",
    "    random.seed(seed)\n",
    "    np.random.seed(seed)\n",
    "    torch.manual_seed(seed)\n",
    "    torch.cuda.manual_seed(seed)\n",
    "    torch.backends.cudnn.deterministic = True # type: ignore\n",
    "    torch.backends.cudnn.benchmark = False # type: ignore\n",
    "\n",
    "def simulator_seeded(simulator: Callable, theta: Tensor, seed: int) -> Tensor:\n",
    "    import torch\n",
    "    torch.backends.cudnn.deterministic = True\n",
    "    torch.backends.cudnn.benchmark = False\n",
    "    with torch.random.fork_rng(devices=[]):\n",
    "        torch.manual_seed(seed)\n",
    "        return simulator(theta)\n",
    "\n",
    "def simulate_in_batches(simulator: Callable, theta: Tensor, sim_batch_size: int = 1, num_workers: int = 1,\n",
    "                        seed: Optional[int] = None, show_progress_bars: bool = True, ) -> Tensor:\n",
    "\n",
    "    num_sims, *_ = theta.shape\n",
    "    seed_all_backends(seed)\n",
    "\n",
    "    if num_sims == 0:\n",
    "        x = torch.tensor([])\n",
    "    elif sim_batch_size is not None and sim_batch_size < num_sims:\n",
    "        batches = split(theta, sim_batch_size, dim=0)\n",
    "\n",
    "        if num_workers != 1:\n",
    "            batch_seeds = randint(high=1_000_000, size=(len(batches),))\n",
    "\n",
    "            with tqdm_joblib(\n",
    "                tqdm(batches, disable=not show_progress_bars,\n",
    "                     desc=f\"Running {num_sims} simulations in {len(batches)} batches.\", total=len(batches),)) as _:\n",
    "                simulation_outputs = Parallel(n_jobs=num_workers)(delayed(simulator_seeded)(simulator, batch, batch_seed)\n",
    "                    for batch, batch_seed in zip(batches, batch_seeds))\n",
    "        else:\n",
    "            pbar = tqdm(total=num_sims, disable=not show_progress_bars, desc=f\"Running {num_sims} simulations.\", )\n",
    "\n",
    "            with pbar:\n",
    "                simulation_outputs = []\n",
    "                for batch in batches:\n",
    "                    simulation_outputs.append(simulator_seeded(simulator, batch, seed))\n",
    "                    pbar.update(sim_batch_size)\n",
    "\n",
    "        x = cat(simulation_outputs, dim=0)\n",
    "    else:\n",
    "        x = simulator(theta)\n",
    "\n",
    "    return x\n",
    "\n",
    "\n",
    "@contextlib.contextmanager\n",
    "def tqdm_joblib(tqdm_object):\n",
    "    def tqdm_print_progress(self):\n",
    "        if self.n_completed_tasks > tqdm_object.n:\n",
    "            n_completed = self.n_completed_tasks - tqdm_object.n\n",
    "            tqdm_object.update(n=n_completed)\n",
    "\n",
    "    original_print_progress = joblib.parallel.Parallel.print_progress\n",
    "    joblib.parallel.Parallel.print_progress = tqdm_print_progress\n",
    "\n",
    "    try:\n",
    "        yield tqdm_object\n",
    "    finally:\n",
    "        joblib.parallel.Parallel.print_progress = original_print_progress\n",
    "        tqdm_object.close()\n",
    "\n",
    "def simulate_for_sbi(simulator: Callable, proposal: Any, num_simulations: int, num_workers: int = 1,\n",
    "                     simulation_batch_size: int = 1, seed: Optional[int] = None,\n",
    "                     show_progress_bar: bool = True, ) -> Tuple[Tensor, Tensor]:\n",
    "\n",
    "    theta = proposal.sample((num_simulations,))\n",
    "\n",
    "    x = simulate_in_batches(simulator=simulator, theta=theta, sim_batch_size=simulation_batch_size,\n",
    "                            num_workers=num_workers, seed=seed, show_progress_bars=show_progress_bar,)\n",
    "\n",
    "    return theta, x\n",
    "\n",
    "######################################################################################################\n",
    "\n",
    "simulation_batch_size = 200\n",
    "num_simulations = 1200\n",
    "\n",
    "# To parallelise, set number of CPUs to be used. Note: parallelise anything that has num_rounds>2 and/or num_simulations>50\n",
    "# to see total available CPUs: print(os.cpu_count())\n",
    "\n",
    "CPUs_to_use = 8\n",
    "\n",
    "total_CPUs = os.cpu_count()\n",
    "num_workers = CPUs_to_use - total_CPUs -1\n",
    "# num_workers = -1 uses all cpus\n",
    "# num_workers = -2 uses all cpus but one etc https://joblib.readthedocs.io/en/latest/generated/joblib.Parallel.html\n",
    "if CPUs_to_use > total_CPUs:\n",
    "    raise ValueError(f\"Cannot use more CPUs than are available. Available CPUs: {total_CPUs}\")"
   ]
  },
  {
   "cell_type": "markdown",
   "metadata": {},
   "source": [
    "#### Important to parallelisation code to be right before the SNPE code..."
   ]
  },
  {
   "cell_type": "code",
   "execution_count": 27,
   "metadata": {},
   "outputs": [
    {
     "data": {
      "application/vnd.jupyter.widget-view+json": {
       "model_id": "7e186e9cf87a4c1cbef410913f965c1f",
       "version_major": 2,
       "version_minor": 0
      },
      "text/plain": [
       "Running 1200 simulations in 6 batches.:   0%|          | 0/6 [00:00<?, ?it/s]"
      ]
     },
     "metadata": {},
     "output_type": "display_data"
    },
    {
     "name": "stdout",
     "output_type": "stream",
     "text": [
      " Neural network successfully converged after 140 epochs."
     ]
    },
    {
     "data": {
      "application/vnd.jupyter.widget-view+json": {
       "model_id": "fccb59d6ed7c40a5b6a87a3b7d42824b",
       "version_major": 2,
       "version_minor": 0
      },
      "text/plain": [
       "Drawing 1200 posterior samples:   0%|          | 0/1200 [00:00<?, ?it/s]"
      ]
     },
     "metadata": {},
     "output_type": "display_data"
    },
    {
     "data": {
      "application/vnd.jupyter.widget-view+json": {
       "model_id": "d168a14e97604dd098042f7446d683aa",
       "version_major": 2,
       "version_minor": 0
      },
      "text/plain": [
       "Running 1200 simulations in 6 batches.:   0%|          | 0/6 [00:00<?, ?it/s]"
      ]
     },
     "metadata": {},
     "output_type": "display_data"
    },
    {
     "name": "stdout",
     "output_type": "stream",
     "text": [
      "Using SNPE-C with atomic loss\n",
      " Neural network successfully converged after 50 epochs."
     ]
    }
   ],
   "source": [
    "# The specific observation we want to focus the inference on.\n",
    "posteriors = []\n",
    "proposal = prior\n",
    "inference = SNPE(prior=prior)\n",
    "for _ in range(num_rounds):\n",
    "    theta, x = simulate_for_sbi(simulator, proposal, num_simulations=num_simulations, simulation_batch_size=simulation_batch_size, num_workers=num_workers)\n",
    "    # In `SNLE` and `SNRE`, you should not pass the `proposal` to `.append_simulations()`\n",
    "    density_estimator = inference.append_simulations(\n",
    "        theta, x, proposal = proposal\n",
    "    ).train()\n",
    "    posterior = inference.build_posterior(density_estimator)\n",
    "    posteriors.append(posterior)\n",
    "    proposal = posterior.set_default_x(x_o) "
   ]
  },
  {
   "cell_type": "code",
   "execution_count": 30,
   "metadata": {},
   "outputs": [
    {
     "data": {
      "application/vnd.jupyter.widget-view+json": {
       "model_id": "fc57815490834ffcbdf2e430b2197215",
       "version_major": 2,
       "version_minor": 0
      },
      "text/plain": [
       "Drawing 50000 posterior samples:   0%|          | 0/50000 [00:00<?, ?it/s]"
      ]
     },
     "metadata": {},
     "output_type": "display_data"
    },
    {
     "data": {
      "image/png": "[encoded data removed]",
      "text/plain": [
       "<Figure size 600x600 with 36 Axes>"
      ]
     },
     "metadata": {},
     "output_type": "display_data"
    }
   ],
   "source": [
    "# Then sample the posterior and plot\n",
    "posterior_samples = posterior.sample((50000,), x=x_o)\n",
    "_ = analysis.pairplot(\n",
    "    posterior_samples, limits=[[0, 250], [0,250], [0,250],[20,40],[20,40],[20,40]], figsize=(6, 6) #It should be close to 247, but since this is a toy example we are not expecting it to work (just checking it runs).\n",
    ")"
   ]
  },
  {
   "cell_type": "code",
   "execution_count": 31,
   "metadata": {},
   "outputs": [
    {
     "data": {
      "text/plain": [
       "DirectPosterior sampler for potential_fn=<PosteriorBasedPotential>"
      ]
     },
     "execution_count": 31,
     "metadata": {},
     "output_type": "execute_result"
    }
   ],
   "source": [
    "posterior"
   ]
  },
  {
   "cell_type": "code",
   "execution_count": 34,
   "metadata": {},
   "outputs": [
    {
     "data": {
      "text/plain": [
       "torch.Size([30])"
      ]
     },
     "execution_count": 34,
     "metadata": {},
     "output_type": "execute_result"
    }
   ],
   "source": [
    "true_ms = my_simulator(true_params)\n",
    "true_ms.shape"
   ]
  },
  {
   "cell_type": "code",
   "execution_count": 37,
   "metadata": {},
   "outputs": [],
   "source": [
    "true_s = simulator(torch.tensor(true_params).unsqueeze(0))"
   ]
  },
  {
   "cell_type": "code",
   "execution_count": 39,
   "metadata": {},
   "outputs": [
    {
     "data": {
      "text/plain": [
       "torch.Size([1, 30])"
      ]
     },
     "execution_count": 39,
     "metadata": {},
     "output_type": "execute_result"
    }
   ],
   "source": [
    "true_s.shape"
   ]
  },
  {
   "cell_type": "code",
   "execution_count": 40,
   "metadata": {},
   "outputs": [
    {
     "data": {
      "text/plain": [
       "torch.Size([3, 30])"
      ]
     },
     "execution_count": 40,
     "metadata": {},
     "output_type": "execute_result"
    }
   ],
   "source": [
    "batch_size = 3\n",
    "fourdim = simulator(prior.sample((batch_size,)))\n",
    "fourdim.shape"
   ]
  },
  {
   "cell_type": "code",
   "execution_count": null,
   "metadata": {},
   "outputs": [],
   "source": []
  },
  {
   "cell_type": "code",
   "execution_count": null,
   "metadata": {},
   "outputs": [],
   "source": []
  }
 ],
 "metadata": {
  "kernelspec": {
   "display_name": "Python 3",
   "language": "python",
   "name": "python3"
  },
  "language_info": {
   "codemirror_mode": {
    "name": "ipython",
    "version": 3
   },
   "file_extension": ".py",
   "mimetype": "text/x-python",
   "name": "python",
   "nbconvert_exporter": "python",
   "pygments_lexer": "ipython3",
   "version": "3.11.7"
  }
 },
 "nbformat": 4,
 "nbformat_minor": 2
}
