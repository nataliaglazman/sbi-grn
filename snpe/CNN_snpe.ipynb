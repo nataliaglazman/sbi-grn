{
 "cells": [
  {
   "cell_type": "markdown",
   "metadata": {},
   "source": [
    "Try to use CNN as an embedding net for inferring 3 params"
   ]
  },
  {
   "cell_type": "code",
   "execution_count": 8,
   "metadata": {},
   "outputs": [],
   "source": [
    "# Import Libraries\n",
    "import torch\n",
    "import torch.nn as nn\n",
    "from torch.autograd import Variable\n",
    "from sklearn.model_selection import train_test_split\n",
    "from torch.utils.data import DataLoader, TensorDataset\n",
    "\n",
    "import torch\n",
    "\n",
    "from sbi.inference import SNPE, prepare_for_sbi, simulate_for_sbi\n",
    "from sbi import utils as utils\n",
    "from sbi import analysis as analysis\n",
    "from sbi.inference.base import infer"
   ]
  },
  {
   "cell_type": "code",
   "execution_count": 7,
   "metadata": {},
   "outputs": [],
   "source": [
    "#Code simulator and everything else as always\n",
    "import numpy as np\n",
    "from tabulate import tabulate\n",
    "import matplotlib.pyplot as plt\n",
    "from scipy.integrate import odeint\n",
    "\n",
    "# Define the model\n",
    "def model(variables, t, params):\n",
    "    m1, p1, m2, p2, m3, p3 = variables\n",
    "    k1, k2, k3 = params\n",
    "\n",
    "    dm1dt = -m1 + (10 ** 3 / (1 + (10 ** k1 * p2) ** 2)) + 1\n",
    "    dp1dt = -10 ** 0 * (p1 - m1)\n",
    "\n",
    "    dm2dt = -m2 + (10 ** 3 / (1 + (10 ** k2 * p3) ** 2)) + 1\n",
    "    dp2dt = -10 ** 0 * (p2 - m2)\n",
    "\n",
    "    dm3dt = -m3 + (10 ** 3 / (1 + (10 ** k3 * p1) ** 2)) + 1\n",
    "    dp3dt = -10 ** 0 * (p3 - m3)\n",
    "\n",
    "    return [dm1dt, dp1dt, dm2dt, dp2dt, dm3dt, dp3dt]\n",
    "\n",
    "#Define true parameters\n",
    "true_params = np.array([\n",
    "    0, 0, 0  # first set of odes\n",
    "])\n",
    "\n"
   ]
  },
  {
   "cell_type": "code",
   "execution_count": 3,
   "metadata": {},
   "outputs": [],
   "source": [
    "# 1x6000\n",
    "#num_dim = 3\n",
    "#num_timesteps = 1000\n",
    "#prior = utils.BoxUniform(low=-3 * torch.ones(num_dim), high=3 * torch.ones(num_dim))\n",
    "#batch_size = 1\n",
    "#num_trajectories = 6\n",
    "\n",
    "#def simulator(parameter_set):\n",
    "    #initial_conditions = np.array([0, 1, 0, 3, 0, 2])\n",
    "    #t = np.linspace(0, 100, num_timesteps)\n",
    "    #solution = odeint(model, initial_conditions, t, args=(parameter_set,))\n",
    "    #traj = torch.zeros((num_trajectories, num_timesteps))\n",
    "    #for i in range(num_trajectories):\n",
    "    #    for timestep in range(num_timesteps):\n",
    "            #traj[i, timestep] = solution[timestep][i]\n",
    "    #true_list = []\n",
    "    #for tra in traj: #Erase this loop if we want 6x1000\n",
    "     #   for timepoint in tra:\n",
    "      #      true_list.append(timepoint)\n",
    "    #true_tensor = torch.Tensor(true_list)\n",
    "    #return true_tensor\n",
    "\n",
    "#true_data = simulator(true_params)\n",
    "#true_data"
   ]
  },
  {
   "cell_type": "code",
   "execution_count": 120,
   "metadata": {},
   "outputs": [
    {
     "data": {
      "text/plain": [
       "torch.Size([6, 1000])"
      ]
     },
     "execution_count": 120,
     "metadata": {},
     "output_type": "execute_result"
    }
   ],
   "source": [
    "# 6x1000\n",
    "num_dim = 3\n",
    "num_timesteps = 1000\n",
    "prior = utils.BoxUniform(low=-3 * torch.ones(num_dim), high=3 * torch.ones(num_dim))\n",
    "batch_size = 1\n",
    "num_trajectories = 6\n",
    "\n",
    "def simulator(parameter_set):\n",
    "    initial_conditions = np.array([0, 1, 0, 3, 0, 2])\n",
    "    t = np.linspace(0, 100, num_timesteps)\n",
    "    solution = odeint(model, initial_conditions, t, args=(parameter_set,))\n",
    "    traj = torch.zeros((num_trajectories, num_timesteps))\n",
    "    for i in range(num_trajectories):\n",
    "        for timestep in range(num_timesteps):\n",
    "            traj[i, timestep] = solution[timestep][i]\n",
    "    \n",
    "    return traj\n",
    "\n",
    "true_data = simulator(true_params)\n",
    "true_data.shape"
   ]
  },
  {
   "cell_type": "code",
   "execution_count": 137,
   "metadata": {},
   "outputs": [
    {
     "data": {
      "text/plain": [
       "tensor([ 0.0000,  8.9123, 13.8703,  ...,  2.7314,  2.5905,  2.4615])"
      ]
     },
     "execution_count": 137,
     "metadata": {},
     "output_type": "execute_result"
    }
   ],
   "source": [
    "# 1000x6\n",
    "num_dim = 3\n",
    "num_timesteps = 1000\n",
    "prior = utils.BoxUniform(low=-3 * torch.ones(num_dim), high=3 * torch.ones(num_dim))\n",
    "batch_size = 1\n",
    "num_trajectories = 6\n",
    "\n",
    "def simulator(parameter_set):\n",
    "    initial_conditions = np.array([0, 1, 0, 3, 0, 2])\n",
    "    t = np.linspace(0, 100, num_timesteps)\n",
    "    solution = odeint(model, initial_conditions, t, args=(parameter_set,))\n",
    "    traj = torch.zeros((num_trajectories, num_timesteps))\n",
    "    for i in range(num_trajectories):\n",
    "        for timestep in range(num_timesteps):\n",
    "            traj[i, timestep] = solution[timestep][i]\n",
    "    true_list = []\n",
    "    for tra in traj: #Erase this loop if we want 6x1000\n",
    "        for timepoint in tra:\n",
    "            true_list.append(timepoint)\n",
    "    true_tensor = torch.Tensor(true_list)\n",
    "    return true_tensor\n",
    "\n",
    "true_data = simulator(true_params)\n",
    "true_data"
   ]
  },
  {
   "cell_type": "code",
   "execution_count": 81,
   "metadata": {},
   "outputs": [],
   "source": [
    "# set prior distribution for the parameters\n",
    "num_dim = 3\n",
    "prior = utils.BoxUniform(low=-3 * torch.ones(num_dim), high=3 * torch.ones(num_dim))\n",
    "\n",
    "# make a SBI-wrapper on the simulator object for compatibility\n",
    "simulator_wrapper, prior = prepare_for_sbi(simulator, prior)\n",
    "\n"
   ]
  },
  {
   "cell_type": "code",
   "execution_count": 5,
   "metadata": {},
   "outputs": [],
   "source": [
    "import matplotlib.pyplot as plt\n",
    "import torch\n",
    "import torch.nn as nn\n",
    "import torch.nn.functional as F\n",
    "from sbi import utils\n",
    "from sbi import analysis\n",
    "from sbi import inference\n",
    "from sbi.inference import SNPE, simulate_for_sbi, prepare_for_sbi\n"
   ]
  },
  {
   "cell_type": "code",
   "execution_count": null,
   "metadata": {},
   "outputs": [],
   "source": []
  },
  {
   "cell_type": "code",
   "execution_count": 42,
   "metadata": {},
   "outputs": [
    {
     "name": "stderr",
     "output_type": "stream",
     "text": [
      "/project/home23/sg2023/Desktop/SBI/.conda/lib/python3.11/site-packages/torch/nn/init.py:412: UserWarning: Initializing zero-element tensors is a no-op\n",
      "  warnings.warn(\"Initializing zero-element tensors is a no-op\")\n"
     ]
    }
   ],
   "source": [
    "from sbi.neural_nets.embedding_nets import FCEmbedding, CNNEmbedding, PermutationInvariantEmbedding\n",
    "\n",
    "\n",
    "embedding_net = CNNEmbedding(input_shape=(6, 1000))"
   ]
  },
  {
   "cell_type": "code",
   "execution_count": 135,
   "metadata": {},
   "outputs": [],
   "source": [
    "#Define CNN ourselves\n",
    "from typing import List, Optional, Tuple, Union\n",
    "from sbi.neural_nets.embedding_nets import FCEmbedding\n",
    "import torch\n",
    "from torch import Tensor, nn\n",
    "\n",
    "def get_new_cnn_output_size(\n",
    "    input_shape: Tuple,\n",
    "    conv_layer: Union[nn.Conv1d, nn.Conv2d],\n",
    "    pool: Union[nn.MaxPool1d, nn.MaxPool2d],\n",
    ") -> Union[Tuple[int], Tuple[int, int]]:\n",
    "    \"\"\"Returns new output size after applying a given convolution and pooling.\n",
    "\n",
    "    Args:\n",
    "        input_shape: tup.\n",
    "        conv_layer: applied convolutional layers\n",
    "        pool: applied pooling layer\n",
    "\n",
    "    Returns:\n",
    "        new output dimension of the cnn layer.\n",
    "\n",
    "    \"\"\"\n",
    "    assert isinstance(input_shape, Tuple), \"input shape must be Tuple.\"\n",
    "    assert 0 < len(input_shape) < 3, \"input shape must be 1 or 2d.\"\n",
    "    assert isinstance(conv_layer.padding, Tuple), \"conv layer attributes must be Tuple.\"\n",
    "    assert isinstance(pool.padding, int), \"pool layer attributes must be integers.\"\n",
    "\n",
    "    out_after_conv = [\n",
    "        calculate_filter_output_size(\n",
    "            input_shape[i],\n",
    "            conv_layer.padding[i],\n",
    "            conv_layer.dilation[i],\n",
    "            conv_layer.kernel_size[i],\n",
    "            conv_layer.stride[i],\n",
    "        )\n",
    "        for i in range(len(input_shape))\n",
    "    ]\n",
    "    out_after_pool = [\n",
    "        calculate_filter_output_size(\n",
    "            out_after_conv[i],\n",
    "            pool.padding,\n",
    "            pool.dilation,\n",
    "            pool.kernel_size,\n",
    "            pool.stride,\n",
    "        )\n",
    "        for i in range(len(input_shape))\n",
    "    ]\n",
    "    return tuple(out_after_pool)\n",
    "\n",
    "def calculate_filter_output_size(input_size, padding, dilation, kernel, stride) -> int:\n",
    "    \"\"\"Returns output size of a filter given filter arguments.\n",
    "\n",
    "    Uses formulas from https://pytorch.org/docs/stable/generated/torch.nn.Conv2d.html.\n",
    "    \"\"\"\n",
    "\n",
    "    return int(\n",
    "        (int(input_size) + 2 * int(padding) - int(dilation) * (int(kernel) - 1) - 1)\n",
    "        / int(stride)\n",
    "        + 1\n",
    "    )\n",
    "\n",
    "class CNNEmbedding(nn.Module):\n",
    "    def __init__(\n",
    "        self,\n",
    "        input_shape: Tuple,\n",
    "        in_channels: int = 1,\n",
    "        out_channels_per_layer: List = [6, 12],\n",
    "        num_conv_layers: int = 2,\n",
    "        num_linear_layers: int = 2,\n",
    "        num_linear_units: int = 50,\n",
    "        output_dim: int = 20,\n",
    "        kernel_size: int = 4,\n",
    "        pool_kernel_size: int = 2, #Change from 2???\n",
    "    ):\n",
    "        \"\"\"Convolutional embedding network.\n",
    "        First two layers are convolutional, followed by fully connected layers.\n",
    "\n",
    "        Automatically infers whether to apply 1D or 2D convolution depending on\n",
    "        input_shape.\n",
    "        Allows usage of multiple (color) channels by passing in_channels > 1.\n",
    "\n",
    "        Args:\n",
    "            input_shape: Dimensionality of input, e.g., (28,) for 1D, (28, 28) for 2D.\n",
    "            in_channels: Number of image channels, default 1.\n",
    "            out_channels_per_layer: Number of out convolutional out_channels for each\n",
    "                layer. Must match the number of layers passed below.\n",
    "            num_cnn_layers: Number of convolutional layers.\n",
    "            num_linear_layers: Number fully connected layer.\n",
    "            num_linear_units: Number of hidden units in fully-connected layers.\n",
    "            output_dim: Number of output units of the final layer.\n",
    "            kernel_size: Kernel size for both convolutional layers.\n",
    "            pool_size: pool size for MaxPool1d operation after the convolutional\n",
    "                layers.\n",
    "        \"\"\"\n",
    "        super(CNNEmbedding, self).__init__()\n",
    "\n",
    "        assert isinstance(\n",
    "            input_shape, Tuple\n",
    "        ), \"input_shape must be a Tuple of size 1 or 2, e.g., (width, [height]).\"\n",
    "        assert (\n",
    "            0 < len(input_shape) < 3\n",
    "        ), \"\"\"input_shape must be a Tuple of size 1 or 2, e.g.,\n",
    "            (width, [height]). Number of input channels are passed separately\"\"\"\n",
    "\n",
    "        use_2d_cnn = len(input_shape) == 2\n",
    "        conv_module = nn.Conv2d if use_2d_cnn else nn.Conv1d\n",
    "        pool_module = nn.MaxPool2d if use_2d_cnn else nn.MaxPool1d\n",
    "\n",
    "        assert (\n",
    "            len(out_channels_per_layer) == num_conv_layers\n",
    "        ), \"out_channels needs as many entries as num_cnn_layers.\"\n",
    "\n",
    "        # define input shape with channel - \n",
    "        self.input_shape = (in_channels, *input_shape) #It just concatenates the in_channels with the width and height, so 1, 1000, 6\n",
    "\n",
    "        # Construct CNN feature extractor.\n",
    "        cnn_layers = []\n",
    "        cnn_output_size = input_shape #Output size is the same as input shape! 1, 1000, 6\n",
    "        stride = 1\n",
    "        padding = 1\n",
    "        for ii in range(num_conv_layers): #We have 2 conv layers\n",
    "            # Defining another 2D convolution layer\n",
    "            conv_layer = conv_module(\n",
    "                in_channels=in_channels if ii == 0 else out_channels_per_layer[ii - 1],\n",
    "                out_channels=out_channels_per_layer[ii],\n",
    "                kernel_size=kernel_size,\n",
    "                stride=stride,\n",
    "                padding=padding,\n",
    "            )\n",
    "            pool = pool_module(kernel_size=pool_kernel_size, stride=1)\n",
    "            cnn_layers += [conv_layer, nn.ReLU(inplace=True), pool]\n",
    "            # Calculate change of output size of each CNN layer\n",
    "            cnn_output_size = get_new_cnn_output_size(cnn_output_size, conv_layer, pool)\n",
    "\n",
    "        self.cnn_subnet = nn.Sequential(*cnn_layers)\n",
    "\n",
    "        # Construct linear post processing net.\n",
    "        self.linear_subnet = FCEmbedding(\n",
    "            input_dim=out_channels_per_layer[-1]\n",
    "            * torch.prod(torch.tensor(cnn_output_size)),\n",
    "            output_dim=output_dim,\n",
    "            num_layers=num_linear_layers,\n",
    "            num_hiddens=num_linear_units,\n",
    "        )\n",
    "\n",
    "    # Defining the forward pass\n",
    "    def forward(self, x: Tensor) -> Tensor:\n",
    "        batch_size = x.size(0)\n",
    "\n",
    "        # reshape to account for single channel data.\n",
    "        x = self.cnn_subnet(x.view(batch_size, *self.input_shape))\n",
    "        # flatten for linear layers.\n",
    "        x = x.view(batch_size, -1)\n",
    "        x = self.linear_subnet(x)\n",
    "        return x\n",
    "    \n",
    "embedding_net = CNNEmbedding(input_shape=(1000, 6))"
   ]
  },
  {
   "cell_type": "code",
   "execution_count": 98,
   "metadata": {},
   "outputs": [
    {
     "data": {
      "text/plain": [
       "2"
      ]
     },
     "execution_count": 98,
     "metadata": {},
     "output_type": "execute_result"
    }
   ],
   "source": [
    "# Dirty code to check above\n",
    "input_shape = (1000, 6)\n",
    "use_2d_cnn = len(input_shape) == 2\n",
    "conv_module = nn.Conv2d if use_2d_cnn else nn.Conv1d\n",
    "pool_module = nn.MaxPool2d if use_2d_cnn else nn.MaxPool1d\n",
    "in_channels = 1\n",
    "out_channels_per_layer = [6, 12]\n",
    "cnn_layers = []\n",
    "len(input_shape)"
   ]
  },
  {
   "cell_type": "code",
   "execution_count": 100,
   "metadata": {},
   "outputs": [
    {
     "data": {
      "text/plain": [
       "[Conv2d(1, 6, kernel_size=(4, 4), stride=(1, 1), padding=(1, 1)),\n",
       " ReLU(inplace=True),\n",
       " MaxPool2d(kernel_size=2, stride=2, padding=0, dilation=1, ceil_mode=False),\n",
       " Conv2d(1, 6, kernel_size=(4, 4), stride=(1, 1), padding=(1, 1)),\n",
       " ReLU(inplace=True),\n",
       " MaxPool2d(kernel_size=2, stride=2, padding=0, dilation=1, ceil_mode=False),\n",
       " Conv2d(6, 12, kernel_size=(4, 4), stride=(1, 1), padding=(1, 1)),\n",
       " ReLU(inplace=True),\n",
       " MaxPool2d(kernel_size=2, stride=2, padding=0, dilation=1, ceil_mode=False)]"
      ]
     },
     "execution_count": 100,
     "metadata": {},
     "output_type": "execute_result"
    }
   ],
   "source": [
    "#dirty\n",
    "for ii in range(2): #We have 2 conv layers\n",
    "            # Defining another 2D convolution layer\n",
    "            conv_layer = conv_module(\n",
    "                in_channels=in_channels if ii == 0 else out_channels_per_layer[ii - 1],\n",
    "                out_channels=out_channels_per_layer[ii],\n",
    "                kernel_size=4,\n",
    "                stride=1,\n",
    "                padding=1,\n",
    "            )\n",
    "            pool = pool_module(kernel_size=2)\n",
    "            cnn_layers += [conv_layer, nn.ReLU(inplace=True), pool]\n",
    "cnn_layers"
   ]
  },
  {
   "cell_type": "code",
   "execution_count": 102,
   "metadata": {},
   "outputs": [],
   "source": [
    "cnn_output_size = get_new_cnn_output_size((1000,6), conv_layer, pool)"
   ]
  },
  {
   "cell_type": "code",
   "execution_count": 131,
   "metadata": {},
   "outputs": [
    {
     "data": {
      "text/plain": [
       "(996, 2)"
      ]
     },
     "execution_count": 131,
     "metadata": {},
     "output_type": "execute_result"
    }
   ],
   "source": [
    "#dirty\n",
    "input_shape = (1000, 6)\n",
    "use_2d_cnn = len(input_shape) == 2\n",
    "conv_module = nn.Conv2d if use_2d_cnn else nn.Conv1d\n",
    "pool_module = nn.MaxPool2d if use_2d_cnn else nn.MaxPool1d\n",
    "in_channels = 1\n",
    "out_channels_per_layer = [6, 12]\n",
    "cnn_layers = []\n",
    "cnn_output_size = (1000, 6)\n",
    "for ii in range(2): #We have 2 conv layers\n",
    "            # Defining another 2D convolution layer\n",
    "            conv_layer = conv_module(\n",
    "                in_channels=in_channels if ii == 0 else out_channels_per_layer[ii - 1],\n",
    "                out_channels=out_channels_per_layer[ii],\n",
    "                kernel_size=4,\n",
    "                stride=1,\n",
    "                padding=1,\n",
    "            )\n",
    "            pool = pool_module(kernel_size=2, stride=1)\n",
    "            cnn_layers += [conv_layer, nn.ReLU(inplace=True), pool]\n",
    "            # Calculate change of output size of each CNN layer\n",
    "            cnn_output_size = get_new_cnn_output_size(cnn_output_size, conv_layer, pool)\n",
    "cnn_output_size # aha!if we change the pooling operation we avoid getting 0s"
   ]
  },
  {
   "cell_type": "markdown",
   "metadata": {},
   "source": [
    "Add padding to pool layer or reduce pooling kernel size! Alternatively we could change the pooling to do adaptive pooling (no need for strides nor kernels)"
   ]
  },
  {
   "cell_type": "code",
   "execution_count": 134,
   "metadata": {},
   "outputs": [
    {
     "data": {
      "text/plain": [
       "[Conv2d(1, 6, kernel_size=(4, 4), stride=(1, 1), padding=(1, 1)),\n",
       " ReLU(inplace=True),\n",
       " MaxPool2d(kernel_size=2, stride=1, padding=0, dilation=1, ceil_mode=False),\n",
       " Conv2d(6, 12, kernel_size=(4, 4), stride=(1, 1), padding=(1, 1)),\n",
       " ReLU(inplace=True),\n",
       " MaxPool2d(kernel_size=2, stride=1, padding=0, dilation=1, ceil_mode=False)]"
      ]
     },
     "execution_count": 134,
     "metadata": {},
     "output_type": "execute_result"
    }
   ],
   "source": [
    "cnn_layers"
   ]
  },
  {
   "cell_type": "code",
   "execution_count": 138,
   "metadata": {},
   "outputs": [],
   "source": [
    "# instantiate the neural density estimator\n",
    "neural_posterior = utils.posterior_nn(\n",
    "    model=\"maf\", embedding_net=embedding_net, hidden_features=10, num_transforms=2\n",
    ")\n",
    "\n",
    "# setup the inference procedure with the SNPE-C procedure\n",
    "inference = SNPE(prior=prior, density_estimator=neural_posterior)"
   ]
  },
  {
   "cell_type": "code",
   "execution_count": 140,
   "metadata": {},
   "outputs": [
    {
     "data": {
      "application/vnd.jupyter.widget-view+json": {
       "model_id": "b344353a26db4887b4bbb5ef892117b3",
       "version_major": 2,
       "version_minor": 0
      },
      "text/plain": [
       "Running 100 simulations.:   0%|          | 0/100 [00:00<?, ?it/s]"
      ]
     },
     "metadata": {},
     "output_type": "display_data"
    }
   ],
   "source": [
    "# run the inference procedure on one round and 10000 simulated data points\n",
    "theta, x = simulate_for_sbi(simulator_wrapper, prior, num_simulations=100)"
   ]
  },
  {
   "cell_type": "code",
   "execution_count": 141,
   "metadata": {},
   "outputs": [
    {
     "name": "stdout",
     "output_type": "stream",
     "text": [
      " Neural network successfully converged after 531 epochs."
     ]
    }
   ],
   "source": [
    "density_estimator = inference.append_simulations(theta, x).train()\n",
    "posterior = inference.build_posterior(density_estimator)"
   ]
  },
  {
   "cell_type": "markdown",
   "metadata": {},
   "source": [
    "RuntimeError: (RuntimeError('Given groups=1, weight of size [6, 1, 1, 1], expected input[1, 2, 1000, 6] to have 1 channels, but got 2 channels instead'), 'Debug hint: The simulated data x has 2 dimensions.\\n            With default settings, sbi cannot deal with multidimensional simulations.\\n            Make sure to use an embedding net that reduces the dimensionality, e.g., a\\n            CNN in case of images, or change the simulator to return one-dimensional x.\\n "
   ]
  },
  {
   "cell_type": "code",
   "execution_count": 145,
   "metadata": {},
   "outputs": [
    {
     "data": {
      "text/plain": [
       "tensor([[  0.0000,   8.9123,  13.8703,  ...,  46.9959,  42.7398,  38.8630],\n",
       "        [  1.0000,   1.3648,   2.3506,  ..., 113.7526, 107.1846, 100.8554],\n",
       "        [  0.0000,  12.9051,  14.4150,  ...,  56.8882,  63.3755,  70.3635],\n",
       "        [  3.0000,   3.4811,   4.4862,  ...,  25.9989,  29.2513,  32.8362],\n",
       "        [  0.0000,  42.9083,  61.6269,  ...,   1.2610,   1.2439,   1.2295],\n",
       "        [  2.0000,   4.0501,   8.8289,  ...,   2.7314,   2.5905,   2.4615]])"
      ]
     },
     "execution_count": 145,
     "metadata": {},
     "output_type": "execute_result"
    }
   ],
   "source": [
    "# 1000x6\n",
    "num_dim = 3\n",
    "num_timesteps = 1000\n",
    "prior = utils.BoxUniform(low=-3 * torch.ones(num_dim), high=3 * torch.ones(num_dim))\n",
    "batch_size = 1\n",
    "num_trajectories = 6\n",
    "\n",
    "def simulator(parameter_set):\n",
    "    initial_conditions = np.array([0, 1, 0, 3, 0, 2])\n",
    "    t = np.linspace(0, 100, num_timesteps)\n",
    "    solution = odeint(model, initial_conditions, t, args=(parameter_set,))\n",
    "    traj = torch.zeros((num_trajectories, num_timesteps))\n",
    "    for i in range(num_trajectories):\n",
    "        for timestep in range(num_timesteps):\n",
    "            traj[i, timestep] = solution[timestep][i]\n",
    "    return traj\n",
    "\n",
    "true_data = simulator(true_params)\n",
    "true_data #TRUE DATA"
   ]
  },
  {
   "cell_type": "code",
   "execution_count": 159,
   "metadata": {},
   "outputs": [
    {
     "data": {
      "application/vnd.jupyter.widget-view+json": {
       "model_id": "1aafce680550469d81cbb85d512486f8",
       "version_major": 2,
       "version_minor": 0
      },
      "text/plain": [
       "Drawing 10000 posterior samples:   0%|          | 0/10000 [00:00<?, ?it/s]"
      ]
     },
     "metadata": {},
     "output_type": "display_data"
    },
    {
     "data": {
      "image/png": "[encoded data removed]",
      "text/plain": [
       "<Figure size 500x500 with 9 Axes>"
      ]
     },
     "metadata": {},
     "output_type": "display_data"
    }
   ],
   "source": [
    "posterior_samples = posterior.sample((10000,), x=true_data)\n",
    "\n",
    "# plot posterior samples\n",
    "_ = analysis.pairplot(\n",
    "    posterior_samples, limits=[[-3, 3], [-3, 3], [-3, 3]], figsize=(5, 5)\n",
    ")"
   ]
  },
  {
   "cell_type": "code",
   "execution_count": null,
   "metadata": {},
   "outputs": [],
   "source": []
  }
 ],
 "metadata": {
  "kernelspec": {
   "display_name": "Python 3",
   "language": "python",
   "name": "python3"
  },
  "language_info": {
   "codemirror_mode": {
    "name": "ipython",
    "version": 3
   },
   "file_extension": ".py",
   "mimetype": "text/x-python",
   "name": "python",
   "nbconvert_exporter": "python",
   "pygments_lexer": "ipython3",
   "version": "3.11.7"
  }
 },
 "nbformat": 4,
 "nbformat_minor": 2
}
