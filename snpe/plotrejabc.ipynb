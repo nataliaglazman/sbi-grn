{
 "cells": [
  {
   "cell_type": "markdown",
   "metadata": {},
   "source": [
    "# Plot REJ-ABC"
   ]
  },
  {
   "cell_type": "code",
   "execution_count": null,
   "metadata": {},
   "outputs": [],
   "source": [
    "import pandas as pd\n",
    "import numpy as np\n",
    "import matplotlib.pyplot as plt\n",
    "\n",
    "accepted_parameters_3p = pd.read_csv('rejabc_3p.csv',index_col=0)\n",
    "accepted_parameters_2p = pd.read_csv('rejabc_2p.csv',index_col=0)"
   ]
  },
  {
   "cell_type": "code",
   "execution_count": null,
   "metadata": {},
   "outputs": [],
   "source": [
    "#Print n of accepted params and trajectories\n",
    "print(f\"Number of Accepted Sets of Parameters: {len(accepted_parameters_2p)}\\n\")\n",
    "\n",
    "headers = ['k1', 'k2', 'k3']\n",
    "table_data = [headers] + [[round(p, 3) for p in params] for params in accepted_parameters_2p]\n",
    "table=tabulate(table_data, headers=\"firstrow\")\n",
    "print(table)\n",
    "    \n",
    "# Plot real trajectories and also accepted trajectories, they overlap\n",
    "fig, axs = plt.subplots(3, 2, figsize=(15, 8))\n",
    "axs = axs.flatten()\n",
    "\n",
    "variable_labels = ['m1', 'p1', 'm2', 'p2', 'm3', 'p3']\n",
    "\n",
    "for i in range(6):\n",
    "    axs[i].plot(t, true_data[:, i], label='True Data', linewidth=2)\n",
    "    axs[i].set_xlabel('t')\n",
    "    axs[i].set_ylabel(variable_labels[i])\n",
    "    \n",
    "    for simulated_data in accepted_data_2p:\n",
    "        axs[i].plot(t, simulated_data[:, i], 'k--', alpha=0.1)\n",
    "\n",
    "plt.show()"
   ]
  },
  {
   "cell_type": "code",
   "execution_count": null,
   "metadata": {},
   "outputs": [],
   "source": [
    "k1_accept = []\n",
    "k2_accept = []\n",
    "k3_accept = []\n",
    "for i in range(len(accepted_parameters_3p)):\n",
    "    k1_accept.append(accepted_parameters_3p[i][0])\n",
    "    k2_accept.append(accepted_parameters_3p[i][1])\n",
    "    k3_accept.append(accepted_parameters_3p[i][2])\n",
    "fig = plt.figure()\n",
    "ax = fig.add_subplot(projection='3d')\n",
    "ax.scatter(k1_accept, k2_accept, k3_accept) \n",
    "ax.set_xlabel(r\"$k_{1}$\", fontsize = 20) \n",
    "ax.set_ylabel(r\"$k_{2}$\", fontsize = 20) \n",
    "ax.set_zlabel(r\"$k_{3}$\", fontsize = 20) \n",
    "ax.set_xlim([-3, 3])\n",
    "ax.set_ylim([-3, 3])\n",
    "ax.set_zlim([-3, 3])\n",
    "\n",
    "ax.view_init(0, 120)\n",
    "\n"
   ]
  }
 ],
 "metadata": {
  "language_info": {
   "name": "python"
  }
 },
 "nbformat": 4,
 "nbformat_minor": 2
}
