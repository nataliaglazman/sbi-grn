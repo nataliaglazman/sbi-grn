{
 "cells": [
  {
   "cell_type": "markdown",
   "metadata": {},
   "source": [
    "# Try to make the RNN work... with 100 timepoints only..."
   ]
  },
  {
   "cell_type": "code",
   "execution_count": 21,
   "metadata": {},
   "outputs": [],
   "source": [
    "# Import Libraries\n",
    "import numpy as np\n",
    "import pandas as pd\n",
    "import torch\n",
    "import torch.nn as nn\n",
    "from torch.autograd import Variable\n",
    "from sklearn.model_selection import train_test_split\n",
    "from torch.utils.data import DataLoader, TensorDataset\n",
    "\n",
    "import torch\n",
    "\n",
    "from sbi.inference import SNPE, prepare_for_sbi, simulate_for_sbi\n",
    "from sbi import utils as utils\n",
    "from sbi import analysis as analysis\n",
    "from sbi.inference.base import infer\n",
    "\n",
    "def euler_method(func, y0, t, params):\n",
    "    num_eqns = len(y0)\n",
    "    y = np.zeros((len(t), num_eqns))\n",
    "    y[0] = y0\n",
    "    dt = t[1] - t[0]\n",
    "    for i in range(1, len(t)):\n",
    "        y[i] = y[i - 1] + dt * func(t[i - 1], y[i - 1], params)\n",
    "    return y\n",
    "\n",
    "# Example function representing a system of ODEs with parameters\n",
    "def system_of_odes(t, y, params):\n",
    "    dydt = np.zeros_like(y)\n",
    "\n",
    "    m1, p1, m2, p2, m3, p3 = y\n",
    "    k1, k2 = params #only 3 ks are parameters to infer\n",
    "    k3 = 246.96291990024542\n",
    "    a1 = a2 = a3 = 24.78485282457379\n",
    "    g1 = g2 = g3 = 0.024884149937163258\n",
    "    n1 = n2 = n3 = 5\n",
    "    b1 = b2 = b3 = 33.82307682700831\n",
    "    dm1 = dm2 = dm3 = 1.143402097500176\n",
    "    dp1 = dp2 = dp3 = 0.7833664565550977\n",
    "\n",
    "    dydt[0] = -dm1 * m1 + (a1 / (1 + ((1/k1) * p2) ** n1)) + g1\n",
    "    dydt[1] = (b1 * m1) - (dp1 * p1)\n",
    "    dydt[2] = -dm2 * m2 + (a2 / (1 + ((1/k2) * p3) ** n2)) + g2\n",
    "    dydt[3] = (b2 * m2) - (dp2 * p2)\n",
    "    dydt[4] = -dm3 * m3 + (a3 / (1 + ((1/k3) * p1) ** n3)) + g3\n",
    "    dydt[5] = (b3 * m3)-(dp3 * p3)\n",
    "    \n",
    "    return dydt\n",
    "\n",
    "# Initial conditions\n",
    "true_params = [\n",
    "    246.96291990024542, 246.96291990024542]\n",
    "num_timesteps = 100\n",
    "num_trajectories = 6\n",
    "y0 = np.array([0, 1, 0, 3, 0, 2])\n",
    "t = np.linspace(0, 100, num_timesteps)\n",
    "\n",
    "def simulator(parameter_set):\n",
    "    full_tensor = torch.zeros((num_trajectories * num_timesteps)).unsqueeze(0)\n",
    "    if len(parameter_set) == 1:\n",
    "        for params in parameter_set:\n",
    "            y = euler_method(system_of_odes, y0, t, params)\n",
    "            y_transposed = y.T\n",
    "            concatenated_trajectories = y_transposed.flatten()\n",
    "            yt = torch.tensor(concatenated_trajectories)\n",
    "            final_tensor = yt.unsqueeze(0).unsqueeze(-1)\n",
    "            return final_tensor\n",
    "    else:\n",
    "        for params in parameter_set:\n",
    "            y = euler_method(system_of_odes, y0, t, params)\n",
    "            y_transposed = y.T\n",
    "            concatenated_trajectories = y_transposed.flatten()\n",
    "            yt = torch.tensor(concatenated_trajectories)\n",
    "            true_tensor = yt.unsqueeze(0)\n",
    "            full_tensor = torch.cat((full_tensor, true_tensor), dim=0)\n",
    "        n_sims = full_tensor.size(0)\n",
    "        output_tensor = full_tensor[1:n_sims]\n",
    "        out = output_tensor.unsqueeze(-1)\n",
    "        return out\n",
    "    \n",
    "num_dim = 2\n",
    "prior = utils.BoxUniform(low=10**-2 * torch.ones(num_dim), high=250 * torch.ones(num_dim))"
   ]
  },
  {
   "cell_type": "code",
   "execution_count": 22,
   "metadata": {},
   "outputs": [
    {
     "data": {
      "text/plain": [
       "torch.Size([1, 600, 1])"
      ]
     },
     "execution_count": 22,
     "metadata": {},
     "output_type": "execute_result"
    }
   ],
   "source": [
    "true_data = simulator(torch.tensor(true_params).unsqueeze(0))\n",
    "true_data.shape"
   ]
  },
  {
   "cell_type": "code",
   "execution_count": 23,
   "metadata": {},
   "outputs": [],
   "source": [
    "simulator_wrapper, prior = prepare_for_sbi(simulator, prior)"
   ]
  },
  {
   "cell_type": "code",
   "execution_count": 20,
   "metadata": {},
   "outputs": [],
   "source": [
    "# The embedding net is a RNN consisting of a single layer of 100 GRU units (Cho et al, 2014)\n",
    "class RNN(nn.Module):\n",
    "    def __init__(self, input_size, hidden_size, output_size, num_layers):\n",
    "        super(RNN, self).__init__()\n",
    "        self.hidden_size = hidden_size #Number of GRU units\n",
    "        self.input_size = input_size\n",
    "        self.num_layers = num_layers\n",
    "        self.gru = nn.GRU(input_size, hidden_size, batch_first=True)   #Batch size is specified by the second shape number of input. \n",
    "                                                                        #In this case, batch_size = 1000 because input.shape is [1, 6000]. (https://pytorch.org/docs/stable/generated/torch.nn.GRU.html)\n",
    "                                                                        #Weights are therefore updated after a pass through the entire trajectory\n",
    "        self.linear = nn.Linear(hidden_size, output_size)\n",
    "\n",
    "    def forward(self, x): #The input will be (batch_size, seq_length, inp_size)\n",
    "        x = x.view(-1, 100, 6) # have a sequence length of 100 and 6 input size\n",
    "        h = torch.zeros(self.num_layers, x.size(0), self.hidden_size)  # Number of layers, batch_size and number of GRU units\n",
    "        gru_out, _ = self.gru(x, h)                # GRU layer, we don't store the hn (hidden state output)\n",
    "        output = self.linear(gru_out[:, -1, :])     #Last hidden state\n",
    "        return output\n",
    "\n",
    "# Define RNN\n",
    "num_layers = 1\n",
    "input_size = 6\n",
    "# batch_size = 100\n",
    "output_size = 25 #We want 1-dimensional embeddings of length = 25 (1x25)\n",
    "hidden_size = 100 #GRU units\n",
    "\n",
    "embedding_net_RNN = RNN(input_size, hidden_size, output_size, num_layers)"
   ]
  },
  {
   "cell_type": "code",
   "execution_count": 6,
   "metadata": {},
   "outputs": [
    {
     "data": {
      "text/plain": [
       "torch.Size([2, 6000, 1])"
      ]
     },
     "execution_count": 6,
     "metadata": {},
     "output_type": "execute_result"
    }
   ],
   "source": [
    "# It should be 3, 1, 6000\n",
    "batch_size = 2\n",
    "fourdim = simulator_wrapper(prior.sample((batch_size,)))\n",
    "fourdim.shape"
   ]
  },
  {
   "cell_type": "code",
   "execution_count": 14,
   "metadata": {},
   "outputs": [
    {
     "data": {
      "text/plain": [
       "torch.Size([2, 1000, 6])"
      ]
     },
     "execution_count": 14,
     "metadata": {},
     "output_type": "execute_result"
    }
   ],
   "source": [
    "fourdim_r = fourdim.view(-1, 1000, 6)\n",
    "fourdim_r.shape #every timepoint is a list of 6..."
   ]
  },
  {
   "cell_type": "code",
   "execution_count": 15,
   "metadata": {},
   "outputs": [
    {
     "data": {
      "text/plain": [
       "torch.Size([2, 1000, 100])"
      ]
     },
     "execution_count": 15,
     "metadata": {},
     "output_type": "execute_result"
    }
   ],
   "source": [
    "gru = nn.GRU(6, 100, batch_first=True)\n",
    "fc = nn.Linear(100, 25)\n",
    "h = torch.zeros(1, fourdim_r.size(0), 100)  # Number of layers, batch_size and number of GRU units\n",
    "gru_out, _ = gru(fourdim_r, h)                # GRU layer, we don't store the hn (hidden state output)\n",
    "gru_out.shape"
   ]
  },
  {
   "cell_type": "code",
   "execution_count": 16,
   "metadata": {},
   "outputs": [
    {
     "data": {
      "text/plain": [
       "torch.Size([2, 25])"
      ]
     },
     "execution_count": 16,
     "metadata": {},
     "output_type": "execute_result"
    }
   ],
   "source": [
    "output = fc(gru_out[:, -1, :])\n",
    "output.shape"
   ]
  },
  {
   "cell_type": "markdown",
   "metadata": {},
   "source": [
    "# now SNPE"
   ]
  },
  {
   "cell_type": "code",
   "execution_count": 25,
   "metadata": {},
   "outputs": [],
   "source": [
    "#Parallelise it\n",
    "# PART 1: Edited code from original sbi repos. Functions edited: simulate_for_sbi, and all the functions it contains.\n",
    "#Main changes: defined simulator_seeded globally rather than within simulate_in_batches function, and re-imported torch within simulator_seeded \n",
    "#NO changes need to be made in this file\n",
    "\n",
    "# PART 2: Essentially the unparallelised code with 2 extra arguments in the simulate_for_sbi line\n",
    "\n",
    "##################################### PART 1 #########################################\n",
    "import joblib\n",
    "import contextlib\n",
    "import random\n",
    "import torch\n",
    "import numpy as np\n",
    "\n",
    "from torch import Tensor, split, randint, cat\n",
    "from typing import Any, Callable, Optional, Tuple, Union\n",
    "from joblib import Parallel, delayed\n",
    "from tqdm import tqdm\n",
    "from tqdm.auto import tqdm\n",
    "\n",
    "import sbi\n",
    "from scipy.integrate import odeint\n",
    "import matplotlib.pyplot as plt\n",
    "import os\n",
    "\n",
    "from sbi.inference import SNLE, prepare_for_sbi\n",
    "# No longer importing simulate_for_sbi from the package, we use the one defined above\n",
    "from sbi import utils as utils\n",
    "from sbi import analysis as analysis\n",
    "\n",
    "def seed_all_backends(seed: Optional[Union[int, Tensor]] = None) -> None:\n",
    "    if seed is None:\n",
    "        seed = int(torch.randint(1_000_000, size=(1,)))\n",
    "    else:\n",
    "        # Cast Tensor to int (required by math.random since Python 3.11)\n",
    "        seed = int(seed)\n",
    "\n",
    "    random.seed(seed)\n",
    "    np.random.seed(seed)\n",
    "    torch.manual_seed(seed)\n",
    "    torch.cuda.manual_seed(seed)\n",
    "    torch.backends.cudnn.deterministic = True # type: ignore\n",
    "    torch.backends.cudnn.benchmark = False # type: ignore\n",
    "\n",
    "def simulator_seeded(simulator: Callable, theta: Tensor, seed: int) -> Tensor:\n",
    "    import torch\n",
    "    torch.backends.cudnn.deterministic = True\n",
    "    torch.backends.cudnn.benchmark = False\n",
    "    with torch.random.fork_rng(devices=[]):\n",
    "        torch.manual_seed(seed)\n",
    "        return simulator(theta)\n",
    "\n",
    "def simulate_in_batches(simulator: Callable, theta: Tensor, sim_batch_size: int = 1, num_workers: int = 1,\n",
    "                        seed: Optional[int] = None, show_progress_bars: bool = True, ) -> Tensor:\n",
    "\n",
    "    num_sims, *_ = theta.shape\n",
    "    seed_all_backends(seed)\n",
    "\n",
    "    if num_sims == 0:\n",
    "        x = torch.tensor([])\n",
    "    elif sim_batch_size is not None and sim_batch_size < num_sims:\n",
    "        batches = split(theta, sim_batch_size, dim=0)\n",
    "\n",
    "        if num_workers != 1:\n",
    "            batch_seeds = randint(high=1_000_000, size=(len(batches),))\n",
    "\n",
    "            with tqdm_joblib(\n",
    "                tqdm(batches, disable=not show_progress_bars,\n",
    "                     desc=f\"Running {num_sims} simulations in {len(batches)} batches.\", total=len(batches),)) as _:\n",
    "                simulation_outputs = Parallel(n_jobs=num_workers)(delayed(simulator_seeded)(simulator, batch, batch_seed)\n",
    "                    for batch, batch_seed in zip(batches, batch_seeds))\n",
    "        else:\n",
    "            pbar = tqdm(total=num_sims, disable=not show_progress_bars, desc=f\"Running {num_sims} simulations.\", )\n",
    "\n",
    "            with pbar:\n",
    "                simulation_outputs = []\n",
    "                for batch in batches:\n",
    "                    simulation_outputs.append(simulator_seeded(simulator, batch, seed))\n",
    "                    pbar.update(sim_batch_size)\n",
    "\n",
    "        x = cat(simulation_outputs, dim=0)\n",
    "    else:\n",
    "        x = simulator(theta)\n",
    "\n",
    "    return x\n",
    "\n",
    "\n",
    "@contextlib.contextmanager\n",
    "def tqdm_joblib(tqdm_object):\n",
    "    def tqdm_print_progress(self):\n",
    "        if self.n_completed_tasks > tqdm_object.n:\n",
    "            n_completed = self.n_completed_tasks - tqdm_object.n\n",
    "            tqdm_object.update(n=n_completed)\n",
    "\n",
    "    original_print_progress = joblib.parallel.Parallel.print_progress\n",
    "    joblib.parallel.Parallel.print_progress = tqdm_print_progress\n",
    "\n",
    "    try:\n",
    "        yield tqdm_object\n",
    "    finally:\n",
    "        joblib.parallel.Parallel.print_progress = original_print_progress\n",
    "        tqdm_object.close()\n",
    "\n",
    "def simulate_for_sbi(simulator: Callable, proposal: Any, num_simulations: int, num_workers: int = 1,\n",
    "                     simulation_batch_size: int = 1, seed: Optional[int] = None,\n",
    "                     show_progress_bar: bool = True, ) -> Tuple[Tensor, Tensor]:\n",
    "\n",
    "    theta = proposal.sample((num_simulations,))\n",
    "\n",
    "    x = simulate_in_batches(simulator=simulator, theta=theta, sim_batch_size=simulation_batch_size,\n",
    "                            num_workers=num_workers, seed=seed, show_progress_bars=show_progress_bar,)\n",
    "\n",
    "    return theta, x\n",
    "\n",
    "######################################################################################################\n",
    "\n",
    "simulation_batch_size = 200\n",
    "num_simulations = 1200\n",
    "\n",
    "# To parallelise, set number of CPUs to be used. Note: parallelise anything that has num_rounds>2 and/or num_simulations>50\n",
    "# to see total available CPUs: print(os.cpu_count())\n",
    "\n",
    "CPUs_to_use = 8\n",
    "\n",
    "total_CPUs = os.cpu_count()\n",
    "num_workers = CPUs_to_use - total_CPUs -1\n",
    "# num_workers = -1 uses all cpus\n",
    "# num_workers = -2 uses all cpus but one etc https://joblib.readthedocs.io/en/latest/generated/joblib.Parallel.html\n",
    "if CPUs_to_use > total_CPUs:\n",
    "    raise ValueError(f\"Cannot use more CPUs than are available. Available CPUs: {total_CPUs}\")"
   ]
  },
  {
   "cell_type": "code",
   "execution_count": 26,
   "metadata": {},
   "outputs": [
    {
     "data": {
      "application/vnd.jupyter.widget-view+json": {
       "model_id": "8c8c5d731a2d4d8285ea762381f8d56b",
       "version_major": 2,
       "version_minor": 0
      },
      "text/plain": [
       "Running 1000 simulations in 7 batches.:   0%|          | 0/7 [00:00<?, ?it/s]"
      ]
     },
     "metadata": {},
     "output_type": "display_data"
    },
    {
     "name": "stdout",
     "output_type": "stream",
     "text": [
      " Neural network successfully converged after 114 epochs."
     ]
    },
    {
     "data": {
      "application/vnd.jupyter.widget-view+json": {
       "model_id": "22f5dac737ce40e7b85bdf7fa50f73e0",
       "version_major": 2,
       "version_minor": 0
      },
      "text/plain": [
       "Drawing 1000 posterior samples:   0%|          | 0/1000 [00:00<?, ?it/s]"
      ]
     },
     "metadata": {},
     "output_type": "display_data"
    },
    {
     "data": {
      "application/vnd.jupyter.widget-view+json": {
       "model_id": "2d90d20d8a45459cbcef7ca8a7c83653",
       "version_major": 2,
       "version_minor": 0
      },
      "text/plain": [
       "Running 1000 simulations in 7 batches.:   0%|          | 0/7 [00:00<?, ?it/s]"
      ]
     },
     "metadata": {},
     "output_type": "display_data"
    },
    {
     "name": "stdout",
     "output_type": "stream",
     "text": [
      "Using SNPE-C with atomic loss\n",
      " Training neural network. Epochs trained: 2"
     ]
    },
    {
     "ename": "KeyboardInterrupt",
     "evalue": "",
     "output_type": "error",
     "traceback": [
      "\u001b[0;31m---------------------------------------------------------------------------\u001b[0m",
      "\u001b[0;31mKeyboardInterrupt\u001b[0m                         Traceback (most recent call last)",
      "Cell \u001b[0;32mIn[26], line 24\u001b[0m\n\u001b[1;32m     20\u001b[0m \u001b[38;5;28;01mfor\u001b[39;00m _ \u001b[38;5;129;01min\u001b[39;00m \u001b[38;5;28mrange\u001b[39m(num_rounds):\n\u001b[1;32m     21\u001b[0m     theta, x \u001b[38;5;241m=\u001b[39m simulate_for_sbi(simulator_wrapper, proposal, num_simulations\u001b[38;5;241m=\u001b[39mnum_simulations, simulation_batch_size\u001b[38;5;241m=\u001b[39msimulation_batch_size, num_workers\u001b[38;5;241m=\u001b[39mnum_workers)\n\u001b[1;32m     22\u001b[0m     density_estimator \u001b[38;5;241m=\u001b[39m \u001b[43minference\u001b[49m\u001b[38;5;241;43m.\u001b[39;49m\u001b[43mappend_simulations\u001b[49m\u001b[43m(\u001b[49m\n\u001b[1;32m     23\u001b[0m \u001b[43m        \u001b[49m\u001b[43mtheta\u001b[49m\u001b[43m,\u001b[49m\u001b[43m \u001b[49m\u001b[43mx\u001b[49m\u001b[43m,\u001b[49m\u001b[43m \u001b[49m\u001b[43mproposal\u001b[49m\u001b[38;5;241;43m=\u001b[39;49m\u001b[43mproposal\u001b[49m\n\u001b[0;32m---> 24\u001b[0m \u001b[43m    \u001b[49m\u001b[43m)\u001b[49m\u001b[38;5;241;43m.\u001b[39;49m\u001b[43mtrain\u001b[49m\u001b[43m(\u001b[49m\u001b[43m)\u001b[49m\n\u001b[1;32m     25\u001b[0m     posterior \u001b[38;5;241m=\u001b[39m inference\u001b[38;5;241m.\u001b[39mbuild_posterior(density_estimator)\n\u001b[1;32m     26\u001b[0m     posteriors\u001b[38;5;241m.\u001b[39mappend(posterior)\n",
      "File \u001b[0;32m~/Desktop/SBI/.conda/lib/python3.11/site-packages/sbi/inference/snpe/snpe_c.py:180\u001b[0m, in \u001b[0;36mSNPE_C.train\u001b[0;34m(self, num_atoms, training_batch_size, learning_rate, validation_fraction, stop_after_epochs, max_num_epochs, clip_max_norm, calibration_kernel, resume_training, force_first_round_loss, discard_prior_samples, use_combined_loss, retrain_from_scratch, show_train_summary, dataloader_kwargs)\u001b[0m\n\u001b[1;32m    176\u001b[0m     \u001b[38;5;28;01mif\u001b[39;00m \u001b[38;5;28mself\u001b[39m\u001b[38;5;241m.\u001b[39muse_non_atomic_loss:\n\u001b[1;32m    177\u001b[0m         \u001b[38;5;66;03m# Take care of z-scoring, pre-compute and store prior terms.\u001b[39;00m\n\u001b[1;32m    178\u001b[0m         \u001b[38;5;28mself\u001b[39m\u001b[38;5;241m.\u001b[39m_set_state_for_mog_proposal()\n\u001b[0;32m--> 180\u001b[0m \u001b[38;5;28;01mreturn\u001b[39;00m \u001b[38;5;28;43msuper\u001b[39;49m\u001b[43m(\u001b[49m\u001b[43m)\u001b[49m\u001b[38;5;241;43m.\u001b[39;49m\u001b[43mtrain\u001b[49m\u001b[43m(\u001b[49m\u001b[38;5;241;43m*\u001b[39;49m\u001b[38;5;241;43m*\u001b[39;49m\u001b[43mkwargs\u001b[49m\u001b[43m)\u001b[49m\n",
      "File \u001b[0;32m~/Desktop/SBI/.conda/lib/python3.11/site-packages/sbi/inference/snpe/snpe_base.py:367\u001b[0m, in \u001b[0;36mPosteriorEstimator.train\u001b[0;34m(self, training_batch_size, learning_rate, validation_fraction, stop_after_epochs, max_num_epochs, clip_max_norm, calibration_kernel, resume_training, force_first_round_loss, discard_prior_samples, retrain_from_scratch, show_train_summary, dataloader_kwargs)\u001b[0m\n\u001b[1;32m    364\u001b[0m train_loss \u001b[38;5;241m=\u001b[39m torch\u001b[38;5;241m.\u001b[39mmean(train_losses)\n\u001b[1;32m    365\u001b[0m train_log_probs_sum \u001b[38;5;241m-\u001b[39m\u001b[38;5;241m=\u001b[39m train_losses\u001b[38;5;241m.\u001b[39msum()\u001b[38;5;241m.\u001b[39mitem()\n\u001b[0;32m--> 367\u001b[0m \u001b[43mtrain_loss\u001b[49m\u001b[38;5;241;43m.\u001b[39;49m\u001b[43mbackward\u001b[49m\u001b[43m(\u001b[49m\u001b[43m)\u001b[49m\n\u001b[1;32m    368\u001b[0m \u001b[38;5;28;01mif\u001b[39;00m clip_max_norm \u001b[38;5;129;01mis\u001b[39;00m \u001b[38;5;129;01mnot\u001b[39;00m \u001b[38;5;28;01mNone\u001b[39;00m:\n\u001b[1;32m    369\u001b[0m     clip_grad_norm_(\n\u001b[1;32m    370\u001b[0m         \u001b[38;5;28mself\u001b[39m\u001b[38;5;241m.\u001b[39m_neural_net\u001b[38;5;241m.\u001b[39mparameters(), max_norm\u001b[38;5;241m=\u001b[39mclip_max_norm\n\u001b[1;32m    371\u001b[0m     )\n",
      "File \u001b[0;32m~/Desktop/SBI/.conda/lib/python3.11/site-packages/torch/_tensor.py:492\u001b[0m, in \u001b[0;36mTensor.backward\u001b[0;34m(self, gradient, retain_graph, create_graph, inputs)\u001b[0m\n\u001b[1;32m    482\u001b[0m \u001b[38;5;28;01mif\u001b[39;00m has_torch_function_unary(\u001b[38;5;28mself\u001b[39m):\n\u001b[1;32m    483\u001b[0m     \u001b[38;5;28;01mreturn\u001b[39;00m handle_torch_function(\n\u001b[1;32m    484\u001b[0m         Tensor\u001b[38;5;241m.\u001b[39mbackward,\n\u001b[1;32m    485\u001b[0m         (\u001b[38;5;28mself\u001b[39m,),\n\u001b[0;32m   (...)\u001b[0m\n\u001b[1;32m    490\u001b[0m         inputs\u001b[38;5;241m=\u001b[39minputs,\n\u001b[1;32m    491\u001b[0m     )\n\u001b[0;32m--> 492\u001b[0m \u001b[43mtorch\u001b[49m\u001b[38;5;241;43m.\u001b[39;49m\u001b[43mautograd\u001b[49m\u001b[38;5;241;43m.\u001b[39;49m\u001b[43mbackward\u001b[49m\u001b[43m(\u001b[49m\n\u001b[1;32m    493\u001b[0m \u001b[43m    \u001b[49m\u001b[38;5;28;43mself\u001b[39;49m\u001b[43m,\u001b[49m\u001b[43m \u001b[49m\u001b[43mgradient\u001b[49m\u001b[43m,\u001b[49m\u001b[43m \u001b[49m\u001b[43mretain_graph\u001b[49m\u001b[43m,\u001b[49m\u001b[43m \u001b[49m\u001b[43mcreate_graph\u001b[49m\u001b[43m,\u001b[49m\u001b[43m \u001b[49m\u001b[43minputs\u001b[49m\u001b[38;5;241;43m=\u001b[39;49m\u001b[43minputs\u001b[49m\n\u001b[1;32m    494\u001b[0m \u001b[43m\u001b[49m\u001b[43m)\u001b[49m\n",
      "File \u001b[0;32m~/Desktop/SBI/.conda/lib/python3.11/site-packages/torch/autograd/__init__.py:251\u001b[0m, in \u001b[0;36mbackward\u001b[0;34m(tensors, grad_tensors, retain_graph, create_graph, grad_variables, inputs)\u001b[0m\n\u001b[1;32m    246\u001b[0m     retain_graph \u001b[38;5;241m=\u001b[39m create_graph\n\u001b[1;32m    248\u001b[0m \u001b[38;5;66;03m# The reason we repeat the same comment below is that\u001b[39;00m\n\u001b[1;32m    249\u001b[0m \u001b[38;5;66;03m# some Python versions print out the first line of a multi-line function\u001b[39;00m\n\u001b[1;32m    250\u001b[0m \u001b[38;5;66;03m# calls in the traceback and some print out the last line\u001b[39;00m\n\u001b[0;32m--> 251\u001b[0m \u001b[43mVariable\u001b[49m\u001b[38;5;241;43m.\u001b[39;49m\u001b[43m_execution_engine\u001b[49m\u001b[38;5;241;43m.\u001b[39;49m\u001b[43mrun_backward\u001b[49m\u001b[43m(\u001b[49m\u001b[43m  \u001b[49m\u001b[38;5;66;43;03m# Calls into the C++ engine to run the backward pass\u001b[39;49;00m\n\u001b[1;32m    252\u001b[0m \u001b[43m    \u001b[49m\u001b[43mtensors\u001b[49m\u001b[43m,\u001b[49m\n\u001b[1;32m    253\u001b[0m \u001b[43m    \u001b[49m\u001b[43mgrad_tensors_\u001b[49m\u001b[43m,\u001b[49m\n\u001b[1;32m    254\u001b[0m \u001b[43m    \u001b[49m\u001b[43mretain_graph\u001b[49m\u001b[43m,\u001b[49m\n\u001b[1;32m    255\u001b[0m \u001b[43m    \u001b[49m\u001b[43mcreate_graph\u001b[49m\u001b[43m,\u001b[49m\n\u001b[1;32m    256\u001b[0m \u001b[43m    \u001b[49m\u001b[43minputs\u001b[49m\u001b[43m,\u001b[49m\n\u001b[1;32m    257\u001b[0m \u001b[43m    \u001b[49m\u001b[43mallow_unreachable\u001b[49m\u001b[38;5;241;43m=\u001b[39;49m\u001b[38;5;28;43;01mTrue\u001b[39;49;00m\u001b[43m,\u001b[49m\n\u001b[1;32m    258\u001b[0m \u001b[43m    \u001b[49m\u001b[43maccumulate_grad\u001b[49m\u001b[38;5;241;43m=\u001b[39;49m\u001b[38;5;28;43;01mTrue\u001b[39;49;00m\u001b[43m,\u001b[49m\n\u001b[1;32m    259\u001b[0m \u001b[43m\u001b[49m\u001b[43m)\u001b[49m\n",
      "\u001b[0;31mKeyboardInterrupt\u001b[0m: "
     ]
    }
   ],
   "source": [
    "num_rounds = 2\n",
    "#Reset embedding net?\n",
    "\n",
    "simulator_wrapper, prior = prepare_for_sbi(simulator, prior)\n",
    "\n",
    "\n",
    "# We define the neural network (neural density estimator), specifying the embedding net. In this case we use a mixture density network.\n",
    "neural_posterior = utils.posterior_nn(\n",
    "    model=\"maf\", embedding_net=embedding_net_RNN, hidden_features=25, num_transforms=2)\n",
    "\n",
    "# Setup the inference procedure with the SNPE-C (Greenberg et al, 2019)\n",
    "inference = SNPE(prior=prior, density_estimator=neural_posterior)\n",
    "\n",
    "posteriors = []\n",
    "proposal = prior\n",
    "\n",
    "num_simulations = 1000\n",
    "simulation_batch_size = 150\n",
    "\n",
    "for _ in range(num_rounds):\n",
    "    theta, x = simulate_for_sbi(simulator_wrapper, proposal, num_simulations=num_simulations, simulation_batch_size=simulation_batch_size, num_workers=num_workers)\n",
    "    density_estimator = inference.append_simulations(\n",
    "        theta, x, proposal=proposal\n",
    "    ).train()\n",
    "    posterior = inference.build_posterior(density_estimator)\n",
    "    posteriors.append(posterior)\n",
    "    proposal = posterior.set_default_x(true_data)\n",
    "\n",
    "posterior_samples = posterior.sample((50000,), x=true_data)\n",
    "_ = analysis.pairplot(\n",
    "    posterior_samples, limits=[[-100, 300], [-100, 300], [-100, 300]], figsize=(6, 6) #It should be close to 247, but since this is a toy example we are not expecting it to work (just checking it runs).\n",
    ")"
   ]
  },
  {
   "cell_type": "markdown",
   "metadata": {},
   "source": [
    "Too long to train...!"
   ]
  },
  {
   "cell_type": "code",
   "execution_count": 28,
   "metadata": {},
   "outputs": [],
   "source": [
    "#Parallelise it\n",
    "# PART 1: Edited code from original sbi repos. Functions edited: simulate_for_sbi, and all the functions it contains.\n",
    "#Main changes: defined simulator_seeded globally rather than within simulate_in_batches function, and re-imported torch within simulator_seeded \n",
    "#NO changes need to be made in this file\n",
    "\n",
    "# PART 2: Essentially the unparallelised code with 2 extra arguments in the simulate_for_sbi line\n",
    "\n",
    "##################################### PART 1 #########################################\n",
    "import joblib\n",
    "import contextlib\n",
    "import random\n",
    "import torch\n",
    "import numpy as np\n",
    "\n",
    "from torch import Tensor, split, randint, cat\n",
    "from typing import Any, Callable, Optional, Tuple, Union\n",
    "from joblib import Parallel, delayed\n",
    "from tqdm import tqdm\n",
    "from tqdm.auto import tqdm\n",
    "\n",
    "import sbi\n",
    "from scipy.integrate import odeint\n",
    "import matplotlib.pyplot as plt\n",
    "import os\n",
    "\n",
    "from sbi.inference import SNLE, prepare_for_sbi\n",
    "# No longer importing simulate_for_sbi from the package, we use the one defined above\n",
    "from sbi import utils as utils\n",
    "from sbi import analysis as analysis\n",
    "\n",
    "def seed_all_backends(seed: Optional[Union[int, Tensor]] = None) -> None:\n",
    "    if seed is None:\n",
    "        seed = int(torch.randint(1_000_000, size=(1,)))\n",
    "    else:\n",
    "        # Cast Tensor to int (required by math.random since Python 3.11)\n",
    "        seed = int(seed)\n",
    "\n",
    "    random.seed(seed)\n",
    "    np.random.seed(seed)\n",
    "    torch.manual_seed(seed)\n",
    "    torch.cuda.manual_seed(seed)\n",
    "    torch.backends.cudnn.deterministic = True # type: ignore\n",
    "    torch.backends.cudnn.benchmark = False # type: ignore\n",
    "\n",
    "def simulator_seeded(simulator: Callable, theta: Tensor, seed: int) -> Tensor:\n",
    "    import torch\n",
    "    torch.backends.cudnn.deterministic = True\n",
    "    torch.backends.cudnn.benchmark = False\n",
    "    with torch.random.fork_rng(devices=[]):\n",
    "        torch.manual_seed(seed)\n",
    "        return simulator(theta)\n",
    "\n",
    "def simulate_in_batches(simulator: Callable, theta: Tensor, sim_batch_size: int = 1, num_workers: int = 1,\n",
    "                        seed: Optional[int] = None, show_progress_bars: bool = True, ) -> Tensor:\n",
    "\n",
    "    num_sims, *_ = theta.shape\n",
    "    seed_all_backends(seed)\n",
    "\n",
    "    if num_sims == 0:\n",
    "        x = torch.tensor([])\n",
    "    elif sim_batch_size is not None and sim_batch_size < num_sims:\n",
    "        batches = split(theta, sim_batch_size, dim=0)\n",
    "\n",
    "        if num_workers != 1:\n",
    "            batch_seeds = randint(high=1_000_000, size=(len(batches),))\n",
    "\n",
    "            with tqdm_joblib(\n",
    "                tqdm(batches, disable=not show_progress_bars,\n",
    "                     desc=f\"Running {num_sims} simulations in {len(batches)} batches.\", total=len(batches),)) as _:\n",
    "                simulation_outputs = Parallel(n_jobs=num_workers)(delayed(simulator_seeded)(simulator, batch, batch_seed)\n",
    "                    for batch, batch_seed in zip(batches, batch_seeds))\n",
    "        else:\n",
    "            pbar = tqdm(total=num_sims, disable=not show_progress_bars, desc=f\"Running {num_sims} simulations.\", )\n",
    "\n",
    "            with pbar:\n",
    "                simulation_outputs = []\n",
    "                for batch in batches:\n",
    "                    simulation_outputs.append(simulator_seeded(simulator, batch, seed))\n",
    "                    pbar.update(sim_batch_size)\n",
    "\n",
    "        x = cat(simulation_outputs, dim=0)\n",
    "    else:\n",
    "        x = simulator(theta)\n",
    "\n",
    "    return x\n",
    "\n",
    "\n",
    "@contextlib.contextmanager\n",
    "def tqdm_joblib(tqdm_object):\n",
    "    def tqdm_print_progress(self):\n",
    "        if self.n_completed_tasks > tqdm_object.n:\n",
    "            n_completed = self.n_completed_tasks - tqdm_object.n\n",
    "            tqdm_object.update(n=n_completed)\n",
    "\n",
    "    original_print_progress = joblib.parallel.Parallel.print_progress\n",
    "    joblib.parallel.Parallel.print_progress = tqdm_print_progress\n",
    "\n",
    "    try:\n",
    "        yield tqdm_object\n",
    "    finally:\n",
    "        joblib.parallel.Parallel.print_progress = original_print_progress\n",
    "        tqdm_object.close()\n",
    "\n",
    "def simulate_for_sbi(simulator: Callable, proposal: Any, num_simulations: int, num_workers: int = 1,\n",
    "                     simulation_batch_size: int = 1, seed: Optional[int] = None,\n",
    "                     show_progress_bar: bool = True, ) -> Tuple[Tensor, Tensor]:\n",
    "\n",
    "    theta = proposal.sample((num_simulations,))\n",
    "\n",
    "    x = simulate_in_batches(simulator=simulator, theta=theta, sim_batch_size=simulation_batch_size,\n",
    "                            num_workers=num_workers, seed=seed, show_progress_bars=show_progress_bar,)\n",
    "\n",
    "    return theta, x\n",
    "\n",
    "######################################################################################################\n",
    "\n",
    "simulation_batch_size = 1500\n",
    "num_simulations = 10000\n",
    "\n",
    "# To parallelise, set number of CPUs to be used. Note: parallelise anything that has num_rounds>2 and/or num_simulations>50\n",
    "# to see total available CPUs: print(os.cpu_count())\n",
    "\n",
    "CPUs_to_use = 8\n",
    "\n",
    "total_CPUs = os.cpu_count()\n",
    "num_workers = CPUs_to_use - total_CPUs -1\n",
    "# num_workers = -1 uses all cpus\n",
    "# num_workers = -2 uses all cpus but one etc https://joblib.readthedocs.io/en/latest/generated/joblib.Parallel.html\n",
    "if CPUs_to_use > total_CPUs:\n",
    "    raise ValueError(f\"Cannot use more CPUs than are available. Available CPUs: {total_CPUs}\")"
   ]
  },
  {
   "cell_type": "code",
   "execution_count": 29,
   "metadata": {},
   "outputs": [
    {
     "data": {
      "application/vnd.jupyter.widget-view+json": {
       "model_id": "2c24c03c1042484abade83c6f2657d62",
       "version_major": 2,
       "version_minor": 0
      },
      "text/plain": [
       "Running 10000 simulations in 7 batches.:   0%|          | 0/7 [00:00<?, ?it/s]"
      ]
     },
     "metadata": {},
     "output_type": "display_data"
    },
    {
     "name": "stdout",
     "output_type": "stream",
     "text": [
      " Neural network successfully converged after 132 epochs."
     ]
    },
    {
     "data": {
      "application/vnd.jupyter.widget-view+json": {
       "model_id": "b1201e9387f74dd69db4cbed15bcd4eb",
       "version_major": 2,
       "version_minor": 0
      },
      "text/plain": [
       "Drawing 10000 posterior samples:   0%|          | 0/10000 [00:00<?, ?it/s]"
      ]
     },
     "metadata": {},
     "output_type": "display_data"
    },
    {
     "data": {
      "image/png": "[encoded data removed]",
      "text/plain": [
       "<Figure size 600x600 with 4 Axes>"
      ]
     },
     "metadata": {},
     "output_type": "display_data"
    }
   ],
   "source": [
    "#just NPE\n",
    "# The prepare for sbi function checks simulator and prior are compatible with the NPE algorithm (and makes sure it adds a batch dimension)\n",
    "simulator_wrapper, prior = prepare_for_sbi(simulator, prior)\n",
    "\n",
    "# We define the neural network (neural density estimator), specifying the embedding net. In this case we use a mixture density network.\n",
    "neural_posterior = utils.posterior_nn(\n",
    "    model=\"maf\", embedding_net=embedding_net_RNN, hidden_features=25, num_transforms=2)\n",
    "\n",
    "# Setup the inference procedure with the SNPE-C (Greenberg et al, 2019)\n",
    "inference = SNPE(prior=prior, density_estimator=neural_posterior)\n",
    "theta, x = simulate_for_sbi(simulator_wrapper, prior, num_simulations=num_simulations, simulation_batch_size=simulation_batch_size, num_workers=num_workers) # Simulate data\n",
    "density_estimator = inference.append_simulations(theta, x).train()        # Train density estimator\n",
    "posterior = inference.build_posterior(density_estimator)                  # Build posterior\n",
    "\n",
    "# Then sample the posterior and plot\n",
    "posterior_samples = posterior.sample((10000,), x=true_data)\n",
    "_ = analysis.pairplot(\n",
    "    posterior_samples, limits=[[-100, 300], [-100, 300]], figsize=(6, 6) #It should be close to 247, but since this is a toy example we are not expecting it to work (just checking it runs).\n",
    ")"
   ]
  }
 ],
 "metadata": {
  "kernelspec": {
   "display_name": "Python 3",
   "language": "python",
   "name": "python3"
  },
  "language_info": {
   "codemirror_mode": {
    "name": "ipython",
    "version": 3
   },
   "file_extension": ".py",
   "mimetype": "text/x-python",
   "name": "python",
   "nbconvert_exporter": "python",
   "pygments_lexer": "ipython3",
   "version": "3.11.7"
  }
 },
 "nbformat": 4,
 "nbformat_minor": 2
}
