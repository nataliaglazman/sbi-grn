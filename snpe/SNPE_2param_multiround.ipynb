{
 "cells": [
  {
   "cell_type": "markdown",
   "metadata": {},
   "source": [
    "Try to tune results obtained to make sure they handle 6 trajectories"
   ]
  },
  {
   "cell_type": "code",
   "execution_count": 1,
   "metadata": {},
   "outputs": [],
   "source": [
    "import numpy as np\n",
    "from tabulate import tabulate\n",
    "import matplotlib.pyplot as plt\n",
    "from scipy.integrate import odeint\n",
    "\n",
    "# Define the model\n",
    "def model(variables, t, params):\n",
    "    m1, p1, m2, p2, m3, p3 = variables\n",
    "    k1, k2 = params\n",
    "\n",
    "    dm1dt = -m1 + (10 ** 3 / (1 + (10 ** k1 * p2) ** 2)) + 1\n",
    "    dp1dt = -10 ** 0 * (p1 - m1)\n",
    "\n",
    "    dm2dt = -m2 + (10 ** 3 / (1 + (10 ** k2 * p3) ** 2)) + 1\n",
    "    dp2dt = -10 ** 0 * (p2 - m2)\n",
    "\n",
    "    dm3dt = -m3 + (10 ** 3 / (1 + (10 ** 0 * p1) ** 2)) + 1\n",
    "    dp3dt = -10 ** 0 * (p3 - m3)\n",
    "\n",
    "    return [dm1dt, dp1dt, dm2dt, dp2dt, dm3dt, dp3dt]\n",
    "\n",
    "#Define true parameters\n",
    "true_params = np.array([\n",
    "    0, 0  # first set of odes\n",
    "])\n",
    "\n",
    "num_timesteps = 1000  # Number of time steps for simulation"
   ]
  },
  {
   "cell_type": "code",
   "execution_count": 2,
   "metadata": {},
   "outputs": [],
   "source": [
    "import torch\n",
    "from sbi import utils as utils\n",
    "from sbi import analysis as analysis\n",
    "from sbi.inference.base import infer\n"
   ]
  },
  {
   "cell_type": "code",
   "execution_count": 9,
   "metadata": {},
   "outputs": [
    {
     "data": {
      "text/plain": [
       "torch.Size([6000])"
      ]
     },
     "execution_count": 9,
     "metadata": {},
     "output_type": "execute_result"
    }
   ],
   "source": [
    "#better way\n",
    "num_dim = 2\n",
    "num_timesteps = 1000\n",
    "prior = utils.BoxUniform(low=-3 * torch.ones(num_dim), high=3 * torch.ones(num_dim))\n",
    "batch_size = 1\n",
    "num_trajectories = 6\n",
    "\n",
    "def simulator(parameter_set):\n",
    "    initial_conditions = np.array([0, 1, 0, 3, 0, 2])\n",
    "    t = np.linspace(0, 100, num_timesteps)\n",
    "    solution = odeint(model, initial_conditions, t, args=(parameter_set,))\n",
    "    traj = torch.zeros((num_trajectories, num_timesteps))\n",
    "    for i in range(num_trajectories):\n",
    "        for timestep in range(num_timesteps):\n",
    "            traj[i, timestep] = solution[timestep][i]\n",
    "    true_list = []\n",
    "    for tra in traj: #Erase this loop if we want 6x1000\n",
    "        for timepoint in tra:\n",
    "            true_list.append(timepoint)\n",
    "    true_tensor = torch.Tensor(true_list)\n",
    "    return true_tensor\n",
    "\n",
    "true_data = simulator(true_params)\n",
    "true_data.shape\n"
   ]
  },
  {
   "cell_type": "code",
   "execution_count": 5,
   "metadata": {},
   "outputs": [],
   "source": [
    "# Import Libraries\n",
    "import torch\n",
    "import torch.nn as nn\n",
    "from torch.autograd import Variable\n",
    "from sklearn.model_selection import train_test_split\n",
    "from torch.utils.data import DataLoader, TensorDataset\n",
    "\n",
    "import torch\n",
    "\n",
    "from sbi.inference import SNPE, prepare_for_sbi, simulate_for_sbi\n",
    "from sbi import utils as utils\n",
    "from sbi import analysis as analysis\n",
    "from sbi.inference.base import infer"
   ]
  },
  {
   "cell_type": "code",
   "execution_count": 10,
   "metadata": {},
   "outputs": [
    {
     "name": "stderr",
     "output_type": "stream",
     "text": [
      "/project/home23/sg2023/Desktop/SBI/.conda/lib/python3.11/site-packages/scipy/integrate/_odepack_py.py:242: FutureWarning: The input object of type 'Tensor' is an array-like implementing one of the corresponding protocols (`__array__`, `__array_interface__` or `__array_struct__`); but not a sequence (or 0-D). In the future, this object will be coerced as if it was first converted using `np.array(obj)`. To retain the old behaviour, you have to either modify the type 'Tensor', or assign to an empty array created with `np.empty(correct_shape, dtype=object)`.\n",
      "  output = _odepack.odeint(func, y0, t, args, Dfun, col_deriv, ml, mu,\n"
     ]
    },
    {
     "data": {
      "application/vnd.jupyter.widget-view+json": {
       "model_id": "05322b20ded04bea888c49417015af07",
       "version_major": 2,
       "version_minor": 0
      },
      "text/plain": [
       "Running 500 simulations.:   0%|          | 0/500 [00:00<?, ?it/s]"
      ]
     },
     "metadata": {},
     "output_type": "display_data"
    },
    {
     "name": "stdout",
     "output_type": "stream",
     "text": [
      "Neural network successfully converged after 113 epochs.\n"
     ]
    },
    {
     "data": {
      "application/vnd.jupyter.widget-view+json": {
       "model_id": "00fe553d928e48fc8a5e89422d7c9652",
       "version_major": 2,
       "version_minor": 0
      },
      "text/plain": [
       "Drawing 500 posterior samples:   0%|          | 0/500 [00:00<?, ?it/s]"
      ]
     },
     "metadata": {},
     "output_type": "display_data"
    },
    {
     "data": {
      "application/vnd.jupyter.widget-view+json": {
       "model_id": "8be46ac967074b24aa8e5fc96a051a52",
       "version_major": 2,
       "version_minor": 0
      },
      "text/plain": [
       "Running 500 simulations.:   0%|          | 0/500 [00:00<?, ?it/s]"
      ]
     },
     "metadata": {},
     "output_type": "display_data"
    },
    {
     "name": "stdout",
     "output_type": "stream",
     "text": [
      "Using SNPE-C with atomic loss\n",
      "Neural network successfully converged after 33 epochs.\n"
     ]
    }
   ],
   "source": [
    "# 2 rounds: first round simulates from the prior, second round simulates parameter set\n",
    "# that were sampled from the obtained posterior.\n",
    "num_rounds = 2\n",
    "\n",
    "inference = SNPE(prior)\n",
    "\n",
    "posteriors = []\n",
    "proposal = prior\n",
    "\n",
    "for _ in range(num_rounds):\n",
    "    simulator, prior = prepare_for_sbi(simulator, prior)\n",
    "    theta, x = simulate_for_sbi(simulator, proposal, num_simulations=500)\n",
    "    density_estimator = inference.append_simulations(\n",
    "        theta, x, proposal=proposal\n",
    "    ).train()\n",
    "    posterior = inference.build_posterior(density_estimator)\n",
    "    posteriors.append(posterior)\n",
    "    proposal = posterior.set_default_x(true_data)"
   ]
  },
  {
   "cell_type": "code",
   "execution_count": 11,
   "metadata": {},
   "outputs": [
    {
     "data": {
      "application/vnd.jupyter.widget-view+json": {
       "model_id": "575d451dda154f37aef0386cbf184cb2",
       "version_major": 2,
       "version_minor": 0
      },
      "text/plain": [
       "Drawing 10000 posterior samples:   0%|          | 0/10000 [00:00<?, ?it/s]"
      ]
     },
     "metadata": {},
     "output_type": "display_data"
    },
    {
     "data": {
      "image/png": "[encoded data removed]",
      "text/plain": [
       "<Figure size 500x500 with 4 Axes>"
      ]
     },
     "metadata": {},
     "output_type": "display_data"
    }
   ],
   "source": [
    "posterior_samples = posterior.sample((10000,), x=true_data)\n",
    "\n",
    "# plot posterior samples\n",
    "_ = analysis.pairplot(\n",
    "    posterior_samples, limits=[[-3, 3], [-3, 3]], figsize=(5, 5)\n",
    ")"
   ]
  }
 ],
 "metadata": {
  "kernelspec": {
   "display_name": "Python 3",
   "language": "python",
   "name": "python3"
  },
  "language_info": {
   "codemirror_mode": {
    "name": "ipython",
    "version": 3
   },
   "file_extension": ".py",
   "mimetype": "text/x-python",
   "name": "python",
   "nbconvert_exporter": "python",
   "pygments_lexer": "ipython3",
   "version": "3.11.7"
  }
 },
 "nbformat": 4,
 "nbformat_minor": 2
}
