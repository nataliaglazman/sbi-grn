{
 "cells": [
  {
   "cell_type": "code",
   "execution_count": null,
   "metadata": {},
   "outputs": [],
   "source": [
    "import torch\n",
    "import sbi\n",
    "import numpy as np\n",
    "from scipy.integrate import odeint\n",
    "from sbi.inference import SNRE, prepare_for_sbi, simulate_for_sbi\n",
    "from sbi import utils as utils\n",
    "from sbi import analysis as analysis\n",
    "from sbi.inference.base import infer\n",
    "import random\n",
    "import time"
   ]
  },
  {
   "cell_type": "code",
   "execution_count": null,
   "metadata": {},
   "outputs": [],
   "source": [
    "true_params = 0., 0.       # if this changes, model must also be adjusted\n",
    "prior_min = -3\n",
    "prior_max = 3\n",
    "num_timesteps = 100\n",
    "num_rounds = 3          # how many rounds of SNRE (5-10 is good)\n",
    "num_simulations = 100   # how many simulations in each round"
   ]
  },
  {
   "cell_type": "code",
   "execution_count": null,
   "metadata": {},
   "outputs": [],
   "source": [
    "def repressilator(variables, t, theta):\n",
    "    m1, p1, m2, p2, m3, p3 = variables\n",
    "    k1, k2 = theta\n",
    "    return [-m1 + (10 ** 3 / (1 + (10 ** k1 * p2) ** 2)) + 10 ** 0, #return the results if the six odes\n",
    "            -10 ** 0 * (p1 - m1),\n",
    "            -m2 + (10 ** 3 / (1 + (10 ** k2 * p3) ** 2)) + 10 ** 0,\n",
    "            -10 ** 0 * (p2 - m2),\n",
    "            -m3 + (10 ** 3 / (1 + (10 ** 0 * p1) ** 2)) + 10 ** 0,\n",
    "            -10 ** 0 * (p3 - m3)]"
   ]
  },
  {
   "cell_type": "code",
   "execution_count": null,
   "metadata": {},
   "outputs": [],
   "source": [
    "t = np.linspace(0, 100, num_timesteps)\n",
    "def my_simulator(theta):\n",
    "    initial_conditions = np.array([0, 2, 0, 1, 0, 3], dtype=np.float32)\n",
    "    solution = odeint(repressilator, initial_conditions, t, args=(theta,))\n",
    "    return torch.tensor(solution, dtype=torch.float32).flatten()  # Flatten tensor to size [600]\n",
    "x_o = my_simulator(true_params) # Generate observations,with data from 100 timepoints for each of 6 variables\n",
    "num_dim = len(true_params)\n",
    "prior = utils.BoxUniform(low=prior_min * torch.ones(num_dim), high=prior_max * torch.ones(num_dim))\n",
    "simulator, prior = prepare_for_sbi(my_simulator, prior)  \n",
    "num_rounds = 2\n",
    "# The specific observation we want to focus the inference on.\n",
    "posteriors = []\n",
    "proposal = prior\n",
    "inference = SNRE(prior=prior)\n",
    "for _ in range(num_rounds):\n",
    "    theta, x = simulate_for_sbi(simulator, proposal, num_simulations=100)\n",
    "    # In `SNLE` and `SNRE`, you should not pass the `proposal` to `.append_simulations()`\n",
    "    density_estimator = inference.append_simulations(\n",
    "        theta, x\n",
    "    ).train()\n",
    "    posterior = inference.build_posterior(density_estimator)\n",
    "    posteriors.append(posterior)\n",
    "    proposal = posterior.set_default_x(x_o) \n",
    "sampling_algorithm = \"mcmc\"\n",
    "mcmc_method = \"slice_np\"  # or nuts, or hmc\n",
    "posterior = inference.build_posterior(sample_with=sampling_algorithm, mcmc_method=mcmc_method)\n",
    "posterior_samples_sre = posterior.sample((500,), x=x_o) "
   ]
  }
 ],
 "metadata": {
  "language_info": {
   "name": "python"
  }
 },
 "nbformat": 4,
 "nbformat_minor": 2
}
