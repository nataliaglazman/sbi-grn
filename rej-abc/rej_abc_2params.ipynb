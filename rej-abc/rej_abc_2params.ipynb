{
 "cells": [
  {
   "cell_type": "markdown",
   "metadata": {},
   "source": [
    "# Rejection Approximate Bayesian Computation (REJ-ABC) for parameter inference of a repressilator"
   ]
  },
  {
   "cell_type": "markdown",
   "metadata": {},
   "source": [
    "First we define the distance function, in this case Euclidean distance"
   ]
  },
  {
   "cell_type": "code",
   "execution_count": 1,
   "metadata": {},
   "outputs": [],
   "source": [
    "import numpy as np\n",
    "#Distance function\n",
    "def euclidean_distance_multiple_trajectories(observed_trajectories, simulated_trajectories):\n",
    "    num_trajectories = len(observed_trajectories)\n",
    "    total_distance = 0.0\n",
    "\n",
    "    for i in range(num_trajectories):\n",
    "        observed_data = observed_trajectories[i]\n",
    "        simulated_data = simulated_trajectories[i]\n",
    "\n",
    "        # Calculate the Euclidean distance between observed and simulated data\n",
    "        euclidean_distance = np.linalg.norm(observed_data - simulated_data)\n",
    "\n",
    "        # Accumulate the distances\n",
    "        total_distance += euclidean_distance\n",
    "\n",
    "    # Average the distances over all trajectories\n",
    "    average_distance = total_distance / num_trajectories\n",
    "\n",
    "    return average_distance"
   ]
  },
  {
   "cell_type": "markdown",
   "metadata": {},
   "source": [
    "Secondly we specify a smoothing kernel as a function of $\\epsilon$ as an alternative to a regular distance threshold cutoff"
   ]
  },
  {
   "cell_type": "code",
   "execution_count": 3,
   "metadata": {},
   "outputs": [
    {
     "data": {
      "text/plain": [
       "[<matplotlib.lines.Line2D at 0x7effe6e64110>]"
      ]
     },
     "execution_count": 3,
     "metadata": {},
     "output_type": "execute_result"
    },
    {
     "data": {
      "image/png": "[encoded data removed]",
      "text/plain": [
       "<Figure size 640x480 with 1 Axes>"
      ]
     },
     "metadata": {},
     "output_type": "display_data"
    }
   ],
   "source": [
    "#Visualise the smoothing kernel wrt epsilon\n",
    "       #We have a 0.135 chance of accepting above the threshold!\n",
    "import numpy as np\n",
    "from scipy.stats import norm\n",
    "import matplotlib.pyplot as plt\n",
    "fig, ax = plt.subplots(1, 1)\n",
    "epsilon = 150\n",
    "x = np.linspace(-epsilon, epsilon, 1000)\n",
    "normalising_factor = 1/norm.pdf(0, loc=0, scale = epsilon)\n",
    "ax.plot(x, norm.pdf(x, loc=0, scale=epsilon/2)*normalising_factor/2,\n",
    "\n",
    "       'r-', lw=5, alpha=0.6, label='norm pdf')"
   ]
  },
  {
   "cell_type": "code",
   "execution_count": 4,
   "metadata": {},
   "outputs": [
    {
     "data": {
      "text/plain": [
       "0.1353352832366127"
      ]
     },
     "execution_count": 4,
     "metadata": {},
     "output_type": "execute_result"
    }
   ],
   "source": [
    "epsilon = 150 #Results independent of epsilon\n",
    "norm.pdf(-epsilon, loc=0, scale=epsilon/2)*normalising_factor/2"
   ]
  },
  {
   "cell_type": "markdown",
   "metadata": {},
   "source": [
    "## We now specify the model, the ode solver, the true parameters and the true data"
   ]
  },
  {
   "cell_type": "code",
   "execution_count": null,
   "metadata": {},
   "outputs": [],
   "source": [
    "import numpy as np\n",
    "from tabulate import tabulate\n",
    "import matplotlib.pyplot as plt\n",
    "from scipy.integrate import odeint\n",
    "\n",
    "# Define the model\n",
    "def model(variables, t, params):\n",
    "    m1, p1, m2, p2, m3, p3 = variables\n",
    "    k1, k2 = params\n",
    "\n",
    "    dm1dt = -m1 + (10 ** 3 / (1 + (10 ** k1 * p2) ** 2)) + 1\n",
    "    dp1dt = -10 ** 0 * (p1 - m1)\n",
    "\n",
    "    dm2dt = -m2 + (10 ** 3 / (1 + (10 ** k2 * p3) ** 2)) + 1\n",
    "    dp2dt = -10 ** 0 * (p2 - m2)\n",
    "\n",
    "    dm3dt = -m3 + (10 ** 3 / (1 + (10 ** 0 * p1) ** 2)) + 1\n",
    "    dp3dt = -10 ** 0 * (p3 - m3)\n",
    "\n",
    "    return [dm1dt, dp1dt, dm2dt, dp2dt, dm3dt, dp3dt]\n",
    "\n",
    "#Define true parameters\n",
    "true_params = np.array([\n",
    "    0, 0  # first set of odes\n",
    "])\n",
    "\n",
    "#Define the solver using odeint\n",
    "def solve_ode(params, t):\n",
    "    initial_conditions = np.array([0, 1, 0, 3, 0, 2])\n",
    "    solution = odeint(model, initial_conditions, t, args=(params,))\n",
    "    return solution\n",
    "\n",
    "num_timesteps = 1000  # Number of time steps for simulation\n",
    "t = np.linspace(0, 100, num_timesteps) #Range of time of simulation\n",
    "true_data = solve_ode(true_params, t) #True trajectories\n",
    "\n",
    "epsilon = 100 # Error threshold used in kernel, restrictive\n",
    "num_samples = 10000  # Number of samples to draw"
   ]
  },
  {
   "cell_type": "markdown",
   "metadata": {},
   "source": [
    "# Try to infer $k_{1}$ and $k_{2}$ with a tight threshold of $\\epsilon = 100$"
   ]
  },
  {
   "cell_type": "markdown",
   "metadata": {},
   "source": [
    "Define REJ-ABC algorithm"
   ]
  },
  {
   "cell_type": "code",
   "execution_count": 7,
   "metadata": {},
   "outputs": [],
   "source": [
    "# ABC rejection\n",
    "from scipy.stats import norm\n",
    "def abc_rejection(true_params, epsilon, num_samples):\n",
    "    accepted_params = []\n",
    "    accepted_data = []  # Added to store simulated data for accepted parameters\n",
    "   \n",
    "    for _ in range(num_samples):\n",
    "        # Define prior and sample\n",
    "        sampled_params = np.random.uniform(low=-3, high=3, size=len(true_params)) #Wide priors\n",
    "       \n",
    "        # Generate synthetic data using samples\n",
    "        sampled_data = solve_ode(sampled_params, t)\n",
    "\n",
    "        distance = euclidean_distance_multiple_trajectories(true_data, sampled_data)\n",
    "        normalising_factor = 1/norm.pdf(0, loc=0, scale = epsilon)\n",
    "        smooth_threshold = norm.pdf(distance, loc=0, scale=epsilon/2)*normalising_factor/2\n",
    "        rdm_tmp = np.random.uniform(low=0, high=1, size=1)\n",
    "        if rdm_tmp < smooth_threshold: #If the random number is below the threshold, we accept it\n",
    "            accepted_params.append(sampled_params)\n",
    "            accepted_data.append(sampled_data)\n",
    "   \n",
    "    return np.array(accepted_params), np.array(accepted_data)\n",
    "\n"
   ]
  },
  {
   "cell_type": "code",
   "execution_count": null,
   "metadata": {},
   "outputs": [],
   "source": [
    "accepted_parameters, accepted_data = abc_rejection(true_params, epsilon, num_samples)"
   ]
  },
  {
   "cell_type": "markdown",
   "metadata": {},
   "source": [
    "Plot posteriors and inferred parameters"
   ]
  },
  {
   "cell_type": "code",
   "execution_count": null,
   "metadata": {},
   "outputs": [],
   "source": [
    "k1_accept = []\n",
    "k2_accept = []\n",
    "for i in range(len(accepted_parameters)):\n",
    "    k1_accept.append(accepted_parameters[i][0])\n",
    "    k2_accept.append(accepted_parameters[i][1])\n",
    "fig, ax = plt.subplots(figsize=(5,5))\n",
    "ax.scatter(k1_accept, k2_accept, color = \"green\") \n",
    "ax.set_xlabel(r\"$k_{1}$\", fontsize = 20) \n",
    "ax.set_ylabel(r\"$k_{2}$\", fontsize = 20) \n",
    "ax.set_xlim([-3, 3])\n",
    "ax.set_ylim([-3, 3])\n",
    "plt.show()"
   ]
  },
  {
   "cell_type": "code",
   "execution_count": null,
   "metadata": {},
   "outputs": [],
   "source": [
    "import seaborn as sns\n",
    "import pandas as pd\n",
    "plot_k = pd.DataFrame(data=np.array([k1_accept, k2_accept]), index=(r\"$k_{1}$\", r\"$k_{2}$\"))\n",
    "plot_k_t = pd.DataFrame.transpose(plot_k)\n",
    "sns.pairplot(plot_k_t, kind=\"kde\")"
   ]
  },
  {
   "cell_type": "code",
   "execution_count": null,
   "metadata": {},
   "outputs": [],
   "source": [
    "# Plot histograms\n",
    "fig, axs = plt.subplots(1, len(true_params), figsize=(15, 5), sharey=True)\n",
    "all_accepted_parameters_array = np.array(accepted_parameters)\n",
    "for i, param_name in enumerate(headers):\n",
    "    axs[i].hist(all_accepted_parameters_array[:, i], range=[-3, 3], bins=30,alpha=0.7, color='orange')\n",
    "    axs[i].set_xlabel(param_name)\n",
    "    axs[i].set_ylabel('Frequency')"
   ]
  },
  {
   "cell_type": "code",
   "execution_count": null,
   "metadata": {},
   "outputs": [],
   "source": []
  }
 ],
 "metadata": {
  "kernelspec": {
   "display_name": "Python 3",
   "language": "python",
   "name": "python3"
  },
  "language_info": {
   "codemirror_mode": {
    "name": "ipython",
    "version": 3
   },
   "file_extension": ".py",
   "mimetype": "text/x-python",
   "name": "python",
   "nbconvert_exporter": "python",
   "pygments_lexer": "ipython3",
   "version": "3.11.7"
  }
 },
 "nbformat": 4,
 "nbformat_minor": 2
}
